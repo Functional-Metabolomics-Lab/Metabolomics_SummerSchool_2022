{
 "cells": [
  {
   "cell_type": "markdown",
   "metadata": {
    "id": "7YovRYBxMd9_"
   },
   "source": [
    "# Unsupervised multivariate analyses: PCoA and PERMANOVA \n",
    "Authors: M Ernst, F Russo<br>\n",
    "Last update: August 5, 2022<br>\n",
    "\n",
    "In this notebook we will perform a Principal Coordinate Analysis (PCoA), also known as metric or classical Multidimensional Scaling (metric MDS) to explore and visualize patterns in an untargeted mass spectromtery-based metabolomics dataset. We will then assess statistical significance of the patterns and dispersion of different sample types using permutational multivariate analysis of variance (PERMANOVA). <br>\n",
    "\n",
    "<b>Data</b> <br>\n",
    "\n",
    "The files used in this tutorial are part of an interlab comparison study, where different laboratories around the world analysed same environmental samples on their respective LC-MS/MS equipments. To simulate algal bloom, standardized algae extracts (A) in marine dissovled organic matter (M) at different concentrations were prepared (450 (A45M); 150 (A15M); and 50 (A5M) ppm A). Samples were then shipped to different laboratories for untargeted LC-MS/MS metabolomics analysis. In this tutorial we are working with one of the datasets, which was acquired on a UHPLC system coupled to a Thermo Scientific Q Exactive HF Orbitrap LC-MS/MS mass spectrometer. MS/MS data were acquired in data-dependent acquisition (DDA) with fragmentation of the five most abundant ions in the spectrum per precursor scan. Data files were subsequently preprocessed using [MZmine3](http://mzmine.github.io/) and the [feature-based molecular networking workflow in GNPS](https://gnps.ucsd.edu/ProteoSAFe/status.jsp?task=d207c3a831264d61810ad69ac09b14e9).\n",
    "\n",
    "<b>Questions</b><br>\n",
    "- Can we monitor algal bloom by looking at metabolomic profiles of marine dissolved organic matter?<br>\n",
    "\n",
    "Install and load libraries"
   ]
  },
  {
   "cell_type": "code",
   "execution_count": 1,
   "metadata": {
    "colab": {
     "base_uri": "https://localhost:8080/"
    },
    "id": "o86IHBvTNPwj",
    "outputId": "71351a54-205a-4127-bd25-bc6c56e8a746",
    "vscode": {
     "languageId": "r"
    }
   },
   "outputs": [
    {
     "name": "stdout",
     "output_type": "stream",
     "text": [
      "\n",
      "The downloaded binary packages are in\n",
      "\t/var/folders/k7/zs6jm5h95875g74l66xfxq6m0000gn/T//RtmpHt7Ltz/downloaded_packages\n",
      "\n",
      "The downloaded binary packages are in\n",
      "\t/var/folders/k7/zs6jm5h95875g74l66xfxq6m0000gn/T//RtmpHt7Ltz/downloaded_packages\n"
     ]
    }
   ],
   "source": [
    "install.packages('vegan')\n",
    "install.packages('ggplot2')"
   ]
  },
  {
   "cell_type": "code",
   "execution_count": 2,
   "metadata": {
    "colab": {
     "base_uri": "https://localhost:8080/"
    },
    "id": "4Q3PYcXNNgxT",
    "outputId": "3c1456bf-4cd9-4fa6-dd5b-0887c4b4ee73",
    "vscode": {
     "languageId": "r"
    }
   },
   "outputs": [
    {
     "name": "stderr",
     "output_type": "stream",
     "text": [
      "Warning message:\n",
      "“package ‘vegan’ was built under R version 4.1.2”\n",
      "Loading required package: permute\n",
      "\n",
      "Loading required package: lattice\n",
      "\n",
      "This is vegan 2.6-2\n",
      "\n",
      "Warning message:\n",
      "“package ‘ggplot2’ was built under R version 4.1.2”\n"
     ]
    }
   ],
   "source": [
    "library(vegan)\n",
    "library(ggplot2)"
   ]
  },
  {
   "cell_type": "code",
   "execution_count": 3,
   "metadata": {
    "colab": {
     "base_uri": "https://localhost:8080/",
     "height": 35
    },
    "id": "jVzdaFMDVJas",
    "outputId": "bde37abd-37af-44d1-df9f-2ce6b5f5713b",
    "vscode": {
     "languageId": "r"
    }
   },
   "outputs": [
    {
     "data": {
      "text/plain": [
       "[1] \"2022-08-11 14:48:27 CEST\""
      ]
     },
     "metadata": {},
     "output_type": "display_data"
    }
   ],
   "source": [
    "# last update\n",
    "Sys.time()"
   ]
  },
  {
   "cell_type": "markdown",
   "metadata": {
    "id": "hnaLXeKnNqxC"
   },
   "source": [
    "Specify where the data can be found by providing urls for the feature table and metadata. Here, we import the files directly from GitHub but you can import them from your local computer or from Google Drive as well of course. We import the cleaned and imputed (but not normalized) feature tables."
   ]
  },
  {
   "cell_type": "code",
   "execution_count": 4,
   "metadata": {
    "id": "9Shuucq6NsoG",
    "vscode": {
     "languageId": "r"
    }
   },
   "outputs": [],
   "source": [
    "## feature table\n",
    "ft_url <- 'https://raw.githubusercontent.com/Functional-Metabolomics-Lab/Metabolomics_SummerSchool_2022/main/data/dom/processed/Imputed_QuantTable_filled_with_MinValue_8115_CutOff_Used_0.3.csv'\n",
    "## metadata\n",
    "md_url <- 'https://raw.githubusercontent.com/Functional-Metabolomics-Lab/Metabolomics_SummerSchool_2022/main/data/dom/metadata_lab15.txt'"
   ]
  },
  {
   "cell_type": "code",
   "execution_count": 5,
   "metadata": {
    "id": "LpUN0GZmOzg4",
    "vscode": {
     "languageId": "r"
    }
   },
   "outputs": [],
   "source": [
    "ft <- read.csv(ft_url, header = T, check.names = F, row.names = 1)\n",
    "md <- read.csv(md_url, header = T, check.names = F, sep = '\\t')"
   ]
  },
  {
   "cell_type": "code",
   "execution_count": 6,
   "metadata": {
    "colab": {
     "base_uri": "https://localhost:8080/",
     "height": 52
    },
    "id": "k8dRQfV2O2mH",
    "outputId": "b24fdc8a-d3a0-4537-cf0e-90256405c798",
    "vscode": {
     "languageId": "r"
    }
   },
   "outputs": [
    {
     "data": {
      "text/html": [
       "<style>\n",
       ".list-inline {list-style: none; margin:0; padding: 0}\n",
       ".list-inline>li {display: inline-block}\n",
       ".list-inline>li:not(:last-child)::after {content: \"\\00b7\"; padding: 0 .5ex}\n",
       "</style>\n",
       "<ol class=list-inline><li>4641</li><li>15</li></ol>\n"
      ],
      "text/latex": [
       "\\begin{enumerate*}\n",
       "\\item 4641\n",
       "\\item 15\n",
       "\\end{enumerate*}\n"
      ],
      "text/markdown": [
       "1. 4641\n",
       "2. 15\n",
       "\n",
       "\n"
      ],
      "text/plain": [
       "[1] 4641   15"
      ]
     },
     "metadata": {},
     "output_type": "display_data"
    },
    {
     "data": {
      "text/html": [
       "<style>\n",
       ".list-inline {list-style: none; margin:0; padding: 0}\n",
       ".list-inline>li {display: inline-block}\n",
       ".list-inline>li:not(:last-child)::after {content: \"\\00b7\"; padding: 0 .5ex}\n",
       "</style>\n",
       "<ol class=list-inline><li>16</li><li>4</li></ol>\n"
      ],
      "text/latex": [
       "\\begin{enumerate*}\n",
       "\\item 16\n",
       "\\item 4\n",
       "\\end{enumerate*}\n"
      ],
      "text/markdown": [
       "1. 16\n",
       "2. 4\n",
       "\n",
       "\n"
      ],
      "text/plain": [
       "[1] 16  4"
      ]
     },
     "metadata": {},
     "output_type": "display_data"
    }
   ],
   "source": [
    "dim(ft)\n",
    "dim(md)"
   ]
  },
  {
   "cell_type": "code",
   "execution_count": 7,
   "metadata": {
    "colab": {
     "base_uri": "https://localhost:8080/",
     "height": 149
    },
    "id": "AFtT5eBtQo3X",
    "outputId": "23cd2fd0-afb1-4248-ad31-a1db0e269f2a",
    "vscode": {
     "languageId": "r"
    }
   },
   "outputs": [
    {
     "data": {
      "text/html": [
       "<table class=\"dataframe\">\n",
       "<caption>A data.frame: 2 × 15</caption>\n",
       "<thead>\n",
       "\t<tr><th></th><th scope=col>DOM_Interlab-LCMS_Lab15_A_Pos_MS2_rep1.mzML</th><th scope=col>DOM_Interlab-LCMS_Lab15_A_Pos_MS2_rep2.mzML</th><th scope=col>DOM_Interlab-LCMS_Lab15_A_Pos_MS2_rep3.mzML</th><th scope=col>DOM_Interlab-LCMS_Lab15_A15M_Pos_MS2_rep1.mzML</th><th scope=col>DOM_Interlab-LCMS_Lab15_A15M_Pos_MS2_rep2.mzML</th><th scope=col>DOM_Interlab-LCMS_Lab15_A15M_Pos_MS2_rep3.mzML</th><th scope=col>DOM_Interlab-LCMS_Lab15_A45M_Pos_MS2_rep1.mzML</th><th scope=col>DOM_Interlab-LCMS_Lab15_A45M_Pos_MS2_rep2.mzML</th><th scope=col>DOM_Interlab-LCMS_Lab15_A45M_Pos_MS2_rep3.mzML</th><th scope=col>DOM_Interlab-LCMS_Lab15_A5M_Pos_MS2_rep1.mzML</th><th scope=col>DOM_Interlab-LCMS_Lab15_A5M_Pos_MS2_rep2.mzML</th><th scope=col>DOM_Interlab-LCMS_Lab15_A5M_Pos_MS2_rep3.mzML</th><th scope=col>DOM_Interlab-LCMS_Lab15_M_Pos_MS2_rep1.mzML</th><th scope=col>DOM_Interlab-LCMS_Lab15_M_Pos_MS2_rep2.mzML</th><th scope=col>DOM_Interlab-LCMS_Lab15_M_Pos_MS2_rep3.mzML</th></tr>\n",
       "\t<tr><th></th><th scope=col>&lt;dbl&gt;</th><th scope=col>&lt;dbl&gt;</th><th scope=col>&lt;dbl&gt;</th><th scope=col>&lt;dbl&gt;</th><th scope=col>&lt;dbl&gt;</th><th scope=col>&lt;dbl&gt;</th><th scope=col>&lt;dbl&gt;</th><th scope=col>&lt;dbl&gt;</th><th scope=col>&lt;dbl&gt;</th><th scope=col>&lt;dbl&gt;</th><th scope=col>&lt;dbl&gt;</th><th scope=col>&lt;dbl&gt;</th><th scope=col>&lt;dbl&gt;</th><th scope=col>&lt;dbl&gt;</th><th scope=col>&lt;dbl&gt;</th></tr>\n",
       "</thead>\n",
       "<tbody>\n",
       "\t<tr><th scope=row>725_152.071_3.252</th><td> 8115.00</td><td> 8115.00</td><td> 8115.00</td><td>75374.20</td><td>76915.33</td><td>77477.00</td><td>73175.08</td><td>72739.46</td><td>75286.51</td><td>59132.38</td><td>62091.97</td><td>63070.29</td><td>54793.090</td><td>65684.95</td><td>65077.08</td></tr>\n",
       "\t<tr><th scope=row>1105_152.107_4.734</th><td>73926.81</td><td>75761.62</td><td>79481.29</td><td>27020.12</td><td>34365.83</td><td>30656.02</td><td>47937.98</td><td>48518.27</td><td>53590.48</td><td>14726.92</td><td>13063.94</td><td>20211.17</td><td> 9119.948</td><td>12656.36</td><td>10552.45</td></tr>\n",
       "</tbody>\n",
       "</table>\n"
      ],
      "text/latex": [
       "A data.frame: 2 × 15\n",
       "\\begin{tabular}{r|lllllllllllllll}\n",
       "  & DOM\\_Interlab-LCMS\\_Lab15\\_A\\_Pos\\_MS2\\_rep1.mzML & DOM\\_Interlab-LCMS\\_Lab15\\_A\\_Pos\\_MS2\\_rep2.mzML & DOM\\_Interlab-LCMS\\_Lab15\\_A\\_Pos\\_MS2\\_rep3.mzML & DOM\\_Interlab-LCMS\\_Lab15\\_A15M\\_Pos\\_MS2\\_rep1.mzML & DOM\\_Interlab-LCMS\\_Lab15\\_A15M\\_Pos\\_MS2\\_rep2.mzML & DOM\\_Interlab-LCMS\\_Lab15\\_A15M\\_Pos\\_MS2\\_rep3.mzML & DOM\\_Interlab-LCMS\\_Lab15\\_A45M\\_Pos\\_MS2\\_rep1.mzML & DOM\\_Interlab-LCMS\\_Lab15\\_A45M\\_Pos\\_MS2\\_rep2.mzML & DOM\\_Interlab-LCMS\\_Lab15\\_A45M\\_Pos\\_MS2\\_rep3.mzML & DOM\\_Interlab-LCMS\\_Lab15\\_A5M\\_Pos\\_MS2\\_rep1.mzML & DOM\\_Interlab-LCMS\\_Lab15\\_A5M\\_Pos\\_MS2\\_rep2.mzML & DOM\\_Interlab-LCMS\\_Lab15\\_A5M\\_Pos\\_MS2\\_rep3.mzML & DOM\\_Interlab-LCMS\\_Lab15\\_M\\_Pos\\_MS2\\_rep1.mzML & DOM\\_Interlab-LCMS\\_Lab15\\_M\\_Pos\\_MS2\\_rep2.mzML & DOM\\_Interlab-LCMS\\_Lab15\\_M\\_Pos\\_MS2\\_rep3.mzML\\\\\n",
       "  & <dbl> & <dbl> & <dbl> & <dbl> & <dbl> & <dbl> & <dbl> & <dbl> & <dbl> & <dbl> & <dbl> & <dbl> & <dbl> & <dbl> & <dbl>\\\\\n",
       "\\hline\n",
       "\t725\\_152.071\\_3.252 &  8115.00 &  8115.00 &  8115.00 & 75374.20 & 76915.33 & 77477.00 & 73175.08 & 72739.46 & 75286.51 & 59132.38 & 62091.97 & 63070.29 & 54793.090 & 65684.95 & 65077.08\\\\\n",
       "\t1105\\_152.107\\_4.734 & 73926.81 & 75761.62 & 79481.29 & 27020.12 & 34365.83 & 30656.02 & 47937.98 & 48518.27 & 53590.48 & 14726.92 & 13063.94 & 20211.17 &  9119.948 & 12656.36 & 10552.45\\\\\n",
       "\\end{tabular}\n"
      ],
      "text/markdown": [
       "\n",
       "A data.frame: 2 × 15\n",
       "\n",
       "| <!--/--> | DOM_Interlab-LCMS_Lab15_A_Pos_MS2_rep1.mzML &lt;dbl&gt; | DOM_Interlab-LCMS_Lab15_A_Pos_MS2_rep2.mzML &lt;dbl&gt; | DOM_Interlab-LCMS_Lab15_A_Pos_MS2_rep3.mzML &lt;dbl&gt; | DOM_Interlab-LCMS_Lab15_A15M_Pos_MS2_rep1.mzML &lt;dbl&gt; | DOM_Interlab-LCMS_Lab15_A15M_Pos_MS2_rep2.mzML &lt;dbl&gt; | DOM_Interlab-LCMS_Lab15_A15M_Pos_MS2_rep3.mzML &lt;dbl&gt; | DOM_Interlab-LCMS_Lab15_A45M_Pos_MS2_rep1.mzML &lt;dbl&gt; | DOM_Interlab-LCMS_Lab15_A45M_Pos_MS2_rep2.mzML &lt;dbl&gt; | DOM_Interlab-LCMS_Lab15_A45M_Pos_MS2_rep3.mzML &lt;dbl&gt; | DOM_Interlab-LCMS_Lab15_A5M_Pos_MS2_rep1.mzML &lt;dbl&gt; | DOM_Interlab-LCMS_Lab15_A5M_Pos_MS2_rep2.mzML &lt;dbl&gt; | DOM_Interlab-LCMS_Lab15_A5M_Pos_MS2_rep3.mzML &lt;dbl&gt; | DOM_Interlab-LCMS_Lab15_M_Pos_MS2_rep1.mzML &lt;dbl&gt; | DOM_Interlab-LCMS_Lab15_M_Pos_MS2_rep2.mzML &lt;dbl&gt; | DOM_Interlab-LCMS_Lab15_M_Pos_MS2_rep3.mzML &lt;dbl&gt; |\n",
       "|---|---|---|---|---|---|---|---|---|---|---|---|---|---|---|---|\n",
       "| 725_152.071_3.252 |  8115.00 |  8115.00 |  8115.00 | 75374.20 | 76915.33 | 77477.00 | 73175.08 | 72739.46 | 75286.51 | 59132.38 | 62091.97 | 63070.29 | 54793.090 | 65684.95 | 65077.08 |\n",
       "| 1105_152.107_4.734 | 73926.81 | 75761.62 | 79481.29 | 27020.12 | 34365.83 | 30656.02 | 47937.98 | 48518.27 | 53590.48 | 14726.92 | 13063.94 | 20211.17 |  9119.948 | 12656.36 | 10552.45 |\n",
       "\n"
      ],
      "text/plain": [
       "                   DOM_Interlab-LCMS_Lab15_A_Pos_MS2_rep1.mzML\n",
       "725_152.071_3.252   8115.00                                   \n",
       "1105_152.107_4.734 73926.81                                   \n",
       "                   DOM_Interlab-LCMS_Lab15_A_Pos_MS2_rep2.mzML\n",
       "725_152.071_3.252   8115.00                                   \n",
       "1105_152.107_4.734 75761.62                                   \n",
       "                   DOM_Interlab-LCMS_Lab15_A_Pos_MS2_rep3.mzML\n",
       "725_152.071_3.252   8115.00                                   \n",
       "1105_152.107_4.734 79481.29                                   \n",
       "                   DOM_Interlab-LCMS_Lab15_A15M_Pos_MS2_rep1.mzML\n",
       "725_152.071_3.252  75374.20                                      \n",
       "1105_152.107_4.734 27020.12                                      \n",
       "                   DOM_Interlab-LCMS_Lab15_A15M_Pos_MS2_rep2.mzML\n",
       "725_152.071_3.252  76915.33                                      \n",
       "1105_152.107_4.734 34365.83                                      \n",
       "                   DOM_Interlab-LCMS_Lab15_A15M_Pos_MS2_rep3.mzML\n",
       "725_152.071_3.252  77477.00                                      \n",
       "1105_152.107_4.734 30656.02                                      \n",
       "                   DOM_Interlab-LCMS_Lab15_A45M_Pos_MS2_rep1.mzML\n",
       "725_152.071_3.252  73175.08                                      \n",
       "1105_152.107_4.734 47937.98                                      \n",
       "                   DOM_Interlab-LCMS_Lab15_A45M_Pos_MS2_rep2.mzML\n",
       "725_152.071_3.252  72739.46                                      \n",
       "1105_152.107_4.734 48518.27                                      \n",
       "                   DOM_Interlab-LCMS_Lab15_A45M_Pos_MS2_rep3.mzML\n",
       "725_152.071_3.252  75286.51                                      \n",
       "1105_152.107_4.734 53590.48                                      \n",
       "                   DOM_Interlab-LCMS_Lab15_A5M_Pos_MS2_rep1.mzML\n",
       "725_152.071_3.252  59132.38                                     \n",
       "1105_152.107_4.734 14726.92                                     \n",
       "                   DOM_Interlab-LCMS_Lab15_A5M_Pos_MS2_rep2.mzML\n",
       "725_152.071_3.252  62091.97                                     \n",
       "1105_152.107_4.734 13063.94                                     \n",
       "                   DOM_Interlab-LCMS_Lab15_A5M_Pos_MS2_rep3.mzML\n",
       "725_152.071_3.252  63070.29                                     \n",
       "1105_152.107_4.734 20211.17                                     \n",
       "                   DOM_Interlab-LCMS_Lab15_M_Pos_MS2_rep1.mzML\n",
       "725_152.071_3.252  54793.090                                  \n",
       "1105_152.107_4.734  9119.948                                  \n",
       "                   DOM_Interlab-LCMS_Lab15_M_Pos_MS2_rep2.mzML\n",
       "725_152.071_3.252  65684.95                                   \n",
       "1105_152.107_4.734 12656.36                                   \n",
       "                   DOM_Interlab-LCMS_Lab15_M_Pos_MS2_rep3.mzML\n",
       "725_152.071_3.252  65077.08                                   \n",
       "1105_152.107_4.734 10552.45                                   "
      ]
     },
     "metadata": {},
     "output_type": "display_data"
    }
   ],
   "source": [
    "head(ft, n=2)"
   ]
  },
  {
   "cell_type": "code",
   "execution_count": 8,
   "metadata": {
    "colab": {
     "base_uri": "https://localhost:8080/",
     "height": 161
    },
    "id": "6jShpOv-Qrvn",
    "outputId": "f2ffb748-2699-477e-8822-72206422aa77",
    "vscode": {
     "languageId": "r"
    }
   },
   "outputs": [
    {
     "data": {
      "text/html": [
       "<table class=\"dataframe\">\n",
       "<caption>A data.frame: 2 × 4</caption>\n",
       "<thead>\n",
       "\t<tr><th></th><th scope=col>filename</th><th scope=col>ATTRIBUTE_Sample</th><th scope=col>ATTRIBUTE_Sample_Type</th><th scope=col>ATTRIBUTE_Time-Point</th></tr>\n",
       "\t<tr><th></th><th scope=col>&lt;chr&gt;</th><th scope=col>&lt;chr&gt;</th><th scope=col>&lt;chr&gt;</th><th scope=col>&lt;int&gt;</th></tr>\n",
       "</thead>\n",
       "<tbody>\n",
       "\t<tr><th scope=row>1</th><td>DOM_Interlab-LCMS_Lab15_A15M_Pos_MS2_rep1.mzML</td><td>A15M</td><td>Sample</td><td>15</td></tr>\n",
       "\t<tr><th scope=row>2</th><td>DOM_Interlab-LCMS_Lab15_A15M_Pos_MS2_rep2.mzML</td><td>A15M</td><td>Sample</td><td>15</td></tr>\n",
       "</tbody>\n",
       "</table>\n"
      ],
      "text/latex": [
       "A data.frame: 2 × 4\n",
       "\\begin{tabular}{r|llll}\n",
       "  & filename & ATTRIBUTE\\_Sample & ATTRIBUTE\\_Sample\\_Type & ATTRIBUTE\\_Time-Point\\\\\n",
       "  & <chr> & <chr> & <chr> & <int>\\\\\n",
       "\\hline\n",
       "\t1 & DOM\\_Interlab-LCMS\\_Lab15\\_A15M\\_Pos\\_MS2\\_rep1.mzML & A15M & Sample & 15\\\\\n",
       "\t2 & DOM\\_Interlab-LCMS\\_Lab15\\_A15M\\_Pos\\_MS2\\_rep2.mzML & A15M & Sample & 15\\\\\n",
       "\\end{tabular}\n"
      ],
      "text/markdown": [
       "\n",
       "A data.frame: 2 × 4\n",
       "\n",
       "| <!--/--> | filename &lt;chr&gt; | ATTRIBUTE_Sample &lt;chr&gt; | ATTRIBUTE_Sample_Type &lt;chr&gt; | ATTRIBUTE_Time-Point &lt;int&gt; |\n",
       "|---|---|---|---|---|\n",
       "| 1 | DOM_Interlab-LCMS_Lab15_A15M_Pos_MS2_rep1.mzML | A15M | Sample | 15 |\n",
       "| 2 | DOM_Interlab-LCMS_Lab15_A15M_Pos_MS2_rep2.mzML | A15M | Sample | 15 |\n",
       "\n"
      ],
      "text/plain": [
       "  filename                                       ATTRIBUTE_Sample\n",
       "1 DOM_Interlab-LCMS_Lab15_A15M_Pos_MS2_rep1.mzML A15M            \n",
       "2 DOM_Interlab-LCMS_Lab15_A15M_Pos_MS2_rep2.mzML A15M            \n",
       "  ATTRIBUTE_Sample_Type ATTRIBUTE_Time-Point\n",
       "1 Sample                15                  \n",
       "2 Sample                15                  "
      ]
     },
     "metadata": {},
     "output_type": "display_data"
    }
   ],
   "source": [
    "head(md, n=2)"
   ]
  },
  {
   "cell_type": "markdown",
   "metadata": {
    "id": "PHm6jBB_PCZT"
   },
   "source": [
    "<b>Bring featuretable and metadata in the correct format:</b><br>"
   ]
  },
  {
   "cell_type": "markdown",
   "metadata": {},
   "source": [
    "As the purpose of the experiment is to test whether algal bloom could be monitored using metabolomics, we will remove all samples containing the pure algae extract (A)."
   ]
  },
  {
   "cell_type": "code",
   "execution_count": 9,
   "metadata": {},
   "outputs": [],
   "source": [
    "ft <- ft[,-grep('_A_',colnames(ft))]"
   ]
  },
  {
   "cell_type": "code",
   "execution_count": 10,
   "metadata": {},
   "outputs": [],
   "source": [
    "# some metabolic features are only present in A samples, we will thus remove all rows which have a mean minimum value equal to the minimum value in the feature table (as we imputed 0s)\n",
    "ft <- ft[-which(rowMeans(ft) == min(ft)),]"
   ]
  },
  {
   "cell_type": "code",
   "execution_count": 11,
   "metadata": {
    "id": "HTGAa-vLO-IC",
    "vscode": {
     "languageId": "r"
    }
   },
   "outputs": [],
   "source": [
    "# name rows in metadata after filenames\n",
    "rownames(md) <- md$filename"
   ]
  },
  {
   "cell_type": "code",
   "execution_count": 12,
   "metadata": {
    "colab": {
     "base_uri": "https://localhost:8080/",
     "height": 71
    },
    "id": "Y5eMYkamPgOI",
    "outputId": "32d66409-d163-45d8-83db-dadf0aa0d8b0",
    "vscode": {
     "languageId": "r"
    }
   },
   "outputs": [
    {
     "data": {
      "text/plain": [
       "\n",
       "FALSE  TRUE \n",
       "    4    12 "
      ]
     },
     "metadata": {},
     "output_type": "display_data"
    }
   ],
   "source": [
    "# how many files in the metadata are also present in the feature table\n",
    "table(rownames(md) %in% colnames(ft))"
   ]
  },
  {
   "cell_type": "code",
   "execution_count": 13,
   "metadata": {
    "colab": {
     "base_uri": "https://localhost:8080/",
     "height": 34
    },
    "id": "GaIIA_MfPsYV",
    "outputId": "983d1e11-e206-4b71-b246-ecbb83838f4b",
    "vscode": {
     "languageId": "r"
    }
   },
   "outputs": [
    {
     "data": {
      "text/html": [
       "<style>\n",
       ".list-inline {list-style: none; margin:0; padding: 0}\n",
       ".list-inline>li {display: inline-block}\n",
       ".list-inline>li:not(:last-child)::after {content: \"\\00b7\"; padding: 0 .5ex}\n",
       "</style>\n",
       "<ol class=list-inline><li>'DOM_Interlab-LCMS_Lab15_A_Pos_MS2_rep1.mzML'</li><li>'DOM_Interlab-LCMS_Lab15_A_Pos_MS2_rep2.mzML'</li><li>'DOM_Interlab-LCMS_Lab15_A_Pos_MS2_rep3.mzML'</li><li>'DOM_Interlab-LCMS_Lab15_PPL_Pos_MS2.mzML'</li></ol>\n"
      ],
      "text/latex": [
       "\\begin{enumerate*}\n",
       "\\item 'DOM\\_Interlab-LCMS\\_Lab15\\_A\\_Pos\\_MS2\\_rep1.mzML'\n",
       "\\item 'DOM\\_Interlab-LCMS\\_Lab15\\_A\\_Pos\\_MS2\\_rep2.mzML'\n",
       "\\item 'DOM\\_Interlab-LCMS\\_Lab15\\_A\\_Pos\\_MS2\\_rep3.mzML'\n",
       "\\item 'DOM\\_Interlab-LCMS\\_Lab15\\_PPL\\_Pos\\_MS2.mzML'\n",
       "\\end{enumerate*}\n"
      ],
      "text/markdown": [
       "1. 'DOM_Interlab-LCMS_Lab15_A_Pos_MS2_rep1.mzML'\n",
       "2. 'DOM_Interlab-LCMS_Lab15_A_Pos_MS2_rep2.mzML'\n",
       "3. 'DOM_Interlab-LCMS_Lab15_A_Pos_MS2_rep3.mzML'\n",
       "4. 'DOM_Interlab-LCMS_Lab15_PPL_Pos_MS2.mzML'\n",
       "\n",
       "\n"
      ],
      "text/plain": [
       "[1] \"DOM_Interlab-LCMS_Lab15_A_Pos_MS2_rep1.mzML\"\n",
       "[2] \"DOM_Interlab-LCMS_Lab15_A_Pos_MS2_rep2.mzML\"\n",
       "[3] \"DOM_Interlab-LCMS_Lab15_A_Pos_MS2_rep3.mzML\"\n",
       "[4] \"DOM_Interlab-LCMS_Lab15_PPL_Pos_MS2.mzML\"   "
      ]
     },
     "metadata": {},
     "output_type": "display_data"
    }
   ],
   "source": [
    "# which file names in the metadata are not in the feature table?\n",
    "setdiff(rownames(md),colnames(ft))"
   ]
  },
  {
   "cell_type": "markdown",
   "metadata": {},
   "source": [
    "The blank sample 'DOM_Interlab-LCMS_Lab15_PPL_Pos_MS2.mzML' and all algae extract samples are not in the feature table, we thus remove it also from the metadata "
   ]
  },
  {
   "cell_type": "code",
   "execution_count": 14,
   "metadata": {
    "id": "QEop0RRMPuIm",
    "vscode": {
     "languageId": "r"
    }
   },
   "outputs": [],
   "source": [
    "md <- md[rownames(md) %in% colnames(ft),]"
   ]
  },
  {
   "cell_type": "code",
   "execution_count": 15,
   "metadata": {
    "colab": {
     "base_uri": "https://localhost:8080/",
     "height": 34
    },
    "id": "WSGyu7k8Px4M",
    "outputId": "21cbabc1-c141-49f0-b722-cd2a8730dcdd",
    "vscode": {
     "languageId": "r"
    }
   },
   "outputs": [
    {
     "data": {
      "text/html": [
       "<style>\n",
       ".list-inline {list-style: none; margin:0; padding: 0}\n",
       ".list-inline>li {display: inline-block}\n",
       ".list-inline>li:not(:last-child)::after {content: \"\\00b7\"; padding: 0 .5ex}\n",
       "</style>\n",
       "<ol class=list-inline><li>12</li><li>4</li></ol>\n"
      ],
      "text/latex": [
       "\\begin{enumerate*}\n",
       "\\item 12\n",
       "\\item 4\n",
       "\\end{enumerate*}\n"
      ],
      "text/markdown": [
       "1. 12\n",
       "2. 4\n",
       "\n",
       "\n"
      ],
      "text/plain": [
       "[1] 12  4"
      ]
     },
     "metadata": {},
     "output_type": "display_data"
    }
   ],
   "source": [
    "dim(md)"
   ]
  },
  {
   "cell_type": "code",
   "execution_count": 16,
   "metadata": {
    "id": "3P87mgP4Qfas",
    "vscode": {
     "languageId": "r"
    }
   },
   "outputs": [],
   "source": [
    "# transpose ft\n",
    "ft <- t(ft)"
   ]
  },
  {
   "cell_type": "code",
   "execution_count": 17,
   "metadata": {
    "colab": {
     "base_uri": "https://localhost:8080/",
     "height": 34
    },
    "id": "EyuDHUSIQhdH",
    "outputId": "44bb7feb-d13f-4fa0-ff1d-c7326b1a9897",
    "vscode": {
     "languageId": "r"
    }
   },
   "outputs": [
    {
     "data": {
      "text/html": [
       "<style>\n",
       ".list-inline {list-style: none; margin:0; padding: 0}\n",
       ".list-inline>li {display: inline-block}\n",
       ".list-inline>li:not(:last-child)::after {content: \"\\00b7\"; padding: 0 .5ex}\n",
       "</style>\n",
       "<ol class=list-inline><li>12</li><li>4338</li></ol>\n"
      ],
      "text/latex": [
       "\\begin{enumerate*}\n",
       "\\item 12\n",
       "\\item 4338\n",
       "\\end{enumerate*}\n"
      ],
      "text/markdown": [
       "1. 12\n",
       "2. 4338\n",
       "\n",
       "\n"
      ],
      "text/plain": [
       "[1]   12 4338"
      ]
     },
     "metadata": {},
     "output_type": "display_data"
    }
   ],
   "source": [
    "dim(ft)"
   ]
  },
  {
   "cell_type": "markdown",
   "metadata": {
    "id": "JxkAO5oHQAXW"
   },
   "source": [
    "<b>Principal coordinates analysis (PCoA)</b><br>\n",
    "\n",
    "Principal coordinates analysis (PCoA) is a metric multidimensional scaling (MDS) method that attempts to represent sample dissimilarities in a low-dimensional space. It converts a distance matrix consisting of pair-wise distances (dissimilarities) across samples into a 2- or 3-D graph ([Gower, 2005](https://onlinelibrary.wiley.com/doi/10.1002/0470011815.b2a13070)). Different distance metrics can be used to calculate dissimilarities among samples (e.g. Euclidean, Canberra, Minkowski). Performing a principal coordinates analysis using the Euclidean distance metric is the same as performing a principal components analysis (PCA). The selection of the most appropriate metric depends on the nature of your data and assumptions made by the metric.<br>\n",
    "\n",
    "Within the metabolomics field the Euclidean, Bray-Curtis, Jaccard or Canberra distances are most commonly used. The Jaccard distance is an unweighted metric (presence/absence) whereas Euclidean, Bray-Curtis and Canberra distances take into account relative abundances (weighted). Some metrics may be better suited for very sparse data (with many zeroes) than others. For example, the Euclidean distance metric is not recommended to be used for highly sparse data. <br>\n",
    "\n",
    "This video tutorial by StatQuest summarizes nicely the basic principles of PCoA: https://www.youtube.com/watch?v=GEn-_dAyYME<br>"
   ]
  },
  {
   "cell_type": "markdown",
   "metadata": {},
   "source": [
    "In order to perform a PCoA as described below, it is important that the filenames in our metadata are identical as well as in the same order as the filenames in our feature table. Let's make sure this is true, using the below code (this should return TRUE)."
   ]
  },
  {
   "cell_type": "code",
   "execution_count": 18,
   "metadata": {
    "colab": {
     "base_uri": "https://localhost:8080/",
     "height": 52
    },
    "id": "5NxWM-OlP0ZS",
    "outputId": "190951ab-3a86-4d3c-a993-87b357c8f93d",
    "vscode": {
     "languageId": "r"
    }
   },
   "outputs": [
    {
     "data": {
      "text/html": [
       "TRUE"
      ],
      "text/latex": [
       "TRUE"
      ],
      "text/markdown": [
       "TRUE"
      ],
      "text/plain": [
       "[1] TRUE"
      ]
     },
     "metadata": {},
     "output_type": "display_data"
    },
    {
     "data": {
      "text/html": [
       "TRUE"
      ],
      "text/latex": [
       "TRUE"
      ],
      "text/markdown": [
       "TRUE"
      ],
      "text/plain": [
       "[1] TRUE"
      ]
     },
     "metadata": {},
     "output_type": "display_data"
    }
   ],
   "source": [
    "identical(rownames(ft),rownames(md))\n",
    "# put the rows in the feature table and metadata in the same order\n",
    "ft <- ft[match(rownames(md),rownames(ft)),]\n",
    "identical(rownames(ft),rownames(md))"
   ]
  },
  {
   "cell_type": "markdown",
   "metadata": {
    "id": "-5XUNzYnR8Mm"
   },
   "source": [
    "Now, let's scale and center the data."
   ]
  },
  {
   "cell_type": "code",
   "execution_count": 19,
   "metadata": {
    "id": "QEBGMVlKR-qk",
    "vscode": {
     "languageId": "r"
    }
   },
   "outputs": [],
   "source": [
    "fts <- scale(ft, scale = TRUE, center = TRUE)"
   ]
  },
  {
   "cell_type": "markdown",
   "metadata": {
    "id": "oidOJDyNQ6Sg"
   },
   "source": [
    "Next, we will calculate pairwise distances across all samples using the Euclidean distance metric."
   ]
  },
  {
   "cell_type": "code",
   "execution_count": 20,
   "metadata": {
    "id": "OS1M2TFlQ3F9",
    "vscode": {
     "languageId": "r"
    }
   },
   "outputs": [],
   "source": [
    "distm <- dist(fts, method = 'euclidean')"
   ]
  },
  {
   "cell_type": "markdown",
   "metadata": {
    "id": "g4vHSJaURCe8"
   },
   "source": [
    "All pairwise Euclidean distances are now stored within our distance (dissimilarity) matrix (distm). The distance matrix is then used as input for the PCoA. At first, we here color samples according to the sample types (ATTRIBUTE_Sample within our metadata)"
   ]
  },
  {
   "cell_type": "code",
   "execution_count": 21,
   "metadata": {
    "colab": {
     "base_uri": "https://localhost:8080/",
     "height": 71
    },
    "id": "gkYjHYV6S42g",
    "outputId": "3d0ab12a-0b46-4f9d-dfa2-40b4447d16b1",
    "vscode": {
     "languageId": "r"
    }
   },
   "outputs": [
    {
     "data": {
      "text/plain": [
       "\n",
       "A15M A45M  A5M    M \n",
       "   3    3    3    3 "
      ]
     },
     "metadata": {},
     "output_type": "display_data"
    },
    {
     "data": {
      "text/plain": [
       "\n",
       "Sample \n",
       "    12 "
      ]
     },
     "metadata": {},
     "output_type": "display_data"
    },
    {
     "data": {
      "text/plain": [
       "\n",
       " 0  5 15 45 \n",
       " 3  3  3  3 "
      ]
     },
     "metadata": {},
     "output_type": "display_data"
    }
   ],
   "source": [
    "table(md$ATTRIBUTE_Sample)\n",
    "table(md$ATTRIBUTE_Sample_Type)\n",
    "table(md$'ATTRIBUTE_Time-Point')"
   ]
  },
  {
   "cell_type": "code",
   "execution_count": 22,
   "metadata": {
    "id": "MsTOm8C_RWzQ",
    "vscode": {
     "languageId": "r"
    }
   },
   "outputs": [],
   "source": [
    "PcoA <- cmdscale(distm, k =2, eig = T, add = T)\n",
    "PcoA_points <- as.data.frame(PcoA$points)\n",
    "variance <- round(PcoA$eig*100/sum(PcoA$eig),1)\n",
    "names(PcoA_points)[1:2] <- c('PCoA1', 'PCoA2')"
   ]
  },
  {
   "cell_type": "code",
   "execution_count": 23,
   "metadata": {
    "colab": {
     "base_uri": "https://localhost:8080/",
     "height": 286
    },
    "id": "ZU4MSaGrSiUk",
    "outputId": "549516f2-ef80-40db-854f-bbdba5e899f7",
    "vscode": {
     "languageId": "r"
    }
   },
   "outputs": [
    {
     "data": {
      "text/html": [
       "<table class=\"dataframe\">\n",
       "<caption>A data.frame: 6 × 2</caption>\n",
       "<thead>\n",
       "\t<tr><th></th><th scope=col>PCoA1</th><th scope=col>PCoA2</th></tr>\n",
       "\t<tr><th></th><th scope=col>&lt;dbl&gt;</th><th scope=col>&lt;dbl&gt;</th></tr>\n",
       "</thead>\n",
       "<tbody>\n",
       "\t<tr><th scope=row>DOM_Interlab-LCMS_Lab15_A15M_Pos_MS2_rep1.mzML</th><td>  1.6384563</td><td>-40.771767</td></tr>\n",
       "\t<tr><th scope=row>DOM_Interlab-LCMS_Lab15_A15M_Pos_MS2_rep2.mzML</th><td>  1.0918110</td><td>-43.804022</td></tr>\n",
       "\t<tr><th scope=row>DOM_Interlab-LCMS_Lab15_A15M_Pos_MS2_rep3.mzML</th><td>  0.6193908</td><td>-41.129378</td></tr>\n",
       "\t<tr><th scope=row>DOM_Interlab-LCMS_Lab15_A45M_Pos_MS2_rep1.mzML</th><td>-68.1216015</td><td> 16.938865</td></tr>\n",
       "\t<tr><th scope=row>DOM_Interlab-LCMS_Lab15_A45M_Pos_MS2_rep2.mzML</th><td>-68.5259797</td><td> 14.737598</td></tr>\n",
       "\t<tr><th scope=row>DOM_Interlab-LCMS_Lab15_A45M_Pos_MS2_rep3.mzML</th><td>-67.0037965</td><td>  8.841741</td></tr>\n",
       "</tbody>\n",
       "</table>\n"
      ],
      "text/latex": [
       "A data.frame: 6 × 2\n",
       "\\begin{tabular}{r|ll}\n",
       "  & PCoA1 & PCoA2\\\\\n",
       "  & <dbl> & <dbl>\\\\\n",
       "\\hline\n",
       "\tDOM\\_Interlab-LCMS\\_Lab15\\_A15M\\_Pos\\_MS2\\_rep1.mzML &   1.6384563 & -40.771767\\\\\n",
       "\tDOM\\_Interlab-LCMS\\_Lab15\\_A15M\\_Pos\\_MS2\\_rep2.mzML &   1.0918110 & -43.804022\\\\\n",
       "\tDOM\\_Interlab-LCMS\\_Lab15\\_A15M\\_Pos\\_MS2\\_rep3.mzML &   0.6193908 & -41.129378\\\\\n",
       "\tDOM\\_Interlab-LCMS\\_Lab15\\_A45M\\_Pos\\_MS2\\_rep1.mzML & -68.1216015 &  16.938865\\\\\n",
       "\tDOM\\_Interlab-LCMS\\_Lab15\\_A45M\\_Pos\\_MS2\\_rep2.mzML & -68.5259797 &  14.737598\\\\\n",
       "\tDOM\\_Interlab-LCMS\\_Lab15\\_A45M\\_Pos\\_MS2\\_rep3.mzML & -67.0037965 &   8.841741\\\\\n",
       "\\end{tabular}\n"
      ],
      "text/markdown": [
       "\n",
       "A data.frame: 6 × 2\n",
       "\n",
       "| <!--/--> | PCoA1 &lt;dbl&gt; | PCoA2 &lt;dbl&gt; |\n",
       "|---|---|---|\n",
       "| DOM_Interlab-LCMS_Lab15_A15M_Pos_MS2_rep1.mzML |   1.6384563 | -40.771767 |\n",
       "| DOM_Interlab-LCMS_Lab15_A15M_Pos_MS2_rep2.mzML |   1.0918110 | -43.804022 |\n",
       "| DOM_Interlab-LCMS_Lab15_A15M_Pos_MS2_rep3.mzML |   0.6193908 | -41.129378 |\n",
       "| DOM_Interlab-LCMS_Lab15_A45M_Pos_MS2_rep1.mzML | -68.1216015 |  16.938865 |\n",
       "| DOM_Interlab-LCMS_Lab15_A45M_Pos_MS2_rep2.mzML | -68.5259797 |  14.737598 |\n",
       "| DOM_Interlab-LCMS_Lab15_A45M_Pos_MS2_rep3.mzML | -67.0037965 |   8.841741 |\n",
       "\n"
      ],
      "text/plain": [
       "                                               PCoA1       PCoA2     \n",
       "DOM_Interlab-LCMS_Lab15_A15M_Pos_MS2_rep1.mzML   1.6384563 -40.771767\n",
       "DOM_Interlab-LCMS_Lab15_A15M_Pos_MS2_rep2.mzML   1.0918110 -43.804022\n",
       "DOM_Interlab-LCMS_Lab15_A15M_Pos_MS2_rep3.mzML   0.6193908 -41.129378\n",
       "DOM_Interlab-LCMS_Lab15_A45M_Pos_MS2_rep1.mzML -68.1216015  16.938865\n",
       "DOM_Interlab-LCMS_Lab15_A45M_Pos_MS2_rep2.mzML -68.5259797  14.737598\n",
       "DOM_Interlab-LCMS_Lab15_A45M_Pos_MS2_rep3.mzML -67.0037965   8.841741"
      ]
     },
     "metadata": {},
     "output_type": "display_data"
    }
   ],
   "source": [
    "head(PcoA_points)"
   ]
  },
  {
   "cell_type": "code",
   "execution_count": 24,
   "metadata": {
    "colab": {
     "base_uri": "https://localhost:8080/",
     "height": 34
    },
    "id": "SoUi7x8DSXLI",
    "outputId": "f9086dd3-5429-42dc-bada-07188252cc07",
    "vscode": {
     "languageId": "r"
    }
   },
   "outputs": [
    {
     "data": {
      "text/html": [
       "TRUE"
      ],
      "text/latex": [
       "TRUE"
      ],
      "text/markdown": [
       "TRUE"
      ],
      "text/plain": [
       "[1] TRUE"
      ]
     },
     "metadata": {},
     "output_type": "display_data"
    }
   ],
   "source": [
    "identical(rownames(PcoA_points), rownames(md))"
   ]
  },
  {
   "cell_type": "markdown",
   "metadata": {
    "id": "LG2IQks8RmPl"
   },
   "source": [
    "Using the [ggplot2](https://cran.r-project.org/web/packages/ggplot2/index.html) library, we can plot our PCoA using the Euclidean distance (=PCA)."
   ]
  },
  {
   "cell_type": "code",
   "execution_count": 25,
   "metadata": {
    "colab": {
     "base_uri": "https://localhost:8080/",
     "height": 437
    },
    "id": "Z-Mz260kRi7W",
    "outputId": "9ad64ef4-bcfc-4d32-9f63-bc14104500d2",
    "vscode": {
     "languageId": "r"
    }
   },
   "outputs": [
    {
     "data": {
      "image/png": "[encoded data removed]",
      "text/plain": [
       "plot without title"
      ]
     },
     "metadata": {
      "image/png": {
       "height": 420,
       "width": 420
      }
     },
     "output_type": "display_data"
    }
   ],
   "source": [
    "ggplot(PcoA_points, aes(x = PCoA1, y = PCoA2, colour = md$ATTRIBUTE_Sample, label = row.names(PcoA))) + geom_point(size=2.5) +\n",
    "            scale_colour_manual(values = c('orange','darkgreen','red','blue','black')) +\n",
    "            xlab(paste('PCoA1',variance[1],'%', sep = ' ')) +\n",
    "            ylab(paste('PCoA2',variance[2],'%', sep = ' ')) +\n",
    "            theme(legend.title=element_blank())"
   ]
  },
  {
   "cell_type": "markdown",
   "metadata": {
    "id": "O7S1pZZMTt-I"
   },
   "source": [
    "It looks like there is a strong separation between the different dilutions of the algae extract (A45, A15, A5, and M). But is the separation significant? Let's perform a permutational multivariate analysis of variance (PERMANOVA) to find out!"
   ]
  },
  {
   "cell_type": "markdown",
   "metadata": {
    "id": "64w8VO0cT1ha"
   },
   "source": [
    "<b>Permutational multivariate analysis of variance (PERMANOVA)</b><br>\n",
    "\n",
    "Permutational multivariate analysis of variance (PERMANOVA) is a non-parametric method for multivariate analysis of variance, where P-values are obtained using permutations. The metric was originally developed within the field of ecology ([Anderson, 2008](https://onlinelibrary.wiley.com/doi/full/10.1002/9781118445112.stat07841)) but is today widely used in other fields, including the microbiome and metabolomics field. PERMANOVA is used to compare groups of samples and tests whether the centroid and/or the spread of the samples is different between the groups.<br>\n",
    "\n",
    "The adonis2() function in the [vegan package](https://cran.r-project.org/web/packages/vegan/index.html) can be used to perform a PERMANOVA. The input is any dissimilarity matrix and the test-statistic retrieved is a multivariate analogue to Fisher's F-ratio as well as an R2 value (Adonis R2)."
   ]
  },
  {
   "cell_type": "code",
   "execution_count": 26,
   "metadata": {
    "id": "UX_f6Z-KTyvd",
    "vscode": {
     "languageId": "r"
    }
   },
   "outputs": [],
   "source": [
    "adonres <- adonis2(distm ~ md[,colnames(md) == 'ATTRIBUTE_Sample'])"
   ]
  },
  {
   "cell_type": "code",
   "execution_count": 27,
   "metadata": {
    "colab": {
     "base_uri": "https://localhost:8080/",
     "height": 192
    },
    "id": "0UY3vo63T_Bf",
    "outputId": "c877d981-1f0f-4916-805e-45f1395eef68",
    "vscode": {
     "languageId": "r"
    }
   },
   "outputs": [
    {
     "data": {
      "text/html": [
       "<table class=\"dataframe\">\n",
       "<caption>A anova.cca: 3 × 5</caption>\n",
       "<thead>\n",
       "\t<tr><th></th><th scope=col>Df</th><th scope=col>SumOfSqs</th><th scope=col>R2</th><th scope=col>F</th><th scope=col>Pr(&gt;F)</th></tr>\n",
       "\t<tr><th></th><th scope=col>&lt;dbl&gt;</th><th scope=col>&lt;dbl&gt;</th><th scope=col>&lt;dbl&gt;</th><th scope=col>&lt;dbl&gt;</th><th scope=col>&lt;dbl&gt;</th></tr>\n",
       "</thead>\n",
       "<tbody>\n",
       "\t<tr><th scope=row>md[, colnames(md) == \"ATTRIBUTE_Sample\"]</th><td> 3</td><td>29942.85</td><td>0.627496</td><td>4.492093</td><td>0.001</td></tr>\n",
       "\t<tr><th scope=row>Residual</th><td> 8</td><td>17775.15</td><td>0.372504</td><td>      NA</td><td>   NA</td></tr>\n",
       "\t<tr><th scope=row>Total</th><td>11</td><td>47718.00</td><td>1.000000</td><td>      NA</td><td>   NA</td></tr>\n",
       "</tbody>\n",
       "</table>\n"
      ],
      "text/latex": [
       "A anova.cca: 3 × 5\n",
       "\\begin{tabular}{r|lllll}\n",
       "  & Df & SumOfSqs & R2 & F & Pr(>F)\\\\\n",
       "  & <dbl> & <dbl> & <dbl> & <dbl> & <dbl>\\\\\n",
       "\\hline\n",
       "\tmd{[}, colnames(md) == \"ATTRIBUTE\\_Sample\"{]} &  3 & 29942.85 & 0.627496 & 4.492093 & 0.001\\\\\n",
       "\tResidual &  8 & 17775.15 & 0.372504 &       NA &    NA\\\\\n",
       "\tTotal & 11 & 47718.00 & 1.000000 &       NA &    NA\\\\\n",
       "\\end{tabular}\n"
      ],
      "text/markdown": [
       "\n",
       "A anova.cca: 3 × 5\n",
       "\n",
       "| <!--/--> | Df &lt;dbl&gt; | SumOfSqs &lt;dbl&gt; | R2 &lt;dbl&gt; | F &lt;dbl&gt; | Pr(&gt;F) &lt;dbl&gt; |\n",
       "|---|---|---|---|---|---|\n",
       "| md[, colnames(md) == \"ATTRIBUTE_Sample\"] |  3 | 29942.85 | 0.627496 | 4.492093 | 0.001 |\n",
       "| Residual |  8 | 17775.15 | 0.372504 |       NA |    NA |\n",
       "| Total | 11 | 47718.00 | 1.000000 |       NA |    NA |\n",
       "\n"
      ],
      "text/plain": [
       "                                         Df SumOfSqs R2       F        Pr(>F)\n",
       "md[, colnames(md) == \"ATTRIBUTE_Sample\"]  3 29942.85 0.627496 4.492093 0.001 \n",
       "Residual                                  8 17775.15 0.372504       NA    NA \n",
       "Total                                    11 47718.00 1.000000       NA    NA "
      ]
     },
     "metadata": {},
     "output_type": "display_data"
    }
   ],
   "source": [
    "adonres"
   ]
  },
  {
   "cell_type": "markdown",
   "metadata": {
    "id": "rlwvv3ceUOWf"
   },
   "source": [
    "The PERMANOVA test result tells us that there is a significant difference in the metabolomic profiles of different dilutions of algae extract (PERMANOVA, P < 0.05, Adonis R2 = 0.6275) and that app. 63% of the variation in our data can be explained by algae concentration. That means that algal blooms could possibly be monitored using untargeted metabolomics."
   ]
  },
  {
   "cell_type": "markdown",
   "metadata": {
    "id": "F3mgof1HUfV9"
   },
   "source": [
    "<b>Perform PCoA and assess separation using PERMANOVA</b><br>\n",
    "\n",
    "To speed up the analysis and so we don't have to rewrite the entire code when testing different parameters, we can define a function, which will perform a principal coordinates analysis (PCoA) using a distance metric of choice, calculate a PERMANOVA and plot results in a 2-D graph:"
   ]
  },
  {
   "cell_type": "code",
   "execution_count": 28,
   "metadata": {
    "id": "lgsyQk8lT_K-",
    "vscode": {
     "languageId": "r"
    }
   },
   "outputs": [],
   "source": [
    "plotPCoA <- function(ft, md, distmetric = c(\"euclidean\", \"maximum\", \"manhattan\", \"canberra\", \"binary\", \n",
    "                                                  \"minkowski\"), collow = \"#810f7c\", colhigh =\"#f7fcb9\", \n",
    "                      catper = \"plate\", catcols = \"plate\", mdtype = 'categorical', \n",
    "                      cols = c('grey','black','orange','pink','darkgreen','darkred','brown','blue','skyblue3','green'),\n",
    "                      title = 'Principal coordinates plot'){\n",
    "    \n",
    "    catper <<- catper\n",
    "    distm <- dist(ft, method = distmetric)\n",
    "    d <- as.matrix(distm)\n",
    "\n",
    "    if (length(which(is.na(md[,colnames(md) == catper]))) !=0){\n",
    "          red <- as.dist(as.matrix(distm)[-which(is.na(md[,colnames(md) == catper])),-which(is.na(md[,colnames(md) == catper]))])\n",
    "          adonres <- adonis2(red ~ na.omit(md[,colnames(md) == catper]))\n",
    "          Rsq <- adonres$R2[1]\n",
    "          pval <- adonres$'Pr(>F)'[1]\n",
    "        } else {\n",
    "          adonres <- adonis2(distm ~ md[,colnames(md) == catper])\n",
    "          Rsq <- adonres$R2[1]\n",
    "          pval <- adonres$'Pr(>F)'[1]\n",
    "        }\n",
    "\n",
    "    PcoA <- cmdscale(distm, k =2, eig = T, add = T)\n",
    "    PcoA_points <- as.data.frame(PcoA$points)\n",
    "    variance <- round(PcoA$eig*100/sum(PcoA$eig),1)\n",
    "    names(PcoA_points)[1:2] <- c('PCoA1', 'PCoA2')\n",
    "    PcoA_points <- as.data.frame(PcoA_points)\n",
    "    PcoA_points$Group <- md[,colnames(md) == catcols][match(rownames(PcoA_points),rownames(md))]\n",
    "    names(PcoA_points)[1:2] <- c('PCoA1', 'PCoA2')\n",
    "    \n",
    "    # plot\n",
    "    cbPalette <- cols\n",
    "\n",
    "    if (mdtype == 'continuous'){\n",
    "          Tr_PcoA <- ggplot(PcoA_points, aes(x = PCoA1, y = PCoA2, colour = Group, label = row.names(PcoA))) + geom_point(size=2.5) +\n",
    "            scale_colour_gradient(low = collow, high = colhigh,space = \"Lab\", na.value = \"grey50\", guide = \"colourbar\",aesthetics = \"colour\")+\n",
    "            theme(legend.title=element_blank()) +\n",
    "            xlab(paste('PCoA1',variance[1],'%', sep = ' ')) +\n",
    "            ylab(paste('PCoA2',variance[2],'%', sep = ' ')) +\n",
    "            ggtitle(paste(title,paste0(\"(p=\",round(pval,4),\",\"),paste0(\"adonis-R2=\",round(Rsq,4),\")\"),sep=\" \"))\n",
    "\n",
    "        } else {\n",
    "\n",
    "          Tr_PcoA <- ggplot(PcoA_points, aes(x = PCoA1, y = PCoA2, colour = Group, label = row.names(PcoA))) + geom_point(size=2.5) +\n",
    "            scale_colour_manual(values = cbPalette) +\n",
    "            theme(legend.title=element_blank()) +\n",
    "            xlab(paste('PCoA1',variance[1],'%', sep = ' ')) +\n",
    "            ylab(paste('PCoA2',variance[2],'%', sep = ' ')) +\n",
    "            ggtitle(paste(title,paste0(\"(p=\",round(pval,4),\",\"),paste0(\"adonis-R2=\",round(Rsq,4),\")\"),sep=\" \"))\n",
    "        }\n",
    "    \n",
    "    print(Tr_PcoA)\n",
    "}"
   ]
  },
  {
   "cell_type": "markdown",
   "metadata": {
    "id": "wtrYBv7iUuKH"
   },
   "source": [
    "By defining different parameters within the plotPCoA function:<br>\n",
    "\n",
    "- <b>distmetric</b>: A distance metric of your choice, including \"euclidean\", \"maximum\", \"manhattan\", \"canberra\", \"binary\" or \"minkowski\".<br>\n",
    "- <b>catper</b>: How should the samples be grouped for PERMANOVA, this can be any column name of your metadata.<br>\n",
    "- <b>catcols</b>: According to what groups should the samples be colored on the PCoA, this can be any column name of your metadata.<br>\n",
    "- <b>mdtype</b>: Either 'categorical' or 'continuous', this value defines whether a continuous or categorical color scale should be used for the PCoA. <br>\n",
    "- <b>cols</b>: Colors used for plotting the groups in the PCoA. The length of this object should be equal to the number of groups plotted.<br>\n",
    "- <b>title</b>: Any title of your choice you want to give the plot.<br>\n",
    "\n",
    "we can quickly draw the same PCoA plot as above and retrieve PERMANOVA test results at the same time."
   ]
  },
  {
   "cell_type": "code",
   "execution_count": 29,
   "metadata": {
    "colab": {
     "base_uri": "https://localhost:8080/",
     "height": 437
    },
    "id": "Joe22YwYUrPj",
    "outputId": "c1d30130-3c65-43e4-ecc0-a5f861ecf466",
    "vscode": {
     "languageId": "r"
    }
   },
   "outputs": [
    {
     "data": {
      "image/png": "[encoded data removed]",
      "text/plain": [
       "plot without title"
      ]
     },
     "metadata": {
      "image/png": {
       "height": 420,
       "width": 420
      }
     },
     "output_type": "display_data"
    }
   ],
   "source": [
    "plotPCoA(fts, md, distmetric = \"euclidean\", catper = \"ATTRIBUTE_Sample\", catcols = \"ATTRIBUTE_Sample\", mdtype = 'categorical', \n",
    "                      cols = c('orange','darkgreen','red','blue','black'),\n",
    "                      title = 'Principal coordinates plot')"
   ]
  },
  {
   "cell_type": "markdown",
   "metadata": {
    "id": "_zr6ax7yXn_O"
   },
   "source": [
    "- By changing input variables of the function we just created, we can now also quickly investigate what happens if we, for example treat algae concentration as continuous data?"
   ]
  },
  {
   "cell_type": "code",
   "execution_count": 30,
   "metadata": {
    "colab": {
     "base_uri": "https://localhost:8080/",
     "height": 437
    },
    "id": "Vcxp8GxMSRan",
    "outputId": "59d196ad-a8e9-4e78-8f8b-5f7c1c107e20",
    "vscode": {
     "languageId": "r"
    }
   },
   "outputs": [
    {
     "data": {
      "image/png": "[encoded data removed]",
      "text/plain": [
       "plot without title"
      ]
     },
     "metadata": {
      "image/png": {
       "height": 420,
       "width": 420
      }
     },
     "output_type": "display_data"
    }
   ],
   "source": [
    "plotPCoA(fts, md, distmetric = \"euclidean\", catper = \"ATTRIBUTE_Time-Point\", catcols = \"ATTRIBUTE_Time-Point\", mdtype = 'continuous', \n",
    "                      title = 'Principal coordinates plot')"
   ]
  },
  {
   "cell_type": "markdown",
   "metadata": {
    "id": "j-y6cjGsYyiE"
   },
   "source": [
    "The PCoA plot looks the same, the only difference is that we can now visualize the pseudo temporal trend (algae concentration) using a color gradient. The PERMANOVA result slightly changes if we treat algae concentration as continuous rather than categorical variable. Metabolomic profiles of different algae dilutions are still significantly different but the variation in the data that can be explained by algae concentration is a bit lower, 43 % (PERMANOVA, P < 0.05, Adonis R2 = 0.4263). "
   ]
  },
  {
   "cell_type": "markdown",
   "metadata": {},
   "source": [
    "- We can also test a different distance metric and look at the separation of samples. During data cleanup we replaced all zero values with the minimum value found in our feature table. We might want to opt not to impute any values but instead use a distance metric that can deal better with missing values (e.g. Canberra)."
   ]
  },
  {
   "cell_type": "markdown",
   "metadata": {},
   "source": [
    "First, we replace all imputed values in the feature table with NA"
   ]
  },
  {
   "cell_type": "code",
   "execution_count": 31,
   "metadata": {},
   "outputs": [],
   "source": [
    "ft_nonimp <- ft"
   ]
  },
  {
   "cell_type": "code",
   "execution_count": 32,
   "metadata": {},
   "outputs": [],
   "source": [
    "ft_nonimp[ft_nonimp == min(ft_nonimp)] <- NA"
   ]
  },
  {
   "cell_type": "code",
   "execution_count": 33,
   "metadata": {},
   "outputs": [],
   "source": [
    "fts_nonimp <- scale(ft_nonimp, scale = TRUE, center = TRUE)"
   ]
  },
  {
   "cell_type": "markdown",
   "metadata": {},
   "source": [
    "How many missing values do we have (in %)?"
   ]
  },
  {
   "cell_type": "code",
   "execution_count": 34,
   "metadata": {},
   "outputs": [
    {
     "data": {
      "text/html": [
       "13.2818503150453"
      ],
      "text/latex": [
       "13.2818503150453"
      ],
      "text/markdown": [
       "13.2818503150453"
      ],
      "text/plain": [
       "[1] 13.28185"
      ]
     },
     "metadata": {},
     "output_type": "display_data"
    }
   ],
   "source": [
    "(sum(is.na(ft_nonimp))*100)/(dim(ft)[1]*dim(ft)[2])"
   ]
  },
  {
   "cell_type": "code",
   "execution_count": 35,
   "metadata": {},
   "outputs": [
    {
     "data": {
      "image/png": "[encoded data removed]",
      "text/plain": [
       "plot without title"
      ]
     },
     "metadata": {
      "image/png": {
       "height": 420,
       "width": 420
      }
     },
     "output_type": "display_data"
    }
   ],
   "source": [
    "plotPCoA(fts_nonimp, md, distmetric = \"canberra\", catper = \"ATTRIBUTE_Sample\", catcols = \"ATTRIBUTE_Sample\", mdtype = 'categorical', \n",
    "                      cols = c('orange','darkgreen','red','blue','black'),\n",
    "                      title = 'Principal coordinates plot')"
   ]
  },
  {
   "cell_type": "code",
   "execution_count": 36,
   "metadata": {},
   "outputs": [
    {
     "data": {
      "image/png": "[encoded data removed]",
      "text/plain": [
       "plot without title"
      ]
     },
     "metadata": {
      "image/png": {
       "height": 420,
       "width": 420
      }
     },
     "output_type": "display_data"
    }
   ],
   "source": [
    "plotPCoA(fts_nonimp, md, distmetric = \"canberra\", catper = \"ATTRIBUTE_Time-Point\", catcols = \"ATTRIBUTE_Time-Point\", mdtype = 'continuous', \n",
    "                      title = 'Principal coordinates plot')"
   ]
  },
  {
   "cell_type": "markdown",
   "metadata": {},
   "source": [
    "Using the Canberra distance metric, we also see a significant difference in the metabolomic profiles of different algae dilutions (PERMANOVA, P < 0.05, Adonis R2 = 0.6539 and 0.3795 respectively) with app. 65% and 38% of the variation in our data explained by algae concentration."
   ]
  },
  {
   "cell_type": "markdown",
   "metadata": {},
   "source": [
    "- Lastly, let's also test a binary metric, the Jaccard metric. When we apply the Jaccard metric we need to work with the non-imputed, non-scaled feature table, where all missing values need to be converted to 0s. A positive value will be interpreted as 1 (present) and missing values as 0 (absent)."
   ]
  },
  {
   "cell_type": "code",
   "execution_count": 37,
   "metadata": {},
   "outputs": [],
   "source": [
    "ft_nonimp_0 <- ft_nonimp"
   ]
  },
  {
   "cell_type": "code",
   "execution_count": 38,
   "metadata": {},
   "outputs": [],
   "source": [
    "ft_nonimp_0[is.na(ft_nonimp_0)] <- 0"
   ]
  },
  {
   "cell_type": "code",
   "execution_count": 39,
   "metadata": {},
   "outputs": [
    {
     "data": {
      "image/png": "[encoded data removed]",
      "text/plain": [
       "plot without title"
      ]
     },
     "metadata": {
      "image/png": {
       "height": 420,
       "width": 420
      }
     },
     "output_type": "display_data"
    }
   ],
   "source": [
    "plotPCoA(ft_nonimp_0, md, distmetric = \"binary\", catper = \"ATTRIBUTE_Sample\", catcols = \"ATTRIBUTE_Sample\", mdtype = 'categorical', \n",
    "                      cols = c('orange','darkgreen','red','blue','black'),\n",
    "                      title = 'Principal coordinates plot')"
   ]
  },
  {
   "cell_type": "code",
   "execution_count": 40,
   "metadata": {},
   "outputs": [
    {
     "data": {
      "image/png": "[encoded data removed]",
      "text/plain": [
       "plot without title"
      ]
     },
     "metadata": {
      "image/png": {
       "height": 420,
       "width": 420
      }
     },
     "output_type": "display_data"
    }
   ],
   "source": [
    "plotPCoA(ft_nonimp_0, md, distmetric = \"binary\", catper = \"ATTRIBUTE_Time-Point\", catcols = \"ATTRIBUTE_Time-Point\", mdtype = 'continuous', \n",
    "                      title = 'Principal coordinates plot')"
   ]
  },
  {
   "cell_type": "markdown",
   "metadata": {},
   "source": [
    "Using the Jaccard distance metric, we also see a significant difference in the metabolomic profiles algae dilutions (PERMANOVA, P < 0.05, Adonis R2 = 0.9212 and 0.535 respectively) with app. 92% and 53% of the variation in our data explained by algae concentration."
   ]
  },
  {
   "cell_type": "code",
   "execution_count": 41,
   "metadata": {
    "colab": {
     "base_uri": "https://localhost:8080/",
     "height": 652
    },
    "id": "6o1OlPbUZKed",
    "outputId": "a9fca764-87d4-4ac4-a5b1-c5ab40d5e2a8",
    "vscode": {
     "languageId": "r"
    }
   },
   "outputs": [
    {
     "data": {
      "text/plain": [
       "R version 4.1.1 (2021-08-10)\n",
       "Platform: x86_64-apple-darwin17.0 (64-bit)\n",
       "Running under: macOS Big Sur 10.16\n",
       "\n",
       "Matrix products: default\n",
       "BLAS:   /Library/Frameworks/R.framework/Versions/4.1/Resources/lib/libRblas.0.dylib\n",
       "LAPACK: /Library/Frameworks/R.framework/Versions/4.1/Resources/lib/libRlapack.dylib\n",
       "\n",
       "locale:\n",
       "[1] en_US.UTF-8/en_US.UTF-8/en_US.UTF-8/C/en_US.UTF-8/en_US.UTF-8\n",
       "\n",
       "attached base packages:\n",
       "[1] stats     graphics  grDevices utils     datasets  methods   base     \n",
       "\n",
       "other attached packages:\n",
       "[1] ggplot2_3.3.6   vegan_2.6-2     lattice_0.20-44 permute_0.9-5  \n",
       "\n",
       "loaded via a namespace (and not attached):\n",
       " [1] pillar_1.6.2     compiler_4.1.1   base64enc_0.1-3  tools_4.1.1     \n",
       " [5] digest_0.6.27    uuid_0.1-4       jsonlite_1.7.2   evaluate_0.14   \n",
       " [9] lifecycle_1.0.0  tibble_3.1.4     nlme_3.1-152     gtable_0.3.0    \n",
       "[13] mgcv_1.8-36      pkgconfig_2.0.3  rlang_0.4.11     Matrix_1.3-4    \n",
       "[17] DBI_1.1.1        IRdisplay_1.0    IRkernel_1.2     parallel_4.1.1  \n",
       "[21] fastmap_1.1.0    withr_2.4.2      dplyr_1.0.7      repr_1.1.3      \n",
       "[25] cluster_2.1.2    generics_0.1.0   vctrs_0.3.8      tidyselect_1.1.1\n",
       "[29] grid_4.1.1       glue_1.6.2       R6_2.5.1         fansi_0.5.0     \n",
       "[33] pbdZMQ_0.3-5     farver_2.1.0     purrr_0.3.4      magrittr_2.0.1  \n",
       "[37] scales_1.1.1     ellipsis_0.3.2   htmltools_0.5.2  MASS_7.3-54     \n",
       "[41] splines_4.1.1    assertthat_0.2.1 colorspace_2.0-2 labeling_0.4.2  \n",
       "[45] utf8_1.2.2       munsell_0.5.0    crayon_1.4.1     Cairo_1.5-12.2  "
      ]
     },
     "metadata": {},
     "output_type": "display_data"
    }
   ],
   "source": [
    "sessionInfo()"
   ]
  },
  {
   "cell_type": "code",
   "execution_count": null,
   "metadata": {},
   "outputs": [],
   "source": []
  }
 ],
 "metadata": {
  "colab": {
   "collapsed_sections": [],
   "name": "PCoA_PERMANOVA_summer_school_22_28072022.ipynb",
   "provenance": []
  },
  "kernelspec": {
   "display_name": "R",
   "language": "R",
   "name": "ir"
  },
  "language_info": {
   "codemirror_mode": "r",
   "file_extension": ".r",
   "mimetype": "text/x-r-source",
   "name": "R",
   "pygments_lexer": "r",
   "version": "4.1.1"
  }
 },
 "nbformat": 4,
 "nbformat_minor": 1
}
