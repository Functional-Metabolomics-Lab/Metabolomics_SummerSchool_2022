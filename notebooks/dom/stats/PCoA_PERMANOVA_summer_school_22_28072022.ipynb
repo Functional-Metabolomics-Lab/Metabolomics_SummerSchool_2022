{
 "cells": [
  {
   "cell_type": "markdown",
   "metadata": {
    "id": "7YovRYBxMd9_"
   },
   "source": [
    "# Unsupervised multivariate analyses: PCoA and PERMANOVA \n",
    "Authors: M Ernst, F Russo<br>\n",
    "Last update: August 5, 2022<br>\n",
    "\n",
    "In this notebook we will perform a Principal Coordinate Analysis (PCoA), also known as metric or classical Multidimensional Scaling (metric MDS) to explore and visualize patterns in an untargeted mass spectromtery-based metabolomics dataset. We will then assess statistical significance of the patterns and dispersion of different sample types using permutational multivariate analysis of variance (PERMANOVA). <br>\n",
    "\n",
    "<b>Data</b> <br>\n",
    "\n",
    "... to be completed\n",
    "\n",
    "<b>Questions</b><br>\n",
    "- Is there a difference in the metabolomic profiles of different concentrations of algal dissolved organic matter (DOM)?<br>\n",
    "\n",
    "Install and load libraries"
   ]
  },
  {
   "cell_type": "code",
   "execution_count": 1,
   "metadata": {
    "colab": {
     "base_uri": "https://localhost:8080/"
    },
    "id": "o86IHBvTNPwj",
    "outputId": "71351a54-205a-4127-bd25-bc6c56e8a746",
    "vscode": {
     "languageId": "r"
    }
   },
   "outputs": [
    {
     "name": "stdout",
     "output_type": "stream",
     "text": [
      "\n",
      "The downloaded binary packages are in\n",
      "\t/var/folders/k7/zs6jm5h95875g74l66xfxq6m0000gn/T//RtmpTmqVcf/downloaded_packages\n",
      "\n",
      "The downloaded binary packages are in\n",
      "\t/var/folders/k7/zs6jm5h95875g74l66xfxq6m0000gn/T//RtmpTmqVcf/downloaded_packages\n"
     ]
    }
   ],
   "source": [
    "install.packages('vegan')\n",
    "install.packages('ggplot2')"
   ]
  },
  {
   "cell_type": "code",
   "execution_count": 2,
   "metadata": {
    "colab": {
     "base_uri": "https://localhost:8080/"
    },
    "id": "4Q3PYcXNNgxT",
    "outputId": "3c1456bf-4cd9-4fa6-dd5b-0887c4b4ee73",
    "vscode": {
     "languageId": "r"
    }
   },
   "outputs": [
    {
     "name": "stderr",
     "output_type": "stream",
     "text": [
      "Warning message:\n",
      "“package ‘vegan’ was built under R version 4.1.2”\n",
      "Loading required package: permute\n",
      "\n",
      "Loading required package: lattice\n",
      "\n",
      "This is vegan 2.6-2\n",
      "\n",
      "Warning message:\n",
      "“package ‘ggplot2’ was built under R version 4.1.2”\n"
     ]
    }
   ],
   "source": [
    "library(vegan)\n",
    "library(ggplot2)"
   ]
  },
  {
   "cell_type": "code",
   "execution_count": 3,
   "metadata": {
    "colab": {
     "base_uri": "https://localhost:8080/",
     "height": 35
    },
    "id": "jVzdaFMDVJas",
    "outputId": "bde37abd-37af-44d1-df9f-2ce6b5f5713b",
    "vscode": {
     "languageId": "r"
    }
   },
   "outputs": [
    {
     "data": {
      "text/plain": [
       "[1] \"2022-08-08 13:27:42 CEST\""
      ]
     },
     "metadata": {},
     "output_type": "display_data"
    }
   ],
   "source": [
    "# last update\n",
    "Sys.time()"
   ]
  },
  {
   "cell_type": "markdown",
   "metadata": {
    "id": "hnaLXeKnNqxC"
   },
   "source": [
    "Specify where the data can be found by providing urls for the feature table and metadata. Here, we import the files directly from GitHub but you can import them from your local computer or from Google Drive as well of course. We import the cleaned and imputed (but not normalized) feature tables."
   ]
  },
  {
   "cell_type": "code",
   "execution_count": 4,
   "metadata": {
    "id": "9Shuucq6NsoG",
    "vscode": {
     "languageId": "r"
    }
   },
   "outputs": [],
   "source": [
    "## feature table\n",
    "ft_url <- 'https://raw.githubusercontent.com/Functional-Metabolomics-Lab/Metabolomics_SummerSchool_2022/main/data/dom/processed/Imputed_QuantTable_filled_with_MinValue_8115_CutOff_Used_0.3.csv'\n",
    "## metadata\n",
    "md_url <- 'https://raw.githubusercontent.com/Functional-Metabolomics-Lab/Metabolomics_SummerSchool_2022/main/data/dom/metadata_lab15.txt'"
   ]
  },
  {
   "cell_type": "code",
   "execution_count": 5,
   "metadata": {
    "id": "LpUN0GZmOzg4",
    "vscode": {
     "languageId": "r"
    }
   },
   "outputs": [],
   "source": [
    "ft <- read.csv(ft_url, header = T, check.names = F, row.names = 1)\n",
    "md <- read.csv(md_url, header = T, check.names = F, sep = '\\t')"
   ]
  },
  {
   "cell_type": "code",
   "execution_count": 6,
   "metadata": {
    "colab": {
     "base_uri": "https://localhost:8080/",
     "height": 52
    },
    "id": "k8dRQfV2O2mH",
    "outputId": "b24fdc8a-d3a0-4537-cf0e-90256405c798",
    "vscode": {
     "languageId": "r"
    }
   },
   "outputs": [
    {
     "data": {
      "text/html": [
       "<style>\n",
       ".list-inline {list-style: none; margin:0; padding: 0}\n",
       ".list-inline>li {display: inline-block}\n",
       ".list-inline>li:not(:last-child)::after {content: \"\\00b7\"; padding: 0 .5ex}\n",
       "</style>\n",
       "<ol class=list-inline><li>4641</li><li>15</li></ol>\n"
      ],
      "text/latex": [
       "\\begin{enumerate*}\n",
       "\\item 4641\n",
       "\\item 15\n",
       "\\end{enumerate*}\n"
      ],
      "text/markdown": [
       "1. 4641\n",
       "2. 15\n",
       "\n",
       "\n"
      ],
      "text/plain": [
       "[1] 4641   15"
      ]
     },
     "metadata": {},
     "output_type": "display_data"
    },
    {
     "data": {
      "text/html": [
       "<style>\n",
       ".list-inline {list-style: none; margin:0; padding: 0}\n",
       ".list-inline>li {display: inline-block}\n",
       ".list-inline>li:not(:last-child)::after {content: \"\\00b7\"; padding: 0 .5ex}\n",
       "</style>\n",
       "<ol class=list-inline><li>16</li><li>4</li></ol>\n"
      ],
      "text/latex": [
       "\\begin{enumerate*}\n",
       "\\item 16\n",
       "\\item 4\n",
       "\\end{enumerate*}\n"
      ],
      "text/markdown": [
       "1. 16\n",
       "2. 4\n",
       "\n",
       "\n"
      ],
      "text/plain": [
       "[1] 16  4"
      ]
     },
     "metadata": {},
     "output_type": "display_data"
    }
   ],
   "source": [
    "dim(ft)\n",
    "dim(md)"
   ]
  },
  {
   "cell_type": "code",
   "execution_count": 7,
   "metadata": {
    "colab": {
     "base_uri": "https://localhost:8080/",
     "height": 149
    },
    "id": "AFtT5eBtQo3X",
    "outputId": "23cd2fd0-afb1-4248-ad31-a1db0e269f2a",
    "vscode": {
     "languageId": "r"
    }
   },
   "outputs": [
    {
     "data": {
      "text/html": [
       "<table class=\"dataframe\">\n",
       "<caption>A data.frame: 2 × 15</caption>\n",
       "<thead>\n",
       "\t<tr><th></th><th scope=col>DOM_Interlab-LCMS_Lab15_A_Pos_MS2_rep1.mzML</th><th scope=col>DOM_Interlab-LCMS_Lab15_A_Pos_MS2_rep2.mzML</th><th scope=col>DOM_Interlab-LCMS_Lab15_A_Pos_MS2_rep3.mzML</th><th scope=col>DOM_Interlab-LCMS_Lab15_A15M_Pos_MS2_rep1.mzML</th><th scope=col>DOM_Interlab-LCMS_Lab15_A15M_Pos_MS2_rep2.mzML</th><th scope=col>DOM_Interlab-LCMS_Lab15_A15M_Pos_MS2_rep3.mzML</th><th scope=col>DOM_Interlab-LCMS_Lab15_A45M_Pos_MS2_rep1.mzML</th><th scope=col>DOM_Interlab-LCMS_Lab15_A45M_Pos_MS2_rep2.mzML</th><th scope=col>DOM_Interlab-LCMS_Lab15_A45M_Pos_MS2_rep3.mzML</th><th scope=col>DOM_Interlab-LCMS_Lab15_A5M_Pos_MS2_rep1.mzML</th><th scope=col>DOM_Interlab-LCMS_Lab15_A5M_Pos_MS2_rep2.mzML</th><th scope=col>DOM_Interlab-LCMS_Lab15_A5M_Pos_MS2_rep3.mzML</th><th scope=col>DOM_Interlab-LCMS_Lab15_M_Pos_MS2_rep1.mzML</th><th scope=col>DOM_Interlab-LCMS_Lab15_M_Pos_MS2_rep2.mzML</th><th scope=col>DOM_Interlab-LCMS_Lab15_M_Pos_MS2_rep3.mzML</th></tr>\n",
       "\t<tr><th></th><th scope=col>&lt;dbl&gt;</th><th scope=col>&lt;dbl&gt;</th><th scope=col>&lt;dbl&gt;</th><th scope=col>&lt;dbl&gt;</th><th scope=col>&lt;dbl&gt;</th><th scope=col>&lt;dbl&gt;</th><th scope=col>&lt;dbl&gt;</th><th scope=col>&lt;dbl&gt;</th><th scope=col>&lt;dbl&gt;</th><th scope=col>&lt;dbl&gt;</th><th scope=col>&lt;dbl&gt;</th><th scope=col>&lt;dbl&gt;</th><th scope=col>&lt;dbl&gt;</th><th scope=col>&lt;dbl&gt;</th><th scope=col>&lt;dbl&gt;</th></tr>\n",
       "</thead>\n",
       "<tbody>\n",
       "\t<tr><th scope=row>725_152.071_3.252</th><td> 8115.00</td><td> 8115.00</td><td> 8115.00</td><td>75374.20</td><td>76915.33</td><td>77477.00</td><td>73175.08</td><td>72739.46</td><td>75286.51</td><td>59132.38</td><td>62091.97</td><td>63070.29</td><td>54793.090</td><td>65684.95</td><td>65077.08</td></tr>\n",
       "\t<tr><th scope=row>1105_152.107_4.734</th><td>73926.81</td><td>75761.62</td><td>79481.29</td><td>27020.12</td><td>34365.83</td><td>30656.02</td><td>47937.98</td><td>48518.27</td><td>53590.48</td><td>14726.92</td><td>13063.94</td><td>20211.17</td><td> 9119.948</td><td>12656.36</td><td>10552.45</td></tr>\n",
       "</tbody>\n",
       "</table>\n"
      ],
      "text/latex": [
       "A data.frame: 2 × 15\n",
       "\\begin{tabular}{r|lllllllllllllll}\n",
       "  & DOM\\_Interlab-LCMS\\_Lab15\\_A\\_Pos\\_MS2\\_rep1.mzML & DOM\\_Interlab-LCMS\\_Lab15\\_A\\_Pos\\_MS2\\_rep2.mzML & DOM\\_Interlab-LCMS\\_Lab15\\_A\\_Pos\\_MS2\\_rep3.mzML & DOM\\_Interlab-LCMS\\_Lab15\\_A15M\\_Pos\\_MS2\\_rep1.mzML & DOM\\_Interlab-LCMS\\_Lab15\\_A15M\\_Pos\\_MS2\\_rep2.mzML & DOM\\_Interlab-LCMS\\_Lab15\\_A15M\\_Pos\\_MS2\\_rep3.mzML & DOM\\_Interlab-LCMS\\_Lab15\\_A45M\\_Pos\\_MS2\\_rep1.mzML & DOM\\_Interlab-LCMS\\_Lab15\\_A45M\\_Pos\\_MS2\\_rep2.mzML & DOM\\_Interlab-LCMS\\_Lab15\\_A45M\\_Pos\\_MS2\\_rep3.mzML & DOM\\_Interlab-LCMS\\_Lab15\\_A5M\\_Pos\\_MS2\\_rep1.mzML & DOM\\_Interlab-LCMS\\_Lab15\\_A5M\\_Pos\\_MS2\\_rep2.mzML & DOM\\_Interlab-LCMS\\_Lab15\\_A5M\\_Pos\\_MS2\\_rep3.mzML & DOM\\_Interlab-LCMS\\_Lab15\\_M\\_Pos\\_MS2\\_rep1.mzML & DOM\\_Interlab-LCMS\\_Lab15\\_M\\_Pos\\_MS2\\_rep2.mzML & DOM\\_Interlab-LCMS\\_Lab15\\_M\\_Pos\\_MS2\\_rep3.mzML\\\\\n",
       "  & <dbl> & <dbl> & <dbl> & <dbl> & <dbl> & <dbl> & <dbl> & <dbl> & <dbl> & <dbl> & <dbl> & <dbl> & <dbl> & <dbl> & <dbl>\\\\\n",
       "\\hline\n",
       "\t725\\_152.071\\_3.252 &  8115.00 &  8115.00 &  8115.00 & 75374.20 & 76915.33 & 77477.00 & 73175.08 & 72739.46 & 75286.51 & 59132.38 & 62091.97 & 63070.29 & 54793.090 & 65684.95 & 65077.08\\\\\n",
       "\t1105\\_152.107\\_4.734 & 73926.81 & 75761.62 & 79481.29 & 27020.12 & 34365.83 & 30656.02 & 47937.98 & 48518.27 & 53590.48 & 14726.92 & 13063.94 & 20211.17 &  9119.948 & 12656.36 & 10552.45\\\\\n",
       "\\end{tabular}\n"
      ],
      "text/markdown": [
       "\n",
       "A data.frame: 2 × 15\n",
       "\n",
       "| <!--/--> | DOM_Interlab-LCMS_Lab15_A_Pos_MS2_rep1.mzML &lt;dbl&gt; | DOM_Interlab-LCMS_Lab15_A_Pos_MS2_rep2.mzML &lt;dbl&gt; | DOM_Interlab-LCMS_Lab15_A_Pos_MS2_rep3.mzML &lt;dbl&gt; | DOM_Interlab-LCMS_Lab15_A15M_Pos_MS2_rep1.mzML &lt;dbl&gt; | DOM_Interlab-LCMS_Lab15_A15M_Pos_MS2_rep2.mzML &lt;dbl&gt; | DOM_Interlab-LCMS_Lab15_A15M_Pos_MS2_rep3.mzML &lt;dbl&gt; | DOM_Interlab-LCMS_Lab15_A45M_Pos_MS2_rep1.mzML &lt;dbl&gt; | DOM_Interlab-LCMS_Lab15_A45M_Pos_MS2_rep2.mzML &lt;dbl&gt; | DOM_Interlab-LCMS_Lab15_A45M_Pos_MS2_rep3.mzML &lt;dbl&gt; | DOM_Interlab-LCMS_Lab15_A5M_Pos_MS2_rep1.mzML &lt;dbl&gt; | DOM_Interlab-LCMS_Lab15_A5M_Pos_MS2_rep2.mzML &lt;dbl&gt; | DOM_Interlab-LCMS_Lab15_A5M_Pos_MS2_rep3.mzML &lt;dbl&gt; | DOM_Interlab-LCMS_Lab15_M_Pos_MS2_rep1.mzML &lt;dbl&gt; | DOM_Interlab-LCMS_Lab15_M_Pos_MS2_rep2.mzML &lt;dbl&gt; | DOM_Interlab-LCMS_Lab15_M_Pos_MS2_rep3.mzML &lt;dbl&gt; |\n",
       "|---|---|---|---|---|---|---|---|---|---|---|---|---|---|---|---|\n",
       "| 725_152.071_3.252 |  8115.00 |  8115.00 |  8115.00 | 75374.20 | 76915.33 | 77477.00 | 73175.08 | 72739.46 | 75286.51 | 59132.38 | 62091.97 | 63070.29 | 54793.090 | 65684.95 | 65077.08 |\n",
       "| 1105_152.107_4.734 | 73926.81 | 75761.62 | 79481.29 | 27020.12 | 34365.83 | 30656.02 | 47937.98 | 48518.27 | 53590.48 | 14726.92 | 13063.94 | 20211.17 |  9119.948 | 12656.36 | 10552.45 |\n",
       "\n"
      ],
      "text/plain": [
       "                   DOM_Interlab-LCMS_Lab15_A_Pos_MS2_rep1.mzML\n",
       "725_152.071_3.252   8115.00                                   \n",
       "1105_152.107_4.734 73926.81                                   \n",
       "                   DOM_Interlab-LCMS_Lab15_A_Pos_MS2_rep2.mzML\n",
       "725_152.071_3.252   8115.00                                   \n",
       "1105_152.107_4.734 75761.62                                   \n",
       "                   DOM_Interlab-LCMS_Lab15_A_Pos_MS2_rep3.mzML\n",
       "725_152.071_3.252   8115.00                                   \n",
       "1105_152.107_4.734 79481.29                                   \n",
       "                   DOM_Interlab-LCMS_Lab15_A15M_Pos_MS2_rep1.mzML\n",
       "725_152.071_3.252  75374.20                                      \n",
       "1105_152.107_4.734 27020.12                                      \n",
       "                   DOM_Interlab-LCMS_Lab15_A15M_Pos_MS2_rep2.mzML\n",
       "725_152.071_3.252  76915.33                                      \n",
       "1105_152.107_4.734 34365.83                                      \n",
       "                   DOM_Interlab-LCMS_Lab15_A15M_Pos_MS2_rep3.mzML\n",
       "725_152.071_3.252  77477.00                                      \n",
       "1105_152.107_4.734 30656.02                                      \n",
       "                   DOM_Interlab-LCMS_Lab15_A45M_Pos_MS2_rep1.mzML\n",
       "725_152.071_3.252  73175.08                                      \n",
       "1105_152.107_4.734 47937.98                                      \n",
       "                   DOM_Interlab-LCMS_Lab15_A45M_Pos_MS2_rep2.mzML\n",
       "725_152.071_3.252  72739.46                                      \n",
       "1105_152.107_4.734 48518.27                                      \n",
       "                   DOM_Interlab-LCMS_Lab15_A45M_Pos_MS2_rep3.mzML\n",
       "725_152.071_3.252  75286.51                                      \n",
       "1105_152.107_4.734 53590.48                                      \n",
       "                   DOM_Interlab-LCMS_Lab15_A5M_Pos_MS2_rep1.mzML\n",
       "725_152.071_3.252  59132.38                                     \n",
       "1105_152.107_4.734 14726.92                                     \n",
       "                   DOM_Interlab-LCMS_Lab15_A5M_Pos_MS2_rep2.mzML\n",
       "725_152.071_3.252  62091.97                                     \n",
       "1105_152.107_4.734 13063.94                                     \n",
       "                   DOM_Interlab-LCMS_Lab15_A5M_Pos_MS2_rep3.mzML\n",
       "725_152.071_3.252  63070.29                                     \n",
       "1105_152.107_4.734 20211.17                                     \n",
       "                   DOM_Interlab-LCMS_Lab15_M_Pos_MS2_rep1.mzML\n",
       "725_152.071_3.252  54793.090                                  \n",
       "1105_152.107_4.734  9119.948                                  \n",
       "                   DOM_Interlab-LCMS_Lab15_M_Pos_MS2_rep2.mzML\n",
       "725_152.071_3.252  65684.95                                   \n",
       "1105_152.107_4.734 12656.36                                   \n",
       "                   DOM_Interlab-LCMS_Lab15_M_Pos_MS2_rep3.mzML\n",
       "725_152.071_3.252  65077.08                                   \n",
       "1105_152.107_4.734 10552.45                                   "
      ]
     },
     "metadata": {},
     "output_type": "display_data"
    }
   ],
   "source": [
    "head(ft, n=2)"
   ]
  },
  {
   "cell_type": "code",
   "execution_count": 8,
   "metadata": {
    "colab": {
     "base_uri": "https://localhost:8080/",
     "height": 161
    },
    "id": "6jShpOv-Qrvn",
    "outputId": "f2ffb748-2699-477e-8822-72206422aa77",
    "vscode": {
     "languageId": "r"
    }
   },
   "outputs": [
    {
     "data": {
      "text/html": [
       "<table class=\"dataframe\">\n",
       "<caption>A data.frame: 2 × 4</caption>\n",
       "<thead>\n",
       "\t<tr><th></th><th scope=col>filename</th><th scope=col>ATTRIBUTE_Sample</th><th scope=col>ATTRIBUTE_Sample_Type</th><th scope=col>ATTRIBUTE_Time-Point</th></tr>\n",
       "\t<tr><th></th><th scope=col>&lt;chr&gt;</th><th scope=col>&lt;chr&gt;</th><th scope=col>&lt;chr&gt;</th><th scope=col>&lt;int&gt;</th></tr>\n",
       "</thead>\n",
       "<tbody>\n",
       "\t<tr><th scope=row>1</th><td>DOM_Interlab-LCMS_Lab15_A15M_Pos_MS2_rep1.mzML</td><td>A15M</td><td>Sample</td><td>15</td></tr>\n",
       "\t<tr><th scope=row>2</th><td>DOM_Interlab-LCMS_Lab15_A15M_Pos_MS2_rep2.mzML</td><td>A15M</td><td>Sample</td><td>15</td></tr>\n",
       "</tbody>\n",
       "</table>\n"
      ],
      "text/latex": [
       "A data.frame: 2 × 4\n",
       "\\begin{tabular}{r|llll}\n",
       "  & filename & ATTRIBUTE\\_Sample & ATTRIBUTE\\_Sample\\_Type & ATTRIBUTE\\_Time-Point\\\\\n",
       "  & <chr> & <chr> & <chr> & <int>\\\\\n",
       "\\hline\n",
       "\t1 & DOM\\_Interlab-LCMS\\_Lab15\\_A15M\\_Pos\\_MS2\\_rep1.mzML & A15M & Sample & 15\\\\\n",
       "\t2 & DOM\\_Interlab-LCMS\\_Lab15\\_A15M\\_Pos\\_MS2\\_rep2.mzML & A15M & Sample & 15\\\\\n",
       "\\end{tabular}\n"
      ],
      "text/markdown": [
       "\n",
       "A data.frame: 2 × 4\n",
       "\n",
       "| <!--/--> | filename &lt;chr&gt; | ATTRIBUTE_Sample &lt;chr&gt; | ATTRIBUTE_Sample_Type &lt;chr&gt; | ATTRIBUTE_Time-Point &lt;int&gt; |\n",
       "|---|---|---|---|---|\n",
       "| 1 | DOM_Interlab-LCMS_Lab15_A15M_Pos_MS2_rep1.mzML | A15M | Sample | 15 |\n",
       "| 2 | DOM_Interlab-LCMS_Lab15_A15M_Pos_MS2_rep2.mzML | A15M | Sample | 15 |\n",
       "\n"
      ],
      "text/plain": [
       "  filename                                       ATTRIBUTE_Sample\n",
       "1 DOM_Interlab-LCMS_Lab15_A15M_Pos_MS2_rep1.mzML A15M            \n",
       "2 DOM_Interlab-LCMS_Lab15_A15M_Pos_MS2_rep2.mzML A15M            \n",
       "  ATTRIBUTE_Sample_Type ATTRIBUTE_Time-Point\n",
       "1 Sample                15                  \n",
       "2 Sample                15                  "
      ]
     },
     "metadata": {},
     "output_type": "display_data"
    }
   ],
   "source": [
    "head(md, n=2)"
   ]
  },
  {
   "cell_type": "markdown",
   "metadata": {
    "id": "PHm6jBB_PCZT"
   },
   "source": [
    "<b>Bring featuretable and metadata in the correct format:</b><br>"
   ]
  },
  {
   "cell_type": "code",
   "execution_count": 9,
   "metadata": {
    "id": "HTGAa-vLO-IC",
    "vscode": {
     "languageId": "r"
    }
   },
   "outputs": [],
   "source": [
    "# name rows in metadata after filenames\n",
    "rownames(md) <- md$filename"
   ]
  },
  {
   "cell_type": "code",
   "execution_count": 10,
   "metadata": {
    "colab": {
     "base_uri": "https://localhost:8080/",
     "height": 71
    },
    "id": "Y5eMYkamPgOI",
    "outputId": "32d66409-d163-45d8-83db-dadf0aa0d8b0",
    "vscode": {
     "languageId": "r"
    }
   },
   "outputs": [
    {
     "data": {
      "text/plain": [
       "\n",
       "FALSE  TRUE \n",
       "    1    15 "
      ]
     },
     "metadata": {},
     "output_type": "display_data"
    }
   ],
   "source": [
    "# how many files in the metadata are also present in the feature table\n",
    "table(rownames(md) %in% colnames(ft))"
   ]
  },
  {
   "cell_type": "code",
   "execution_count": 11,
   "metadata": {
    "colab": {
     "base_uri": "https://localhost:8080/",
     "height": 34
    },
    "id": "GaIIA_MfPsYV",
    "outputId": "983d1e11-e206-4b71-b246-ecbb83838f4b",
    "vscode": {
     "languageId": "r"
    }
   },
   "outputs": [
    {
     "data": {
      "text/html": [
       "'DOM_Interlab-LCMS_Lab15_PPL_Pos_MS2.mzML'"
      ],
      "text/latex": [
       "'DOM\\_Interlab-LCMS\\_Lab15\\_PPL\\_Pos\\_MS2.mzML'"
      ],
      "text/markdown": [
       "'DOM_Interlab-LCMS_Lab15_PPL_Pos_MS2.mzML'"
      ],
      "text/plain": [
       "[1] \"DOM_Interlab-LCMS_Lab15_PPL_Pos_MS2.mzML\""
      ]
     },
     "metadata": {},
     "output_type": "display_data"
    }
   ],
   "source": [
    "# which file names in the metadata are not in the feature table?\n",
    "setdiff(rownames(md),colnames(ft))"
   ]
  },
  {
   "cell_type": "code",
   "execution_count": 12,
   "metadata": {
    "id": "QEop0RRMPuIm",
    "vscode": {
     "languageId": "r"
    }
   },
   "outputs": [],
   "source": [
    "# the blank sample 'DOM_Interlab-LCMS_Lab15_PPL_Pos_MS2.mzML' is not in the feature table, we thus remove it from the metadata \n",
    "md <- md[rownames(md) %in% colnames(ft),]"
   ]
  },
  {
   "cell_type": "code",
   "execution_count": 13,
   "metadata": {
    "colab": {
     "base_uri": "https://localhost:8080/",
     "height": 34
    },
    "id": "WSGyu7k8Px4M",
    "outputId": "21cbabc1-c141-49f0-b722-cd2a8730dcdd",
    "vscode": {
     "languageId": "r"
    }
   },
   "outputs": [
    {
     "data": {
      "text/html": [
       "<style>\n",
       ".list-inline {list-style: none; margin:0; padding: 0}\n",
       ".list-inline>li {display: inline-block}\n",
       ".list-inline>li:not(:last-child)::after {content: \"\\00b7\"; padding: 0 .5ex}\n",
       "</style>\n",
       "<ol class=list-inline><li>15</li><li>4</li></ol>\n"
      ],
      "text/latex": [
       "\\begin{enumerate*}\n",
       "\\item 15\n",
       "\\item 4\n",
       "\\end{enumerate*}\n"
      ],
      "text/markdown": [
       "1. 15\n",
       "2. 4\n",
       "\n",
       "\n"
      ],
      "text/plain": [
       "[1] 15  4"
      ]
     },
     "metadata": {},
     "output_type": "display_data"
    }
   ],
   "source": [
    "dim(md)"
   ]
  },
  {
   "cell_type": "code",
   "execution_count": 14,
   "metadata": {
    "id": "3P87mgP4Qfas",
    "vscode": {
     "languageId": "r"
    }
   },
   "outputs": [],
   "source": [
    "# transpose ft\n",
    "ft <- t(ft)"
   ]
  },
  {
   "cell_type": "code",
   "execution_count": 15,
   "metadata": {
    "colab": {
     "base_uri": "https://localhost:8080/",
     "height": 34
    },
    "id": "EyuDHUSIQhdH",
    "outputId": "44bb7feb-d13f-4fa0-ff1d-c7326b1a9897",
    "vscode": {
     "languageId": "r"
    }
   },
   "outputs": [
    {
     "data": {
      "text/html": [
       "<style>\n",
       ".list-inline {list-style: none; margin:0; padding: 0}\n",
       ".list-inline>li {display: inline-block}\n",
       ".list-inline>li:not(:last-child)::after {content: \"\\00b7\"; padding: 0 .5ex}\n",
       "</style>\n",
       "<ol class=list-inline><li>15</li><li>4641</li></ol>\n"
      ],
      "text/latex": [
       "\\begin{enumerate*}\n",
       "\\item 15\n",
       "\\item 4641\n",
       "\\end{enumerate*}\n"
      ],
      "text/markdown": [
       "1. 15\n",
       "2. 4641\n",
       "\n",
       "\n"
      ],
      "text/plain": [
       "[1]   15 4641"
      ]
     },
     "metadata": {},
     "output_type": "display_data"
    }
   ],
   "source": [
    "dim(ft)"
   ]
  },
  {
   "cell_type": "markdown",
   "metadata": {
    "id": "JxkAO5oHQAXW"
   },
   "source": [
    "<b>Principal coordinates analysis (PCoA)</b><br>\n",
    "\n",
    "Principal coordinates analysis (PCoA) is a metric multidimensional scaling (MDS) method that attempts to represent sample dissimilarities in a low-dimensional space. It converts a distance matrix consisting of pair-wise distances (dissimilarities) across samples into a 2- or 3-D graph ([Gower, 2005](https://onlinelibrary.wiley.com/doi/10.1002/0470011815.b2a13070)). Different distance metrics can be used to calculate dissimilarities among samples (e.g. Euclidean, Canberra, Minkowski). Performing a principal coordinates analysis using the Euclidean distance metric is the same as performing a principal components analysis (PCA). The selection of the most appropriate metric depends on the nature of your data and assumptions made by the metric.<br>\n",
    "\n",
    "Within the metabolomics field the Euclidean, Bray-Curtis, Jaccard or Canberra distances are most commonly used. The Jaccard distance is an unweighted metric (presence/absence) whereas Euclidean, Bray-Curtis and Canberra distances take into account relative abundances (weighted). Some metrics may be better suited for very sparse data (with many zeroes) than others. For example, the Euclidean distance metric is not recommended to be used for highly sparse data. <br>\n",
    "\n",
    "This video tutorial by StatQuest summarizes nicely the basic principles of PCoA: https://www.youtube.com/watch?v=GEn-_dAyYME<br>"
   ]
  },
  {
   "cell_type": "markdown",
   "metadata": {},
   "source": [
    "In order to perform a PCoA as described below, it is important that the filenames in our metadata are identical as well as in the same order as the filenames in our feature table. Let's make sure this is true, using the below code (this should return TRUE)."
   ]
  },
  {
   "cell_type": "code",
   "execution_count": 16,
   "metadata": {
    "colab": {
     "base_uri": "https://localhost:8080/",
     "height": 52
    },
    "id": "5NxWM-OlP0ZS",
    "outputId": "190951ab-3a86-4d3c-a993-87b357c8f93d",
    "vscode": {
     "languageId": "r"
    }
   },
   "outputs": [
    {
     "data": {
      "text/html": [
       "FALSE"
      ],
      "text/latex": [
       "FALSE"
      ],
      "text/markdown": [
       "FALSE"
      ],
      "text/plain": [
       "[1] FALSE"
      ]
     },
     "metadata": {},
     "output_type": "display_data"
    },
    {
     "data": {
      "text/html": [
       "TRUE"
      ],
      "text/latex": [
       "TRUE"
      ],
      "text/markdown": [
       "TRUE"
      ],
      "text/plain": [
       "[1] TRUE"
      ]
     },
     "metadata": {},
     "output_type": "display_data"
    }
   ],
   "source": [
    "identical(rownames(ft),rownames(md))\n",
    "# put the rows in the feature table and metadata in the same order\n",
    "ft <- ft[match(rownames(md),rownames(ft)),]\n",
    "identical(rownames(ft),rownames(md))"
   ]
  },
  {
   "cell_type": "markdown",
   "metadata": {
    "id": "-5XUNzYnR8Mm"
   },
   "source": [
    "Now, let's scale and center the data."
   ]
  },
  {
   "cell_type": "code",
   "execution_count": 17,
   "metadata": {
    "id": "QEBGMVlKR-qk",
    "vscode": {
     "languageId": "r"
    }
   },
   "outputs": [],
   "source": [
    "fts <- scale(ft, scale = TRUE, center = TRUE)"
   ]
  },
  {
   "cell_type": "markdown",
   "metadata": {
    "id": "oidOJDyNQ6Sg"
   },
   "source": [
    "Next, we will calculate pairwise distances across all samples using the Euclidean distance metric."
   ]
  },
  {
   "cell_type": "code",
   "execution_count": 18,
   "metadata": {
    "id": "OS1M2TFlQ3F9",
    "vscode": {
     "languageId": "r"
    }
   },
   "outputs": [],
   "source": [
    "distm <- dist(fts, method = 'euclidean')"
   ]
  },
  {
   "cell_type": "markdown",
   "metadata": {
    "id": "g4vHSJaURCe8"
   },
   "source": [
    "All pairwise Euclidean distances are now stored within our distance (dissimilarity) matrix (distm). The distance matrix is then used as input for the PCoA. At first, we here color samples according to the sample types (ATTRIBUTE_Sample within our metadata)"
   ]
  },
  {
   "cell_type": "code",
   "execution_count": 60,
   "metadata": {
    "colab": {
     "base_uri": "https://localhost:8080/",
     "height": 71
    },
    "id": "gkYjHYV6S42g",
    "outputId": "3d0ab12a-0b46-4f9d-dfa2-40b4447d16b1",
    "vscode": {
     "languageId": "r"
    }
   },
   "outputs": [
    {
     "data": {
      "text/plain": [
       "\n",
       "   A A15M A45M  A5M    M \n",
       "   3    3    3    3    3 "
      ]
     },
     "metadata": {},
     "output_type": "display_data"
    },
    {
     "data": {
      "text/plain": [
       "\n",
       "Sample \n",
       "    15 "
      ]
     },
     "metadata": {},
     "output_type": "display_data"
    },
    {
     "data": {
      "text/plain": [
       "\n",
       "  0   5  15  45 100 \n",
       "  3   3   3   3   3 "
      ]
     },
     "metadata": {},
     "output_type": "display_data"
    }
   ],
   "source": [
    "table(md$ATTRIBUTE_Sample)\n",
    "table(md$ATTRIBUTE_Sample_Type)\n",
    "table(md$'ATTRIBUTE_Time-Point')"
   ]
  },
  {
   "cell_type": "code",
   "execution_count": 19,
   "metadata": {
    "id": "MsTOm8C_RWzQ",
    "vscode": {
     "languageId": "r"
    }
   },
   "outputs": [],
   "source": [
    "PcoA <- cmdscale(distm, k =2, eig = T, add = T)\n",
    "PcoA_points <- as.data.frame(PcoA$points)\n",
    "variance <- round(PcoA$eig*100/sum(PcoA$eig),1)\n",
    "names(PcoA_points)[1:2] <- c('PCoA1', 'PCoA2')"
   ]
  },
  {
   "cell_type": "code",
   "execution_count": 20,
   "metadata": {
    "colab": {
     "base_uri": "https://localhost:8080/",
     "height": 286
    },
    "id": "ZU4MSaGrSiUk",
    "outputId": "549516f2-ef80-40db-854f-bbdba5e899f7",
    "vscode": {
     "languageId": "r"
    }
   },
   "outputs": [
    {
     "data": {
      "text/html": [
       "<table class=\"dataframe\">\n",
       "<caption>A data.frame: 6 × 2</caption>\n",
       "<thead>\n",
       "\t<tr><th></th><th scope=col>PCoA1</th><th scope=col>PCoA2</th></tr>\n",
       "\t<tr><th></th><th scope=col>&lt;dbl&gt;</th><th scope=col>&lt;dbl&gt;</th></tr>\n",
       "</thead>\n",
       "<tbody>\n",
       "\t<tr><th scope=row>DOM_Interlab-LCMS_Lab15_A15M_Pos_MS2_rep1.mzML</th><td>-27.70448</td><td> 10.024905</td></tr>\n",
       "\t<tr><th scope=row>DOM_Interlab-LCMS_Lab15_A15M_Pos_MS2_rep2.mzML</th><td>-29.05978</td><td>  9.989754</td></tr>\n",
       "\t<tr><th scope=row>DOM_Interlab-LCMS_Lab15_A15M_Pos_MS2_rep3.mzML</th><td>-29.45574</td><td> 10.119082</td></tr>\n",
       "\t<tr><th scope=row>DOM_Interlab-LCMS_Lab15_A45M_Pos_MS2_rep1.mzML</th><td>-38.68219</td><td>-54.579720</td></tr>\n",
       "\t<tr><th scope=row>DOM_Interlab-LCMS_Lab15_A45M_Pos_MS2_rep2.mzML</th><td>-39.82883</td><td>-55.091770</td></tr>\n",
       "\t<tr><th scope=row>DOM_Interlab-LCMS_Lab15_A45M_Pos_MS2_rep3.mzML</th><td>-40.09940</td><td>-53.542061</td></tr>\n",
       "</tbody>\n",
       "</table>\n"
      ],
      "text/latex": [
       "A data.frame: 6 × 2\n",
       "\\begin{tabular}{r|ll}\n",
       "  & PCoA1 & PCoA2\\\\\n",
       "  & <dbl> & <dbl>\\\\\n",
       "\\hline\n",
       "\tDOM\\_Interlab-LCMS\\_Lab15\\_A15M\\_Pos\\_MS2\\_rep1.mzML & -27.70448 &  10.024905\\\\\n",
       "\tDOM\\_Interlab-LCMS\\_Lab15\\_A15M\\_Pos\\_MS2\\_rep2.mzML & -29.05978 &   9.989754\\\\\n",
       "\tDOM\\_Interlab-LCMS\\_Lab15\\_A15M\\_Pos\\_MS2\\_rep3.mzML & -29.45574 &  10.119082\\\\\n",
       "\tDOM\\_Interlab-LCMS\\_Lab15\\_A45M\\_Pos\\_MS2\\_rep1.mzML & -38.68219 & -54.579720\\\\\n",
       "\tDOM\\_Interlab-LCMS\\_Lab15\\_A45M\\_Pos\\_MS2\\_rep2.mzML & -39.82883 & -55.091770\\\\\n",
       "\tDOM\\_Interlab-LCMS\\_Lab15\\_A45M\\_Pos\\_MS2\\_rep3.mzML & -40.09940 & -53.542061\\\\\n",
       "\\end{tabular}\n"
      ],
      "text/markdown": [
       "\n",
       "A data.frame: 6 × 2\n",
       "\n",
       "| <!--/--> | PCoA1 &lt;dbl&gt; | PCoA2 &lt;dbl&gt; |\n",
       "|---|---|---|\n",
       "| DOM_Interlab-LCMS_Lab15_A15M_Pos_MS2_rep1.mzML | -27.70448 |  10.024905 |\n",
       "| DOM_Interlab-LCMS_Lab15_A15M_Pos_MS2_rep2.mzML | -29.05978 |   9.989754 |\n",
       "| DOM_Interlab-LCMS_Lab15_A15M_Pos_MS2_rep3.mzML | -29.45574 |  10.119082 |\n",
       "| DOM_Interlab-LCMS_Lab15_A45M_Pos_MS2_rep1.mzML | -38.68219 | -54.579720 |\n",
       "| DOM_Interlab-LCMS_Lab15_A45M_Pos_MS2_rep2.mzML | -39.82883 | -55.091770 |\n",
       "| DOM_Interlab-LCMS_Lab15_A45M_Pos_MS2_rep3.mzML | -40.09940 | -53.542061 |\n",
       "\n"
      ],
      "text/plain": [
       "                                               PCoA1     PCoA2     \n",
       "DOM_Interlab-LCMS_Lab15_A15M_Pos_MS2_rep1.mzML -27.70448  10.024905\n",
       "DOM_Interlab-LCMS_Lab15_A15M_Pos_MS2_rep2.mzML -29.05978   9.989754\n",
       "DOM_Interlab-LCMS_Lab15_A15M_Pos_MS2_rep3.mzML -29.45574  10.119082\n",
       "DOM_Interlab-LCMS_Lab15_A45M_Pos_MS2_rep1.mzML -38.68219 -54.579720\n",
       "DOM_Interlab-LCMS_Lab15_A45M_Pos_MS2_rep2.mzML -39.82883 -55.091770\n",
       "DOM_Interlab-LCMS_Lab15_A45M_Pos_MS2_rep3.mzML -40.09940 -53.542061"
      ]
     },
     "metadata": {},
     "output_type": "display_data"
    }
   ],
   "source": [
    "head(PcoA_points)"
   ]
  },
  {
   "cell_type": "code",
   "execution_count": 21,
   "metadata": {
    "colab": {
     "base_uri": "https://localhost:8080/",
     "height": 34
    },
    "id": "SoUi7x8DSXLI",
    "outputId": "f9086dd3-5429-42dc-bada-07188252cc07",
    "vscode": {
     "languageId": "r"
    }
   },
   "outputs": [
    {
     "data": {
      "text/html": [
       "TRUE"
      ],
      "text/latex": [
       "TRUE"
      ],
      "text/markdown": [
       "TRUE"
      ],
      "text/plain": [
       "[1] TRUE"
      ]
     },
     "metadata": {},
     "output_type": "display_data"
    }
   ],
   "source": [
    "identical(rownames(PcoA_points), rownames(md))"
   ]
  },
  {
   "cell_type": "markdown",
   "metadata": {
    "id": "LG2IQks8RmPl"
   },
   "source": [
    "Using the [ggplot2](https://cran.r-project.org/web/packages/ggplot2/index.html) library, we can plot our PCoA."
   ]
  },
  {
   "cell_type": "code",
   "execution_count": 22,
   "metadata": {
    "colab": {
     "base_uri": "https://localhost:8080/",
     "height": 437
    },
    "id": "Z-Mz260kRi7W",
    "outputId": "9ad64ef4-bcfc-4d32-9f63-bc14104500d2",
    "vscode": {
     "languageId": "r"
    }
   },
   "outputs": [
    {
     "data": {
      "image/png": "[encoded data removed]",
      "text/plain": [
       "plot without title"
      ]
     },
     "metadata": {
      "image/png": {
       "height": 420,
       "width": 420
      }
     },
     "output_type": "display_data"
    }
   ],
   "source": [
    "ggplot(PcoA_points, aes(x = PCoA1, y = PCoA2, colour = md$ATTRIBUTE_Sample, label = row.names(PcoA))) + geom_point(size=2.5) +\n",
    "            scale_colour_manual(values = c('orange','darkgreen','red','blue','black')) +\n",
    "            xlab(paste('PCoA1',variance[1],'%', sep = ' ')) +\n",
    "            ylab(paste('PCoA2',variance[2],'%', sep = ' ')) +\n",
    "            theme(legend.title=element_blank())"
   ]
  },
  {
   "cell_type": "markdown",
   "metadata": {
    "id": "O7S1pZZMTt-I"
   },
   "source": [
    "It looks like there is a strong separation between algae (A) and DOM (M) samples. But is the separation significant? Let's perform a permutational multivariate analysis of variance (PERMANOVA) to find out!"
   ]
  },
  {
   "cell_type": "markdown",
   "metadata": {
    "id": "64w8VO0cT1ha"
   },
   "source": [
    "<b>Permutational multivariate analysis of variance (PERMANOVA)</b><br>\n",
    "\n",
    "Permutational multivariate analysis of variance (PERMANOVA) is a non-parametric method for multivariate analysis of variance, where P-values are obtained using permutations. The metric was originally developed within the field of ecology ([Anderson, 2008](https://onlinelibrary.wiley.com/doi/full/10.1002/9781118445112.stat07841)) but is today widely used in other fields, including the microbiome and metabolomics field. PERMANOVA is used to compare groups of samples and tests whether the centroid and/or the spread of the samples is different between the groups.<br>\n",
    "\n",
    "The adonis2() function in the [vegan package](https://cran.r-project.org/web/packages/vegan/index.html) can be used to perform a PERMANOVA. The input is any dissimilarity matrix and the test-statistic retrieved is a multivariate analogue to Fisher's F-ratio as well as an R2 value (Adonis R2)."
   ]
  },
  {
   "cell_type": "code",
   "execution_count": 23,
   "metadata": {
    "id": "UX_f6Z-KTyvd",
    "vscode": {
     "languageId": "r"
    }
   },
   "outputs": [],
   "source": [
    "adonres <- adonis2(distm ~ md[,colnames(md) == 'ATTRIBUTE_Sample'])"
   ]
  },
  {
   "cell_type": "code",
   "execution_count": 24,
   "metadata": {
    "colab": {
     "base_uri": "https://localhost:8080/",
     "height": 192
    },
    "id": "0UY3vo63T_Bf",
    "outputId": "c877d981-1f0f-4916-805e-45f1395eef68",
    "vscode": {
     "languageId": "r"
    }
   },
   "outputs": [
    {
     "data": {
      "text/html": [
       "<table class=\"dataframe\">\n",
       "<caption>A anova.cca: 3 × 5</caption>\n",
       "<thead>\n",
       "\t<tr><th></th><th scope=col>Df</th><th scope=col>SumOfSqs</th><th scope=col>R2</th><th scope=col>F</th><th scope=col>Pr(&gt;F)</th></tr>\n",
       "\t<tr><th></th><th scope=col>&lt;dbl&gt;</th><th scope=col>&lt;dbl&gt;</th><th scope=col>&lt;dbl&gt;</th><th scope=col>&lt;dbl&gt;</th><th scope=col>&lt;dbl&gt;</th></tr>\n",
       "</thead>\n",
       "<tbody>\n",
       "\t<tr><th scope=row>md[, colnames(md) == \"ATTRIBUTE_Sample\"]</th><td> 4</td><td>52151.71</td><td>0.8026551</td><td>10.16818</td><td>0.001</td></tr>\n",
       "\t<tr><th scope=row>Residual</th><td>10</td><td>12822.29</td><td>0.1973449</td><td>      NA</td><td>   NA</td></tr>\n",
       "\t<tr><th scope=row>Total</th><td>14</td><td>64974.00</td><td>1.0000000</td><td>      NA</td><td>   NA</td></tr>\n",
       "</tbody>\n",
       "</table>\n"
      ],
      "text/latex": [
       "A anova.cca: 3 × 5\n",
       "\\begin{tabular}{r|lllll}\n",
       "  & Df & SumOfSqs & R2 & F & Pr(>F)\\\\\n",
       "  & <dbl> & <dbl> & <dbl> & <dbl> & <dbl>\\\\\n",
       "\\hline\n",
       "\tmd{[}, colnames(md) == \"ATTRIBUTE\\_Sample\"{]} &  4 & 52151.71 & 0.8026551 & 10.16818 & 0.001\\\\\n",
       "\tResidual & 10 & 12822.29 & 0.1973449 &       NA &    NA\\\\\n",
       "\tTotal & 14 & 64974.00 & 1.0000000 &       NA &    NA\\\\\n",
       "\\end{tabular}\n"
      ],
      "text/markdown": [
       "\n",
       "A anova.cca: 3 × 5\n",
       "\n",
       "| <!--/--> | Df &lt;dbl&gt; | SumOfSqs &lt;dbl&gt; | R2 &lt;dbl&gt; | F &lt;dbl&gt; | Pr(&gt;F) &lt;dbl&gt; |\n",
       "|---|---|---|---|---|---|\n",
       "| md[, colnames(md) == \"ATTRIBUTE_Sample\"] |  4 | 52151.71 | 0.8026551 | 10.16818 | 0.001 |\n",
       "| Residual | 10 | 12822.29 | 0.1973449 |       NA |    NA |\n",
       "| Total | 14 | 64974.00 | 1.0000000 |       NA |    NA |\n",
       "\n"
      ],
      "text/plain": [
       "                                         Df SumOfSqs R2        F        Pr(>F)\n",
       "md[, colnames(md) == \"ATTRIBUTE_Sample\"]  4 52151.71 0.8026551 10.16818 0.001 \n",
       "Residual                                 10 12822.29 0.1973449       NA    NA \n",
       "Total                                    14 64974.00 1.0000000       NA    NA "
      ]
     },
     "metadata": {},
     "output_type": "display_data"
    }
   ],
   "source": [
    "adonres"
   ]
  },
  {
   "cell_type": "markdown",
   "metadata": {
    "id": "rlwvv3ceUOWf"
   },
   "source": [
    "The PERMANOVA test result tells us that there is a significant difference in the metabolomic profiles of DOM with different concentrations of algae (PERMANOVA, P < 0.05, Adonis R2 = 0.8027) and that app. 80% of the variation in our data can be explained by algae concentration."
   ]
  },
  {
   "cell_type": "markdown",
   "metadata": {
    "id": "F3mgof1HUfV9"
   },
   "source": [
    "<b>Perform PCoA and assess separation using PERMANOVA</b><br>\n",
    "\n",
    "To speed up the analysis and so we don't have to explore all metadata categories one by one, we can define a function, which will perform a principal coordinates analysis (PCoA) using a distance metric of choice, calculate a PERMANOVA and plot results in a 2-D graph:"
   ]
  },
  {
   "cell_type": "code",
   "execution_count": 25,
   "metadata": {
    "id": "lgsyQk8lT_K-",
    "vscode": {
     "languageId": "r"
    }
   },
   "outputs": [],
   "source": [
    "plotPCoA <- function(ft, md, distmetric = c(\"euclidean\", \"maximum\", \"manhattan\", \"canberra\", \"binary\", \n",
    "                                                  \"minkowski\"), collow = \"#810f7c\", colhigh =\"#f7fcb9\", \n",
    "                      catper = \"plate\", catcols = \"plate\", mdtype = 'categorical', \n",
    "                      cols = c('grey','black','orange','pink','darkgreen','darkred','brown','blue','skyblue3','green'),\n",
    "                      title = 'Principal coordinates plot'){\n",
    "    \n",
    "    catper <<- catper\n",
    "    distm <- dist(ft, method = distmetric)\n",
    "    d <- as.matrix(distm)\n",
    "\n",
    "    if (length(which(is.na(md[,colnames(md) == catper]))) !=0){\n",
    "          red <- as.dist(as.matrix(distm)[-which(is.na(md[,colnames(md) == catper])),-which(is.na(md[,colnames(md) == catper]))])\n",
    "          adonres <- adonis2(red ~ na.omit(md[,colnames(md) == catper]))\n",
    "          Rsq <- adonres$R2[1]\n",
    "          pval <- adonres$'Pr(>F)'[1]\n",
    "        } else {\n",
    "          adonres <- adonis2(distm ~ md[,colnames(md) == catper])\n",
    "          Rsq <- adonres$R2[1]\n",
    "          pval <- adonres$'Pr(>F)'[1]\n",
    "        }\n",
    "\n",
    "    PcoA <- cmdscale(distm, k =2, eig = T, add = T)\n",
    "    PcoA_points <- as.data.frame(PcoA$points)\n",
    "    variance <- round(PcoA$eig*100/sum(PcoA$eig),1)\n",
    "    names(PcoA_points)[1:2] <- c('PCoA1', 'PCoA2')\n",
    "    PcoA_points <- as.data.frame(PcoA_points)\n",
    "    PcoA_points$Group <- md[,colnames(md) == catcols][match(rownames(PcoA_points),rownames(md))]\n",
    "    names(PcoA_points)[1:2] <- c('PCoA1', 'PCoA2')\n",
    "    \n",
    "    # plot\n",
    "    cbPalette <- cols\n",
    "\n",
    "    if (mdtype == 'continuous'){\n",
    "          Tr_PcoA <- ggplot(PcoA_points, aes(x = PCoA1, y = PCoA2, colour = Group, label = row.names(PcoA))) + geom_point(size=2.5) +\n",
    "            scale_colour_gradient(low = collow, high = colhigh,space = \"Lab\", na.value = \"grey50\", guide = \"colourbar\",aesthetics = \"colour\")+\n",
    "            theme(legend.title=element_blank()) +\n",
    "            xlab(paste('PCoA1',variance[1],'%', sep = ' ')) +\n",
    "            ylab(paste('PCoA2',variance[2],'%', sep = ' ')) +\n",
    "            ggtitle(paste(title,paste0(\"(p=\",round(pval,4),\",\"),paste0(\"adonis-R2=\",round(Rsq,4),\")\"),sep=\" \"))\n",
    "\n",
    "        } else {\n",
    "\n",
    "          Tr_PcoA <- ggplot(PcoA_points, aes(x = PCoA1, y = PCoA2, colour = Group, label = row.names(PcoA))) + geom_point(size=2.5) +\n",
    "            scale_colour_manual(values = cbPalette) +\n",
    "            theme(legend.title=element_blank()) +\n",
    "            xlab(paste('PCoA1',variance[1],'%', sep = ' ')) +\n",
    "            ylab(paste('PCoA2',variance[2],'%', sep = ' ')) +\n",
    "            ggtitle(paste(title,paste0(\"(p=\",round(pval,4),\",\"),paste0(\"adonis-R2=\",round(Rsq,4),\")\"),sep=\" \"))\n",
    "        }\n",
    "    \n",
    "    print(Tr_PcoA)\n",
    "}"
   ]
  },
  {
   "cell_type": "markdown",
   "metadata": {
    "id": "wtrYBv7iUuKH"
   },
   "source": [
    "By defining different parameters within the plotPCoA function:<br>\n",
    "\n",
    "- <b>distmetric</b>: A distance metric of your choice, including \"euclidean\", \"maximum\", \"manhattan\", \"canberra\", \"binary\" or \"minkowski\".<br>\n",
    "- <b>catper</b>: How should the samples be grouped for PERMANOVA, this can be any column name of your metadata.<br>\n",
    "- <b>catcols</b>: According to what groups should the samples be colored on the PCoA, this can be any column name of your metadata.<br>\n",
    "- <b>mdtype</b>: Either 'categorical' or 'continuous', this value defines whether a continuous or categorical color scale should be used for the PCoA. <br>\n",
    "- <b>cols</b>: Colors used for plotting the groups in the PCoA. The length of this object should be equal to the number of groups plotted.<br>\n",
    "- <b>title</b>: Any title of your choice you want to give the plot.<br>\n",
    "\n",
    "you can now quickly explore different research questions such as:<br>\n",
    "\n",
    "Is there a difference in the metabolomic data of DOM samples with different algae concentrations? How much of the variation in our data can be explained by algal concentration within the DOM?"
   ]
  },
  {
   "cell_type": "code",
   "execution_count": 26,
   "metadata": {
    "colab": {
     "base_uri": "https://localhost:8080/",
     "height": 437
    },
    "id": "Joe22YwYUrPj",
    "outputId": "c1d30130-3c65-43e4-ecc0-a5f861ecf466",
    "vscode": {
     "languageId": "r"
    }
   },
   "outputs": [
    {
     "data": {
      "image/png": "[encoded data removed]",
      "text/plain": [
       "plot without title"
      ]
     },
     "metadata": {
      "image/png": {
       "height": 420,
       "width": 420
      }
     },
     "output_type": "display_data"
    }
   ],
   "source": [
    "plotPCoA(fts, md, distmetric = \"canberra\", catper = \"ATTRIBUTE_Sample\", catcols = \"ATTRIBUTE_Sample\", mdtype = 'categorical', \n",
    "                      cols = c('orange','darkgreen','red','blue','black'),\n",
    "                      title = 'Principal coordinates plot')"
   ]
  },
  {
   "cell_type": "markdown",
   "metadata": {
    "id": "wp--Yt40XdT-"
   },
   "source": [
    "There is a significant difference in the metabolomic profiles of DOM with different concentrations of algae (PERMANOVA, P < 0.05, Adonis R2 = 0.8027) and app. 80% of the variation in our data can be explained by algae concentration."
   ]
  },
  {
   "cell_type": "markdown",
   "metadata": {
    "id": "_zr6ax7yXn_O"
   },
   "source": [
    "- What if we treat algae concentration as continuous data?"
   ]
  },
  {
   "cell_type": "code",
   "execution_count": 68,
   "metadata": {
    "colab": {
     "base_uri": "https://localhost:8080/",
     "height": 437
    },
    "id": "Vcxp8GxMSRan",
    "outputId": "59d196ad-a8e9-4e78-8f8b-5f7c1c107e20",
    "vscode": {
     "languageId": "r"
    }
   },
   "outputs": [
    {
     "data": {
      "image/png": "[encoded data removed]",
      "text/plain": [
       "plot without title"
      ]
     },
     "metadata": {
      "image/png": {
       "height": 420,
       "width": 420
      }
     },
     "output_type": "display_data"
    }
   ],
   "source": [
    "plotPCoA(fts, md, distmetric = \"canberra\", catper = \"ATTRIBUTE_Time-Point\", catcols = \"ATTRIBUTE_Time-Point\", mdtype = 'continuous', \n",
    "                      title = 'Principal coordinates plot')"
   ]
  },
  {
   "cell_type": "markdown",
   "metadata": {
    "id": "j-y6cjGsYyiE"
   },
   "source": [
    "There is a significant difference in the metabolomic profiles of DOM with different concentrations of algae (PERMANOVA, P < 0.05, Adonis R2 = 0.3688) and app. 37% of the variation in our data can be explained by algae concentration."
   ]
  },
  {
   "cell_type": "markdown",
   "metadata": {},
   "source": [
    "- We can also test a different distance metric and look at the separation of samples. During data cleanup we replaced all zero values with the minimum value found in our feature table. We might want to opt not to impute any values but instead use a distance metric that can deal with missing values (e.g. Canberra)."
   ]
  },
  {
   "cell_type": "markdown",
   "metadata": {},
   "source": [
    "First, we replace all imputed values in the feature table with NA"
   ]
  },
  {
   "cell_type": "code",
   "execution_count": 27,
   "metadata": {},
   "outputs": [],
   "source": [
    "ft_nonimp <- ft"
   ]
  },
  {
   "cell_type": "code",
   "execution_count": 28,
   "metadata": {},
   "outputs": [],
   "source": [
    "ft_nonimp[ft_nonimp == min(ft_nonimp)] <- NA"
   ]
  },
  {
   "cell_type": "code",
   "execution_count": 29,
   "metadata": {},
   "outputs": [],
   "source": [
    "fts_nonimp <- scale(ft_nonimp, scale = TRUE, center = TRUE)"
   ]
  },
  {
   "cell_type": "markdown",
   "metadata": {},
   "source": [
    "How many missing values do we have (in %)?"
   ]
  },
  {
   "cell_type": "code",
   "execution_count": 31,
   "metadata": {},
   "outputs": [
    {
     "data": {
      "text/html": [
       "27.8603749191984"
      ],
      "text/latex": [
       "27.8603749191984"
      ],
      "text/markdown": [
       "27.8603749191984"
      ],
      "text/plain": [
       "[1] 27.86037"
      ]
     },
     "metadata": {},
     "output_type": "display_data"
    }
   ],
   "source": [
    "(sum(is.na(ft_nonimp))*100)/(dim(ft)[1]*dim(ft)[2])"
   ]
  },
  {
   "cell_type": "code",
   "execution_count": 32,
   "metadata": {},
   "outputs": [
    {
     "data": {
      "image/png": "[encoded data removed]",
      "text/plain": [
       "plot without title"
      ]
     },
     "metadata": {
      "image/png": {
       "height": 420,
       "width": 420
      }
     },
     "output_type": "display_data"
    }
   ],
   "source": [
    "plotPCoA(fts_nonimp, md, distmetric = \"canberra\", catper = \"ATTRIBUTE_Sample\", catcols = \"ATTRIBUTE_Sample\", mdtype = 'categorical', \n",
    "                      cols = c('orange','darkgreen','red','blue','black'),\n",
    "                      title = 'Principal coordinates plot')"
   ]
  },
  {
   "cell_type": "code",
   "execution_count": 78,
   "metadata": {},
   "outputs": [
    {
     "data": {
      "image/png": "[encoded data removed]",
      "text/plain": [
       "plot without title"
      ]
     },
     "metadata": {
      "image/png": {
       "height": 420,
       "width": 420
      }
     },
     "output_type": "display_data"
    }
   ],
   "source": [
    "plotPCoA(fts_nonimp, md, distmetric = \"canberra\", catper = \"ATTRIBUTE_Time-Point\", catcols = \"ATTRIBUTE_Time-Point\", mdtype = 'continuous', \n",
    "                      title = 'Principal coordinates plot')"
   ]
  },
  {
   "cell_type": "markdown",
   "metadata": {},
   "source": [
    "Using the Canberra distance metric, we also see a significant difference in the metabolomic profiles of DOM with different concentrations of algae (PERMANOVA, P < 0.05, Adonis R2 = 0.7261 and 0.2321 respectively) and app. 73% and 23% of the variation in our data can be explained by algae concentration."
   ]
  },
  {
   "cell_type": "markdown",
   "metadata": {},
   "source": [
    "- Lastly, let's also test a binary metric, the Jaccard metric. When we apply the Jaccard metric we need to work with the non-imputed, non-scaled feature table, where all missing values need to be converted to 0s. A positive value will be interpreted as 1 (present) and missing values as 0 (absent)."
   ]
  },
  {
   "cell_type": "code",
   "execution_count": 33,
   "metadata": {},
   "outputs": [],
   "source": [
    "ft_nonimp_0 <- ft_nonimp"
   ]
  },
  {
   "cell_type": "code",
   "execution_count": 34,
   "metadata": {},
   "outputs": [],
   "source": [
    "ft_nonimp_0[is.na(ft_nonimp_0)] <- 0"
   ]
  },
  {
   "cell_type": "code",
   "execution_count": 35,
   "metadata": {},
   "outputs": [
    {
     "data": {
      "image/png": "[encoded data removed]",
      "text/plain": [
       "plot without title"
      ]
     },
     "metadata": {
      "image/png": {
       "height": 420,
       "width": 420
      }
     },
     "output_type": "display_data"
    }
   ],
   "source": [
    "plotPCoA(ft_nonimp_0, md, distmetric = \"binary\", catper = \"ATTRIBUTE_Sample\", catcols = \"ATTRIBUTE_Sample\", mdtype = 'categorical', \n",
    "                      cols = c('orange','darkgreen','red','blue','black'),\n",
    "                      title = 'Principal coordinates plot')"
   ]
  },
  {
   "cell_type": "code",
   "execution_count": 36,
   "metadata": {},
   "outputs": [
    {
     "data": {
      "image/png": "[encoded data removed]",
      "text/plain": [
       "plot without title"
      ]
     },
     "metadata": {
      "image/png": {
       "height": 420,
       "width": 420
      }
     },
     "output_type": "display_data"
    }
   ],
   "source": [
    "plotPCoA(ft_nonimp_0, md, distmetric = \"binary\", catper = \"ATTRIBUTE_Time-Point\", catcols = \"ATTRIBUTE_Time-Point\", mdtype = 'continuous', \n",
    "                      title = 'Principal coordinates plot')"
   ]
  },
  {
   "cell_type": "markdown",
   "metadata": {},
   "source": [
    "Using the Jaccard distance metric, we also see a significant difference in the metabolomic profiles of DOM with different concentrations of algae (PERMANOVA, P < 0.05, Adonis R2 = 0.9905 and 0.8232 respectively) and app. 99% and 82% of the variation in our data can be explained by algae concentration."
   ]
  },
  {
   "cell_type": "code",
   "execution_count": 69,
   "metadata": {
    "colab": {
     "base_uri": "https://localhost:8080/",
     "height": 652
    },
    "id": "6o1OlPbUZKed",
    "outputId": "a9fca764-87d4-4ac4-a5b1-c5ab40d5e2a8",
    "vscode": {
     "languageId": "r"
    }
   },
   "outputs": [
    {
     "data": {
      "text/plain": [
       "R version 4.2.0 (2022-04-22)\n",
       "Platform: x86_64-pc-linux-gnu (64-bit)\n",
       "Running under: Ubuntu 18.04.5 LTS\n",
       "\n",
       "Matrix products: default\n",
       "BLAS:   /usr/lib/x86_64-linux-gnu/openblas/libblas.so.3\n",
       "LAPACK: /usr/lib/x86_64-linux-gnu/libopenblasp-r0.2.20.so\n",
       "\n",
       "locale:\n",
       " [1] LC_CTYPE=en_US.UTF-8       LC_NUMERIC=C              \n",
       " [3] LC_TIME=en_US.UTF-8        LC_COLLATE=en_US.UTF-8    \n",
       " [5] LC_MONETARY=en_US.UTF-8    LC_MESSAGES=en_US.UTF-8   \n",
       " [7] LC_PAPER=en_US.UTF-8       LC_NAME=C                 \n",
       " [9] LC_ADDRESS=C               LC_TELEPHONE=C            \n",
       "[11] LC_MEASUREMENT=en_US.UTF-8 LC_IDENTIFICATION=C       \n",
       "\n",
       "attached base packages:\n",
       "[1] stats     graphics  grDevices utils     datasets  methods   base     \n",
       "\n",
       "other attached packages:\n",
       "[1] ggplot2_3.3.6   vegan_2.6-2     lattice_0.20-45 permute_0.9-7  \n",
       "\n",
       "loaded via a namespace (and not attached):\n",
       " [1] pillar_1.7.0     compiler_4.2.0   base64enc_0.1-3  tools_4.2.0     \n",
       " [5] digest_0.6.29    uuid_1.1-0       tibble_3.1.7     jsonlite_1.8.0  \n",
       " [9] evaluate_0.15    lifecycle_1.0.1  nlme_3.1-157     gtable_0.3.0    \n",
       "[13] mgcv_1.8-40      pkgconfig_2.0.3  rlang_1.0.3      Matrix_1.4-1    \n",
       "[17] DBI_1.1.3        IRdisplay_1.1    cli_3.3.0        IRkernel_1.3    \n",
       "[21] parallel_4.2.0   fastmap_1.1.0    withr_2.5.0      dplyr_1.0.9     \n",
       "[25] repr_1.1.4       cluster_2.1.3    generics_0.1.3   vctrs_0.4.1     \n",
       "[29] tidyselect_1.1.2 grid_4.2.0       glue_1.6.2       R6_2.5.1        \n",
       "[33] fansi_1.0.3      pbdZMQ_0.3-7     farver_2.1.1     purrr_0.3.4     \n",
       "[37] magrittr_2.0.3   scales_1.2.0     ellipsis_0.3.2   htmltools_0.5.2 \n",
       "[41] MASS_7.3-57      splines_4.2.0    assertthat_0.2.1 colorspace_2.0-3\n",
       "[45] labeling_0.4.2   utf8_1.2.2       munsell_0.5.0    crayon_1.5.1    "
      ]
     },
     "metadata": {},
     "output_type": "display_data"
    }
   ],
   "source": [
    "sessionInfo()"
   ]
  }
 ],
 "metadata": {
  "colab": {
   "collapsed_sections": [],
   "name": "PCoA_PERMANOVA_summer_school_22_28072022.ipynb",
   "provenance": []
  },
  "kernelspec": {
   "display_name": "R",
   "language": "R",
   "name": "ir"
  },
  "language_info": {
   "codemirror_mode": "r",
   "file_extension": ".r",
   "mimetype": "text/x-r-source",
   "name": "R",
   "pygments_lexer": "r",
   "version": "4.1.1"
  }
 },
 "nbformat": 4,
 "nbformat_minor": 1
}
