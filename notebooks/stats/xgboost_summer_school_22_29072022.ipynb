{
  "nbformat": 4,
  "nbformat_minor": 0,
  "metadata": {
    "colab": {
      "name": "xgboost_summer_school_22_29072022.ipynb",
      "provenance": [],
      "collapsed_sections": []
    },
    "kernelspec": {
      "name": "ir",
      "display_name": "R"
    },
    "language_info": {
      "name": "R"
    }
  },
  "cells": [
    {
      "cell_type": "markdown",
      "source": [
        "#<b>Supervised learning: using XGBoost (eXtreme Gradient Boosting) for predicting a phenotype/variable of interest</b><br>\n",
        "\n",
        "Author: Francesco Russo, frru@ssi.dk<br>\n",
        "Last Update: July 29, 2022<br>\n",
        "\n",
        "Notebook for the International Summer School on non-targeted metabolomics 2022.<br>\n",
        "\n",
        "In this notebook, we are going to use a supervised machine learning model to predict a variable of interest. <b>It's important to keep in mind that in the following example we have few samples, therefore the predictions have to be used as \"toy example\". Ideally, you would like many more samples and a meaningful prediction to perform (and not a trivial one!).</b><br>\n",
        "\n",
        "We use XGBoost, which stands for Extreme Gradient Boosting, a scalable, distributed gradient-boosted decision tree (GBDT) machine learning library which is implemented in many programming languages. Currently, XGBooost is the leading machine learning library for different learning tasks such as regression and classification and it usually wins several data science competitions for analysing tabular data.<br>\n",
        "\n",
        "Some useful info at:<br>\n",
        "XGBoost: https://xgboost.readthedocs.io/en/stable/R-package/xgboostPresentation.html (R package for training an XGBoost model)\n",
        "Caret: https://topepo.github.io/caret/ (R package for training different machine learning models)."
      ],
      "metadata": {
        "id": "FJsVxzOMtkVC"
      }
    },
    {
      "cell_type": "code",
      "source": [
        "# last update\n",
        "Sys.time()"
      ],
      "metadata": {
        "colab": {
          "base_uri": "https://localhost:8080/",
          "height": 35
        },
        "id": "ZB07AuGGuBmS",
        "outputId": "e6c56d8b-7b15-4701-a9e9-6f3f45a0088c"
      },
      "execution_count": 1,
      "outputs": [
        {
          "output_type": "display_data",
          "data": {
            "text/plain": [
              "[1] \"2022-07-29 13:34:39 UTC\""
            ]
          },
          "metadata": {}
        }
      ]
    },
    {
      "cell_type": "code",
      "execution_count": 2,
      "metadata": {
        "colab": {
          "base_uri": "https://localhost:8080/"
        },
        "id": "MXYZW9fKqHol",
        "outputId": "662b9089-1b27-4f04-c6b0-90b5fa3cab37"
      },
      "outputs": [
        {
          "output_type": "stream",
          "name": "stderr",
          "text": [
            "Installing package into ‘/usr/local/lib/R/site-library’\n",
            "(as ‘lib’ is unspecified)\n",
            "\n",
            "Installing package into ‘/usr/local/lib/R/site-library’\n",
            "(as ‘lib’ is unspecified)\n",
            "\n",
            "Installing package into ‘/usr/local/lib/R/site-library’\n",
            "(as ‘lib’ is unspecified)\n",
            "\n",
            "Installing package into ‘/usr/local/lib/R/site-library’\n",
            "(as ‘lib’ is unspecified)\n",
            "\n"
          ]
        }
      ],
      "source": [
        "install.packages(\"xgboost\")\n",
        "install.packages(\"caret\")\n",
        "install.packages(\"dplyr\")\n",
        "install.packages(\"pROC\")"
      ]
    },
    {
      "cell_type": "code",
      "source": [
        "library(\"xgboost\")\n",
        "library(\"caret\")\n",
        "library(\"dplyr\")\n",
        "library(\"pROC\")"
      ],
      "metadata": {
        "colab": {
          "base_uri": "https://localhost:8080/"
        },
        "id": "896fVhPRy6PS",
        "outputId": "070542d7-8a00-4997-838b-c0e89e6c8335"
      },
      "execution_count": 3,
      "outputs": [
        {
          "output_type": "stream",
          "name": "stderr",
          "text": [
            "Loading required package: ggplot2\n",
            "\n",
            "Loading required package: lattice\n",
            "\n",
            "Warning message in system(\"timedatectl\", intern = TRUE):\n",
            "“running command 'timedatectl' had status 1”\n",
            "\n",
            "Attaching package: ‘dplyr’\n",
            "\n",
            "\n",
            "The following object is masked from ‘package:xgboost’:\n",
            "\n",
            "    slice\n",
            "\n",
            "\n",
            "The following objects are masked from ‘package:stats’:\n",
            "\n",
            "    filter, lag\n",
            "\n",
            "\n",
            "The following objects are masked from ‘package:base’:\n",
            "\n",
            "    intersect, setdiff, setequal, union\n",
            "\n",
            "\n",
            "Type 'citation(\"pROC\")' for a citation.\n",
            "\n",
            "\n",
            "Attaching package: ‘pROC’\n",
            "\n",
            "\n",
            "The following objects are masked from ‘package:stats’:\n",
            "\n",
            "    cov, smooth, var\n",
            "\n",
            "\n"
          ]
        }
      ]
    },
    {
      "cell_type": "markdown",
      "source": [
        "<b>Importing feature table and metadata</b><br>\n",
        "\n",
        "In the following, we import the cleaned and imputed feature table (performed by Abzer, GitHub: @abzer005)."
      ],
      "metadata": {
        "id": "6wse3d3qzNsM"
      }
    },
    {
      "cell_type": "code",
      "source": [
        "# Here, we import the files from GitHub but you can import them from your local computer or from Google Drive as well of course\n",
        "# cleaned and imputed (but not normalized feature table)\n",
        "ft_url <- 'https://raw.githubusercontent.com/Functional-Metabolomics-Lab/Summer-School_Functional-Metabolomics/main/MZmine%20Files_Results_Generated_using_JupyterNotebook/Imputed_QuantTable_with_MinValue_3766_Full.csv'\n",
        "# metadata\n",
        "md_url <- 'https://raw.githubusercontent.com/Functional-Metabolomics-Lab/Summer-School_Functional-Metabolomics/main/MZmine%20Files/20220726_Xenobiotic_Metabolism_metadata.txt'"
      ],
      "metadata": {
        "id": "nNVcL60azJUa"
      },
      "execution_count": 4,
      "outputs": []
    },
    {
      "cell_type": "code",
      "source": [
        "ft <- read.csv(ft_url, header = T, check.names = F, row.names = 1)\n",
        "md <- read.csv(md_url, header = T, check.names = F, sep = '\\t')"
      ],
      "metadata": {
        "id": "Lim8QcXMzZ7T"
      },
      "execution_count": 5,
      "outputs": []
    },
    {
      "cell_type": "code",
      "source": [
        "dim(ft)\n",
        "dim(md)"
      ],
      "metadata": {
        "colab": {
          "base_uri": "https://localhost:8080/",
          "height": 52
        },
        "id": "RUUaFRiAzeAa",
        "outputId": "a6a56f02-a0d7-428e-f835-48a8a384bdf7"
      },
      "execution_count": 6,
      "outputs": [
        {
          "output_type": "display_data",
          "data": {
            "text/html": [
              "<style>\n",
              ".list-inline {list-style: none; margin:0; padding: 0}\n",
              ".list-inline>li {display: inline-block}\n",
              ".list-inline>li:not(:last-child)::after {content: \"\\00b7\"; padding: 0 .5ex}\n",
              "</style>\n",
              "<ol class=list-inline><li>5759</li><li>80</li></ol>\n"
            ],
            "text/markdown": "1. 5759\n2. 80\n\n\n",
            "text/latex": "\\begin{enumerate*}\n\\item 5759\n\\item 80\n\\end{enumerate*}\n",
            "text/plain": [
              "[1] 5759   80"
            ]
          },
          "metadata": {}
        },
        {
          "output_type": "display_data",
          "data": {
            "text/html": [
              "<style>\n",
              ".list-inline {list-style: none; margin:0; padding: 0}\n",
              ".list-inline>li {display: inline-block}\n",
              ".list-inline>li:not(:last-child)::after {content: \"\\00b7\"; padding: 0 .5ex}\n",
              "</style>\n",
              "<ol class=list-inline><li>82</li><li>7</li></ol>\n"
            ],
            "text/markdown": "1. 82\n2. 7\n\n\n",
            "text/latex": "\\begin{enumerate*}\n\\item 82\n\\item 7\n\\end{enumerate*}\n",
            "text/plain": [
              "[1] 82  7"
            ]
          },
          "metadata": {}
        }
      ]
    },
    {
      "cell_type": "code",
      "source": [
        "head(ft, n = 2)"
      ],
      "metadata": {
        "colab": {
          "base_uri": "https://localhost:8080/",
          "height": 181
        },
        "id": "D7ZtHYCqzhkO",
        "outputId": "b0a2d734-8ec2-4816-afae-49eefd12cb0b"
      },
      "execution_count": 7,
      "outputs": [
        {
          "output_type": "display_data",
          "data": {
            "text/html": [
              "<table class=\"dataframe\">\n",
              "<caption>A data.frame: 2 × 80</caption>\n",
              "<thead>\n",
              "\t<tr><th></th><th scope=col>t2_Ec_C.mzML</th><th scope=col>t2_BS_C.mzML</th><th scope=col>t1_BS_C.mzML</th><th scope=col>t0_BS_C.mzML</th><th scope=col>t0_Ec_C.mzML</th><th scope=col>t1_Ec_C.mzML</th><th scope=col>t0_Ec_3.mzML</th><th scope=col>t0_Ec_1.mzML</th><th scope=col>t1_BS_3.mzML</th><th scope=col>t1_BS_1.mzML</th><th scope=col>⋯</th><th scope=col>t9_Ec_C.mzML</th><th scope=col>t9_Ec_1.mzML</th><th scope=col>t8_Ec_1.mzML</th><th scope=col>t9_Ec_3.mzML</th><th scope=col>t8_BS_C.mzML</th><th scope=col>t9_Ec_2.mzML</th><th scope=col>t9_BS_C.mzML</th><th scope=col>t9_BS_3.mzML</th><th scope=col>t9_BS_1.mzML</th><th scope=col>t9_BS_2.mzML</th></tr>\n",
              "\t<tr><th></th><th scope=col>&lt;dbl&gt;</th><th scope=col>&lt;dbl&gt;</th><th scope=col>&lt;dbl&gt;</th><th scope=col>&lt;dbl&gt;</th><th scope=col>&lt;dbl&gt;</th><th scope=col>&lt;dbl&gt;</th><th scope=col>&lt;dbl&gt;</th><th scope=col>&lt;dbl&gt;</th><th scope=col>&lt;dbl&gt;</th><th scope=col>&lt;dbl&gt;</th><th scope=col>⋯</th><th scope=col>&lt;dbl&gt;</th><th scope=col>&lt;dbl&gt;</th><th scope=col>&lt;dbl&gt;</th><th scope=col>&lt;dbl&gt;</th><th scope=col>&lt;dbl&gt;</th><th scope=col>&lt;dbl&gt;</th><th scope=col>&lt;dbl&gt;</th><th scope=col>&lt;dbl&gt;</th><th scope=col>&lt;dbl&gt;</th><th scope=col>&lt;dbl&gt;</th></tr>\n",
              "</thead>\n",
              "<tbody>\n",
              "\t<tr><th scope=row>48_284.049_0.296</th><td>57190.83</td><td>30703.12</td><td>22455.54</td><td>16610.77</td><td>12647.69</td><td>45817.29</td><td>36945.29</td><td>  7563.947</td><td>127769.73</td><td>45541.16</td><td>⋯</td><td>68534.04</td><td>62049.73</td><td>68566.64</td><td>69222.69</td><td>59887.89</td><td>56783.34</td><td>63848.29</td><td>38388.64</td><td>69037.84</td><td>158943.36</td></tr>\n",
              "\t<tr><th scope=row>97_245.095_0.521</th><td> 3766.00</td><td> 3766.00</td><td> 3766.00</td><td> 3766.00</td><td> 3766.00</td><td> 3766.00</td><td>63810.39</td><td>105098.740</td><td> 39515.62</td><td>74559.23</td><td>⋯</td><td>31211.48</td><td>24871.02</td><td>35276.88</td><td>35860.07</td><td>43292.93</td><td>36117.34</td><td>33443.48</td><td>34075.53</td><td>34425.60</td><td> 51332.15</td></tr>\n",
              "</tbody>\n",
              "</table>\n"
            ],
            "text/markdown": "\nA data.frame: 2 × 80\n\n| <!--/--> | t2_Ec_C.mzML &lt;dbl&gt; | t2_BS_C.mzML &lt;dbl&gt; | t1_BS_C.mzML &lt;dbl&gt; | t0_BS_C.mzML &lt;dbl&gt; | t0_Ec_C.mzML &lt;dbl&gt; | t1_Ec_C.mzML &lt;dbl&gt; | t0_Ec_3.mzML &lt;dbl&gt; | t0_Ec_1.mzML &lt;dbl&gt; | t1_BS_3.mzML &lt;dbl&gt; | t1_BS_1.mzML &lt;dbl&gt; | ⋯ ⋯ | t9_Ec_C.mzML &lt;dbl&gt; | t9_Ec_1.mzML &lt;dbl&gt; | t8_Ec_1.mzML &lt;dbl&gt; | t9_Ec_3.mzML &lt;dbl&gt; | t8_BS_C.mzML &lt;dbl&gt; | t9_Ec_2.mzML &lt;dbl&gt; | t9_BS_C.mzML &lt;dbl&gt; | t9_BS_3.mzML &lt;dbl&gt; | t9_BS_1.mzML &lt;dbl&gt; | t9_BS_2.mzML &lt;dbl&gt; |\n|---|---|---|---|---|---|---|---|---|---|---|---|---|---|---|---|---|---|---|---|---|---|\n| 48_284.049_0.296 | 57190.83 | 30703.12 | 22455.54 | 16610.77 | 12647.69 | 45817.29 | 36945.29 |   7563.947 | 127769.73 | 45541.16 | ⋯ | 68534.04 | 62049.73 | 68566.64 | 69222.69 | 59887.89 | 56783.34 | 63848.29 | 38388.64 | 69037.84 | 158943.36 |\n| 97_245.095_0.521 |  3766.00 |  3766.00 |  3766.00 |  3766.00 |  3766.00 |  3766.00 | 63810.39 | 105098.740 |  39515.62 | 74559.23 | ⋯ | 31211.48 | 24871.02 | 35276.88 | 35860.07 | 43292.93 | 36117.34 | 33443.48 | 34075.53 | 34425.60 |  51332.15 |\n\n",
            "text/latex": "A data.frame: 2 × 80\n\\begin{tabular}{r|lllllllllllllllllllll}\n  & t2\\_Ec\\_C.mzML & t2\\_BS\\_C.mzML & t1\\_BS\\_C.mzML & t0\\_BS\\_C.mzML & t0\\_Ec\\_C.mzML & t1\\_Ec\\_C.mzML & t0\\_Ec\\_3.mzML & t0\\_Ec\\_1.mzML & t1\\_BS\\_3.mzML & t1\\_BS\\_1.mzML & ⋯ & t9\\_Ec\\_C.mzML & t9\\_Ec\\_1.mzML & t8\\_Ec\\_1.mzML & t9\\_Ec\\_3.mzML & t8\\_BS\\_C.mzML & t9\\_Ec\\_2.mzML & t9\\_BS\\_C.mzML & t9\\_BS\\_3.mzML & t9\\_BS\\_1.mzML & t9\\_BS\\_2.mzML\\\\\n  & <dbl> & <dbl> & <dbl> & <dbl> & <dbl> & <dbl> & <dbl> & <dbl> & <dbl> & <dbl> & ⋯ & <dbl> & <dbl> & <dbl> & <dbl> & <dbl> & <dbl> & <dbl> & <dbl> & <dbl> & <dbl>\\\\\n\\hline\n\t48\\_284.049\\_0.296 & 57190.83 & 30703.12 & 22455.54 & 16610.77 & 12647.69 & 45817.29 & 36945.29 &   7563.947 & 127769.73 & 45541.16 & ⋯ & 68534.04 & 62049.73 & 68566.64 & 69222.69 & 59887.89 & 56783.34 & 63848.29 & 38388.64 & 69037.84 & 158943.36\\\\\n\t97\\_245.095\\_0.521 &  3766.00 &  3766.00 &  3766.00 &  3766.00 &  3766.00 &  3766.00 & 63810.39 & 105098.740 &  39515.62 & 74559.23 & ⋯ & 31211.48 & 24871.02 & 35276.88 & 35860.07 & 43292.93 & 36117.34 & 33443.48 & 34075.53 & 34425.60 &  51332.15\\\\\n\\end{tabular}\n",
            "text/plain": [
              "                 t2_Ec_C.mzML t2_BS_C.mzML t1_BS_C.mzML t0_BS_C.mzML\n",
              "48_284.049_0.296 57190.83     30703.12     22455.54     16610.77    \n",
              "97_245.095_0.521  3766.00      3766.00      3766.00      3766.00    \n",
              "                 t0_Ec_C.mzML t1_Ec_C.mzML t0_Ec_3.mzML t0_Ec_1.mzML\n",
              "48_284.049_0.296 12647.69     45817.29     36945.29       7563.947  \n",
              "97_245.095_0.521  3766.00      3766.00     63810.39     105098.740  \n",
              "                 t1_BS_3.mzML t1_BS_1.mzML ⋯ t9_Ec_C.mzML t9_Ec_1.mzML\n",
              "48_284.049_0.296 127769.73    45541.16     ⋯ 68534.04     62049.73    \n",
              "97_245.095_0.521  39515.62    74559.23     ⋯ 31211.48     24871.02    \n",
              "                 t8_Ec_1.mzML t9_Ec_3.mzML t8_BS_C.mzML t9_Ec_2.mzML\n",
              "48_284.049_0.296 68566.64     69222.69     59887.89     56783.34    \n",
              "97_245.095_0.521 35276.88     35860.07     43292.93     36117.34    \n",
              "                 t9_BS_C.mzML t9_BS_3.mzML t9_BS_1.mzML t9_BS_2.mzML\n",
              "48_284.049_0.296 63848.29     38388.64     69037.84     158943.36   \n",
              "97_245.095_0.521 33443.48     34075.53     34425.60      51332.15   "
            ]
          },
          "metadata": {}
        }
      ]
    },
    {
      "cell_type": "code",
      "source": [
        "# number of NAs (which are reported here as 3766)\n",
        "(sum(ft == '3766')*100)/(dim(ft)[1]*dim(ft)[2])"
      ],
      "metadata": {
        "colab": {
          "base_uri": "https://localhost:8080/",
          "height": 34
        },
        "id": "un3A62mgzo6t",
        "outputId": "375b9acf-5df8-43e8-9c60-cd561a7afd8a"
      },
      "execution_count": 8,
      "outputs": [
        {
          "output_type": "display_data",
          "data": {
            "text/html": [
              "50.6294495572148"
            ],
            "text/markdown": "50.6294495572148",
            "text/latex": "50.6294495572148",
            "text/plain": [
              "[1] 50.62945"
            ]
          },
          "metadata": {}
        }
      ]
    },
    {
      "cell_type": "code",
      "source": [
        "head(md, n = 2)"
      ],
      "metadata": {
        "colab": {
          "base_uri": "https://localhost:8080/",
          "height": 161
        },
        "id": "xdwXEJrXzsPB",
        "outputId": "ec32c178-f0fb-42e5-e75d-4e3b0a053137"
      },
      "execution_count": 9,
      "outputs": [
        {
          "output_type": "display_data",
          "data": {
            "text/html": [
              "<table class=\"dataframe\">\n",
              "<caption>A data.frame: 2 × 7</caption>\n",
              "<thead>\n",
              "\t<tr><th></th><th scope=col>filename</th><th scope=col>ATTRIBUTE_species</th><th scope=col>ATTRIBUTE_SampleType</th><th scope=col>ATTRIBUTE_timepoint</th><th scope=col>ATTRIBUTE_hours</th><th scope=col>ATTRIBUTE_mins</th><th scope=col>ATTRIBUTE_replicates</th></tr>\n",
              "\t<tr><th></th><th scope=col>&lt;chr&gt;</th><th scope=col>&lt;chr&gt;</th><th scope=col>&lt;chr&gt;</th><th scope=col>&lt;int&gt;</th><th scope=col>&lt;dbl&gt;</th><th scope=col>&lt;int&gt;</th><th scope=col>&lt;int&gt;</th></tr>\n",
              "</thead>\n",
              "<tbody>\n",
              "\t<tr><th scope=row>1</th><td>t0_BS_1.mzML Peak area</td><td>B.subtilis</td><td>With_Treatment</td><td>0</td><td>-0.1666667</td><td>-10</td><td>1</td></tr>\n",
              "\t<tr><th scope=row>2</th><td>t0_BS_2.mzML Peak area</td><td>B.subtilis</td><td>With_Treatment</td><td>0</td><td>-0.1666667</td><td>-10</td><td>2</td></tr>\n",
              "</tbody>\n",
              "</table>\n"
            ],
            "text/markdown": "\nA data.frame: 2 × 7\n\n| <!--/--> | filename &lt;chr&gt; | ATTRIBUTE_species &lt;chr&gt; | ATTRIBUTE_SampleType &lt;chr&gt; | ATTRIBUTE_timepoint &lt;int&gt; | ATTRIBUTE_hours &lt;dbl&gt; | ATTRIBUTE_mins &lt;int&gt; | ATTRIBUTE_replicates &lt;int&gt; |\n|---|---|---|---|---|---|---|---|\n| 1 | t0_BS_1.mzML Peak area | B.subtilis | With_Treatment | 0 | -0.1666667 | -10 | 1 |\n| 2 | t0_BS_2.mzML Peak area | B.subtilis | With_Treatment | 0 | -0.1666667 | -10 | 2 |\n\n",
            "text/latex": "A data.frame: 2 × 7\n\\begin{tabular}{r|lllllll}\n  & filename & ATTRIBUTE\\_species & ATTRIBUTE\\_SampleType & ATTRIBUTE\\_timepoint & ATTRIBUTE\\_hours & ATTRIBUTE\\_mins & ATTRIBUTE\\_replicates\\\\\n  & <chr> & <chr> & <chr> & <int> & <dbl> & <int> & <int>\\\\\n\\hline\n\t1 & t0\\_BS\\_1.mzML Peak area & B.subtilis & With\\_Treatment & 0 & -0.1666667 & -10 & 1\\\\\n\t2 & t0\\_BS\\_2.mzML Peak area & B.subtilis & With\\_Treatment & 0 & -0.1666667 & -10 & 2\\\\\n\\end{tabular}\n",
            "text/plain": [
              "  filename               ATTRIBUTE_species ATTRIBUTE_SampleType\n",
              "1 t0_BS_1.mzML Peak area B.subtilis        With_Treatment      \n",
              "2 t0_BS_2.mzML Peak area B.subtilis        With_Treatment      \n",
              "  ATTRIBUTE_timepoint ATTRIBUTE_hours ATTRIBUTE_mins ATTRIBUTE_replicates\n",
              "1 0                   -0.1666667      -10            1                   \n",
              "2 0                   -0.1666667      -10            2                   "
            ]
          },
          "metadata": {}
        }
      ]
    },
    {
      "cell_type": "markdown",
      "source": [
        "<b>Bring featuretable and metadata in the correct format:</b><br>\n",
        "\n",
        "- Get rid of 'Peak area' extension in filenames to match with metadata and transform metadata rownames to filenames, transform featuretable rownames to a unique identifier consisting of feature IDs, m/z and RT\n",
        "- Remove NA columns from metadata."
      ],
      "metadata": {
        "id": "eowhphZuzw7Q"
      }
    },
    {
      "cell_type": "code",
      "source": [
        "# clean column names of feature table and metadata\n",
        "md$filename <- gsub(' Peak area','',md$filename)\n",
        "# keep only columns in metadata without NAs\n",
        "md <- md[,1:7]\n",
        "rownames(md) <- md$filename"
      ],
      "metadata": {
        "id": "zyEs4y7R0Bxb"
      },
      "execution_count": 10,
      "outputs": []
    },
    {
      "cell_type": "code",
      "source": [
        "head(md, n= 2)"
      ],
      "metadata": {
        "colab": {
          "base_uri": "https://localhost:8080/",
          "height": 161
        },
        "id": "V_d9dHyn0E2z",
        "outputId": "0f512c0f-31ef-46b1-bdb8-b7dff6bb5e74"
      },
      "execution_count": 11,
      "outputs": [
        {
          "output_type": "display_data",
          "data": {
            "text/html": [
              "<table class=\"dataframe\">\n",
              "<caption>A data.frame: 2 × 7</caption>\n",
              "<thead>\n",
              "\t<tr><th></th><th scope=col>filename</th><th scope=col>ATTRIBUTE_species</th><th scope=col>ATTRIBUTE_SampleType</th><th scope=col>ATTRIBUTE_timepoint</th><th scope=col>ATTRIBUTE_hours</th><th scope=col>ATTRIBUTE_mins</th><th scope=col>ATTRIBUTE_replicates</th></tr>\n",
              "\t<tr><th></th><th scope=col>&lt;chr&gt;</th><th scope=col>&lt;chr&gt;</th><th scope=col>&lt;chr&gt;</th><th scope=col>&lt;int&gt;</th><th scope=col>&lt;dbl&gt;</th><th scope=col>&lt;int&gt;</th><th scope=col>&lt;int&gt;</th></tr>\n",
              "</thead>\n",
              "<tbody>\n",
              "\t<tr><th scope=row>t0_BS_1.mzML</th><td>t0_BS_1.mzML</td><td>B.subtilis</td><td>With_Treatment</td><td>0</td><td>-0.1666667</td><td>-10</td><td>1</td></tr>\n",
              "\t<tr><th scope=row>t0_BS_2.mzML</th><td>t0_BS_2.mzML</td><td>B.subtilis</td><td>With_Treatment</td><td>0</td><td>-0.1666667</td><td>-10</td><td>2</td></tr>\n",
              "</tbody>\n",
              "</table>\n"
            ],
            "text/markdown": "\nA data.frame: 2 × 7\n\n| <!--/--> | filename &lt;chr&gt; | ATTRIBUTE_species &lt;chr&gt; | ATTRIBUTE_SampleType &lt;chr&gt; | ATTRIBUTE_timepoint &lt;int&gt; | ATTRIBUTE_hours &lt;dbl&gt; | ATTRIBUTE_mins &lt;int&gt; | ATTRIBUTE_replicates &lt;int&gt; |\n|---|---|---|---|---|---|---|---|\n| t0_BS_1.mzML | t0_BS_1.mzML | B.subtilis | With_Treatment | 0 | -0.1666667 | -10 | 1 |\n| t0_BS_2.mzML | t0_BS_2.mzML | B.subtilis | With_Treatment | 0 | -0.1666667 | -10 | 2 |\n\n",
            "text/latex": "A data.frame: 2 × 7\n\\begin{tabular}{r|lllllll}\n  & filename & ATTRIBUTE\\_species & ATTRIBUTE\\_SampleType & ATTRIBUTE\\_timepoint & ATTRIBUTE\\_hours & ATTRIBUTE\\_mins & ATTRIBUTE\\_replicates\\\\\n  & <chr> & <chr> & <chr> & <int> & <dbl> & <int> & <int>\\\\\n\\hline\n\tt0\\_BS\\_1.mzML & t0\\_BS\\_1.mzML & B.subtilis & With\\_Treatment & 0 & -0.1666667 & -10 & 1\\\\\n\tt0\\_BS\\_2.mzML & t0\\_BS\\_2.mzML & B.subtilis & With\\_Treatment & 0 & -0.1666667 & -10 & 2\\\\\n\\end{tabular}\n",
            "text/plain": [
              "             filename     ATTRIBUTE_species ATTRIBUTE_SampleType\n",
              "t0_BS_1.mzML t0_BS_1.mzML B.subtilis        With_Treatment      \n",
              "t0_BS_2.mzML t0_BS_2.mzML B.subtilis        With_Treatment      \n",
              "             ATTRIBUTE_timepoint ATTRIBUTE_hours ATTRIBUTE_mins\n",
              "t0_BS_1.mzML 0                   -0.1666667      -10           \n",
              "t0_BS_2.mzML 0                   -0.1666667      -10           \n",
              "             ATTRIBUTE_replicates\n",
              "t0_BS_1.mzML 1                   \n",
              "t0_BS_2.mzML 2                   "
            ]
          },
          "metadata": {}
        }
      ]
    },
    {
      "cell_type": "code",
      "source": [
        "table(rownames(md) %in% colnames(ft))"
      ],
      "metadata": {
        "colab": {
          "base_uri": "https://localhost:8080/",
          "height": 71
        },
        "id": "TISz5twl0HeV",
        "outputId": "7927936e-d8cf-4c67-93f7-2a7ce702d029"
      },
      "execution_count": 12,
      "outputs": [
        {
          "output_type": "display_data",
          "data": {
            "text/plain": [
              "\n",
              "FALSE  TRUE \n",
              "    2    80 "
            ]
          },
          "metadata": {}
        }
      ]
    },
    {
      "cell_type": "code",
      "source": [
        "# the blanks are the only files not present in ft\n",
        "setdiff(rownames(md),colnames(ft))"
      ],
      "metadata": {
        "colab": {
          "base_uri": "https://localhost:8080/",
          "height": 34
        },
        "id": "J2Vdptl50Kiq",
        "outputId": "12472c4d-a2f0-4f19-c920-93665351040b"
      },
      "execution_count": 13,
      "outputs": [
        {
          "output_type": "display_data",
          "data": {
            "text/html": [
              "<style>\n",
              ".list-inline {list-style: none; margin:0; padding: 0}\n",
              ".list-inline>li {display: inline-block}\n",
              ".list-inline>li:not(:last-child)::after {content: \"\\00b7\"; padding: 0 .5ex}\n",
              "</style>\n",
              "<ol class=list-inline><li>'Blank_A.mzML'</li><li>'Blank_B.mzML'</li></ol>\n"
            ],
            "text/markdown": "1. 'Blank_A.mzML'\n2. 'Blank_B.mzML'\n\n\n",
            "text/latex": "\\begin{enumerate*}\n\\item 'Blank\\_A.mzML'\n\\item 'Blank\\_B.mzML'\n\\end{enumerate*}\n",
            "text/plain": [
              "[1] \"Blank_A.mzML\" \"Blank_B.mzML\""
            ]
          },
          "metadata": {}
        }
      ]
    },
    {
      "cell_type": "code",
      "source": [
        "# filter out the blank samples from md\n",
        "md <- md[rownames(md) %in% colnames(ft),]"
      ],
      "metadata": {
        "id": "i7jHdLiP0M7n"
      },
      "execution_count": 14,
      "outputs": []
    },
    {
      "cell_type": "code",
      "source": [
        "dim(md)"
      ],
      "metadata": {
        "colab": {
          "base_uri": "https://localhost:8080/",
          "height": 34
        },
        "id": "jx-zKZxH0Rmq",
        "outputId": "1926c207-42be-42de-8ba4-44ebbfbac633"
      },
      "execution_count": 15,
      "outputs": [
        {
          "output_type": "display_data",
          "data": {
            "text/html": [
              "<style>\n",
              ".list-inline {list-style: none; margin:0; padding: 0}\n",
              ".list-inline>li {display: inline-block}\n",
              ".list-inline>li:not(:last-child)::after {content: \"\\00b7\"; padding: 0 .5ex}\n",
              "</style>\n",
              "<ol class=list-inline><li>80</li><li>7</li></ol>\n"
            ],
            "text/markdown": "1. 80\n2. 7\n\n\n",
            "text/latex": "\\begin{enumerate*}\n\\item 80\n\\item 7\n\\end{enumerate*}\n",
            "text/plain": [
              "[1] 80  7"
            ]
          },
          "metadata": {}
        }
      ]
    },
    {
      "cell_type": "code",
      "source": [
        "# convert Specie into binary values\n",
        "md$specie <- ifelse(md$ATTRIBUTE_species == 'E.coli', 1, 0)\n",
        "# convert sample type into binary values\n",
        "md$sample_class <- ifelse(md$ATTRIBUTE_SampleType == 'With_Treatment', 1, 0)"
      ],
      "metadata": {
        "id": "YRiE547z0Sz4"
      },
      "execution_count": 16,
      "outputs": []
    },
    {
      "cell_type": "code",
      "source": [
        "head(md, n=2)"
      ],
      "metadata": {
        "colab": {
          "base_uri": "https://localhost:8080/",
          "height": 161
        },
        "id": "TGmPPZO71wBf",
        "outputId": "6fa301c1-8188-4150-9888-07ab0618d25d"
      },
      "execution_count": 17,
      "outputs": [
        {
          "output_type": "display_data",
          "data": {
            "text/html": [
              "<table class=\"dataframe\">\n",
              "<caption>A data.frame: 2 × 9</caption>\n",
              "<thead>\n",
              "\t<tr><th></th><th scope=col>filename</th><th scope=col>ATTRIBUTE_species</th><th scope=col>ATTRIBUTE_SampleType</th><th scope=col>ATTRIBUTE_timepoint</th><th scope=col>ATTRIBUTE_hours</th><th scope=col>ATTRIBUTE_mins</th><th scope=col>ATTRIBUTE_replicates</th><th scope=col>specie</th><th scope=col>sample_class</th></tr>\n",
              "\t<tr><th></th><th scope=col>&lt;chr&gt;</th><th scope=col>&lt;chr&gt;</th><th scope=col>&lt;chr&gt;</th><th scope=col>&lt;int&gt;</th><th scope=col>&lt;dbl&gt;</th><th scope=col>&lt;int&gt;</th><th scope=col>&lt;int&gt;</th><th scope=col>&lt;dbl&gt;</th><th scope=col>&lt;dbl&gt;</th></tr>\n",
              "</thead>\n",
              "<tbody>\n",
              "\t<tr><th scope=row>t0_BS_1.mzML</th><td>t0_BS_1.mzML</td><td>B.subtilis</td><td>With_Treatment</td><td>0</td><td>-0.1666667</td><td>-10</td><td>1</td><td>0</td><td>1</td></tr>\n",
              "\t<tr><th scope=row>t0_BS_2.mzML</th><td>t0_BS_2.mzML</td><td>B.subtilis</td><td>With_Treatment</td><td>0</td><td>-0.1666667</td><td>-10</td><td>2</td><td>0</td><td>1</td></tr>\n",
              "</tbody>\n",
              "</table>\n"
            ],
            "text/markdown": "\nA data.frame: 2 × 9\n\n| <!--/--> | filename &lt;chr&gt; | ATTRIBUTE_species &lt;chr&gt; | ATTRIBUTE_SampleType &lt;chr&gt; | ATTRIBUTE_timepoint &lt;int&gt; | ATTRIBUTE_hours &lt;dbl&gt; | ATTRIBUTE_mins &lt;int&gt; | ATTRIBUTE_replicates &lt;int&gt; | specie &lt;dbl&gt; | sample_class &lt;dbl&gt; |\n|---|---|---|---|---|---|---|---|---|---|\n| t0_BS_1.mzML | t0_BS_1.mzML | B.subtilis | With_Treatment | 0 | -0.1666667 | -10 | 1 | 0 | 1 |\n| t0_BS_2.mzML | t0_BS_2.mzML | B.subtilis | With_Treatment | 0 | -0.1666667 | -10 | 2 | 0 | 1 |\n\n",
            "text/latex": "A data.frame: 2 × 9\n\\begin{tabular}{r|lllllllll}\n  & filename & ATTRIBUTE\\_species & ATTRIBUTE\\_SampleType & ATTRIBUTE\\_timepoint & ATTRIBUTE\\_hours & ATTRIBUTE\\_mins & ATTRIBUTE\\_replicates & specie & sample\\_class\\\\\n  & <chr> & <chr> & <chr> & <int> & <dbl> & <int> & <int> & <dbl> & <dbl>\\\\\n\\hline\n\tt0\\_BS\\_1.mzML & t0\\_BS\\_1.mzML & B.subtilis & With\\_Treatment & 0 & -0.1666667 & -10 & 1 & 0 & 1\\\\\n\tt0\\_BS\\_2.mzML & t0\\_BS\\_2.mzML & B.subtilis & With\\_Treatment & 0 & -0.1666667 & -10 & 2 & 0 & 1\\\\\n\\end{tabular}\n",
            "text/plain": [
              "             filename     ATTRIBUTE_species ATTRIBUTE_SampleType\n",
              "t0_BS_1.mzML t0_BS_1.mzML B.subtilis        With_Treatment      \n",
              "t0_BS_2.mzML t0_BS_2.mzML B.subtilis        With_Treatment      \n",
              "             ATTRIBUTE_timepoint ATTRIBUTE_hours ATTRIBUTE_mins\n",
              "t0_BS_1.mzML 0                   -0.1666667      -10           \n",
              "t0_BS_2.mzML 0                   -0.1666667      -10           \n",
              "             ATTRIBUTE_replicates specie sample_class\n",
              "t0_BS_1.mzML 1                    0      1           \n",
              "t0_BS_2.mzML 2                    0      1           "
            ]
          },
          "metadata": {}
        }
      ]
    },
    {
      "cell_type": "code",
      "source": [
        "# transpose ft\n",
        "ft <- t(ft)"
      ],
      "metadata": {
        "id": "cH5h9buP0abg"
      },
      "execution_count": 18,
      "outputs": []
    },
    {
      "cell_type": "code",
      "source": [
        "head(ft, n=2)"
      ],
      "metadata": {
        "colab": {
          "base_uri": "https://localhost:8080/",
          "height": 149
        },
        "id": "FisH93zs0fXX",
        "outputId": "563863ed-e57a-4e82-e506-7532bf4ac8f1"
      },
      "execution_count": 19,
      "outputs": [
        {
          "output_type": "display_data",
          "data": {
            "text/html": [
              "<table class=\"dataframe\">\n",
              "<caption>A matrix: 2 × 5759 of type dbl</caption>\n",
              "<thead>\n",
              "\t<tr><th></th><th scope=col>48_284.049_0.296</th><th scope=col>97_245.095_0.521</th><th scope=col>105_181.097_0.521</th><th scope=col>108_157.097_0.52</th><th scope=col>113_166.103_0.533</th><th scope=col>114_160.076_0.522</th><th scope=col>120_169.097_0.525</th><th scope=col>128_318.184_0.528</th><th scope=col>132_166.086_0.53</th><th scope=col>134_228.121_0.534</th><th scope=col>⋯</th><th scope=col>12354_387.733_8.206</th><th scope=col>12355_214.918_8.214</th><th scope=col>12356_230.89_8.216</th><th scope=col>12357_248.9_8.216</th><th scope=col>12361_304.894_8.146</th><th scope=col>12386_245.128_8.986</th><th scope=col>12440_161.082_9.725</th><th scope=col>12447_179.093_9.788</th><th scope=col>12450_261.123_9.888</th><th scope=col>12453_261.123_9.91</th></tr>\n",
              "</thead>\n",
              "<tbody>\n",
              "\t<tr><th scope=row>t2_Ec_C.mzML</th><td>57190.83</td><td>3766</td><td>3766</td><td>3766</td><td>3766</td><td>3766</td><td>3766</td><td>3766</td><td>3766</td><td>3766</td><td>⋯</td><td>3766</td><td>27512.27</td><td>96410.06</td><td>44757.77</td><td>38627.54</td><td>62094.82</td><td>606578.4</td><td>608501.2</td><td>86233.76</td><td>35417.67</td></tr>\n",
              "\t<tr><th scope=row>t2_BS_C.mzML</th><td>30703.12</td><td>3766</td><td>3766</td><td>3766</td><td>3766</td><td>3766</td><td>3766</td><td>3766</td><td>3766</td><td>3766</td><td>⋯</td><td>3766</td><td>24718.62</td><td>96060.30</td><td>45181.07</td><td>47485.14</td><td>50183.21</td><td>601207.0</td><td>606486.2</td><td>74582.01</td><td>63652.69</td></tr>\n",
              "</tbody>\n",
              "</table>\n"
            ],
            "text/markdown": "\nA matrix: 2 × 5759 of type dbl\n\n| <!--/--> | 48_284.049_0.296 | 97_245.095_0.521 | 105_181.097_0.521 | 108_157.097_0.52 | 113_166.103_0.533 | 114_160.076_0.522 | 120_169.097_0.525 | 128_318.184_0.528 | 132_166.086_0.53 | 134_228.121_0.534 | ⋯ | 12354_387.733_8.206 | 12355_214.918_8.214 | 12356_230.89_8.216 | 12357_248.9_8.216 | 12361_304.894_8.146 | 12386_245.128_8.986 | 12440_161.082_9.725 | 12447_179.093_9.788 | 12450_261.123_9.888 | 12453_261.123_9.91 |\n|---|---|---|---|---|---|---|---|---|---|---|---|---|---|---|---|---|---|---|---|---|---|\n| t2_Ec_C.mzML | 57190.83 | 3766 | 3766 | 3766 | 3766 | 3766 | 3766 | 3766 | 3766 | 3766 | ⋯ | 3766 | 27512.27 | 96410.06 | 44757.77 | 38627.54 | 62094.82 | 606578.4 | 608501.2 | 86233.76 | 35417.67 |\n| t2_BS_C.mzML | 30703.12 | 3766 | 3766 | 3766 | 3766 | 3766 | 3766 | 3766 | 3766 | 3766 | ⋯ | 3766 | 24718.62 | 96060.30 | 45181.07 | 47485.14 | 50183.21 | 601207.0 | 606486.2 | 74582.01 | 63652.69 |\n\n",
            "text/latex": "A matrix: 2 × 5759 of type dbl\n\\begin{tabular}{r|lllllllllllllllllllll}\n  & 48\\_284.049\\_0.296 & 97\\_245.095\\_0.521 & 105\\_181.097\\_0.521 & 108\\_157.097\\_0.52 & 113\\_166.103\\_0.533 & 114\\_160.076\\_0.522 & 120\\_169.097\\_0.525 & 128\\_318.184\\_0.528 & 132\\_166.086\\_0.53 & 134\\_228.121\\_0.534 & ⋯ & 12354\\_387.733\\_8.206 & 12355\\_214.918\\_8.214 & 12356\\_230.89\\_8.216 & 12357\\_248.9\\_8.216 & 12361\\_304.894\\_8.146 & 12386\\_245.128\\_8.986 & 12440\\_161.082\\_9.725 & 12447\\_179.093\\_9.788 & 12450\\_261.123\\_9.888 & 12453\\_261.123\\_9.91\\\\\n\\hline\n\tt2\\_Ec\\_C.mzML & 57190.83 & 3766 & 3766 & 3766 & 3766 & 3766 & 3766 & 3766 & 3766 & 3766 & ⋯ & 3766 & 27512.27 & 96410.06 & 44757.77 & 38627.54 & 62094.82 & 606578.4 & 608501.2 & 86233.76 & 35417.67\\\\\n\tt2\\_BS\\_C.mzML & 30703.12 & 3766 & 3766 & 3766 & 3766 & 3766 & 3766 & 3766 & 3766 & 3766 & ⋯ & 3766 & 24718.62 & 96060.30 & 45181.07 & 47485.14 & 50183.21 & 601207.0 & 606486.2 & 74582.01 & 63652.69\\\\\n\\end{tabular}\n",
            "text/plain": [
              "             48_284.049_0.296 97_245.095_0.521 105_181.097_0.521\n",
              "t2_Ec_C.mzML 57190.83         3766             3766             \n",
              "t2_BS_C.mzML 30703.12         3766             3766             \n",
              "             108_157.097_0.52 113_166.103_0.533 114_160.076_0.522\n",
              "t2_Ec_C.mzML 3766             3766              3766             \n",
              "t2_BS_C.mzML 3766             3766              3766             \n",
              "             120_169.097_0.525 128_318.184_0.528 132_166.086_0.53\n",
              "t2_Ec_C.mzML 3766              3766              3766            \n",
              "t2_BS_C.mzML 3766              3766              3766            \n",
              "             134_228.121_0.534 ⋯ 12354_387.733_8.206 12355_214.918_8.214\n",
              "t2_Ec_C.mzML 3766              ⋯ 3766                27512.27           \n",
              "t2_BS_C.mzML 3766              ⋯ 3766                24718.62           \n",
              "             12356_230.89_8.216 12357_248.9_8.216 12361_304.894_8.146\n",
              "t2_Ec_C.mzML 96410.06           44757.77          38627.54           \n",
              "t2_BS_C.mzML 96060.30           45181.07          47485.14           \n",
              "             12386_245.128_8.986 12440_161.082_9.725 12447_179.093_9.788\n",
              "t2_Ec_C.mzML 62094.82            606578.4            608501.2           \n",
              "t2_BS_C.mzML 50183.21            601207.0            606486.2           \n",
              "             12450_261.123_9.888 12453_261.123_9.91\n",
              "t2_Ec_C.mzML 86233.76            35417.67          \n",
              "t2_BS_C.mzML 74582.01            63652.69          "
            ]
          },
          "metadata": {}
        }
      ]
    },
    {
      "cell_type": "code",
      "source": [
        "# make the rows in ft and md in the same order\n",
        "ft <- ft[match(rownames(md),rownames(ft)),]"
      ],
      "metadata": {
        "id": "JyvRyJ6o0i_b"
      },
      "execution_count": 20,
      "outputs": []
    },
    {
      "cell_type": "code",
      "source": [
        "identical(rownames(md),rownames(ft))"
      ],
      "metadata": {
        "colab": {
          "base_uri": "https://localhost:8080/",
          "height": 34
        },
        "id": "98WI-jOE0ltt",
        "outputId": "fe0d77c1-9678-4a96-bd46-5c94f7e98c19"
      },
      "execution_count": 21,
      "outputs": [
        {
          "output_type": "display_data",
          "data": {
            "text/html": [
              "TRUE"
            ],
            "text/markdown": "TRUE",
            "text/latex": "TRUE",
            "text/plain": [
              "[1] TRUE"
            ]
          },
          "metadata": {}
        }
      ]
    },
    {
      "cell_type": "code",
      "source": [
        "# function to remove features having zero median absolute deviation (MAD) which affects the downstream analysis and make the computation slower\n",
        "removeZeroVar <- function(df){\n",
        "  df[, sapply(df, mad) != 0]\n",
        "}"
      ],
      "metadata": {
        "id": "kbSxGCMM0pgk"
      },
      "execution_count": 22,
      "outputs": []
    },
    {
      "cell_type": "code",
      "source": [
        "# number of features after removing zero-variance columns\n",
        "dim(removeZeroVar(as.data.frame(ft)))[2]"
      ],
      "metadata": {
        "colab": {
          "base_uri": "https://localhost:8080/",
          "height": 34
        },
        "id": "utVZhinS0vMv",
        "outputId": "d5007e98-a04e-45dc-d090-a52ab06ed11d"
      },
      "execution_count": 23,
      "outputs": [
        {
          "output_type": "display_data",
          "data": {
            "text/html": [
              "2681"
            ],
            "text/markdown": "2681",
            "text/latex": "2681",
            "text/plain": [
              "[1] 2681"
            ]
          },
          "metadata": {}
        }
      ]
    },
    {
      "cell_type": "code",
      "source": [
        "# apply the function\n",
        "ft_mad <- removeZeroVar(as.data.frame(ft))"
      ],
      "metadata": {
        "id": "pHHqXgHf0yZw"
      },
      "execution_count": 24,
      "outputs": []
    },
    {
      "cell_type": "code",
      "source": [
        "dim(ft_mad)"
      ],
      "metadata": {
        "colab": {
          "base_uri": "https://localhost:8080/",
          "height": 34
        },
        "id": "i4o044ud03IO",
        "outputId": "2327c8dd-b22c-4716-8ae0-6f6f38d4b537"
      },
      "execution_count": 25,
      "outputs": [
        {
          "output_type": "display_data",
          "data": {
            "text/html": [
              "<style>\n",
              ".list-inline {list-style: none; margin:0; padding: 0}\n",
              ".list-inline>li {display: inline-block}\n",
              ".list-inline>li:not(:last-child)::after {content: \"\\00b7\"; padding: 0 .5ex}\n",
              "</style>\n",
              "<ol class=list-inline><li>80</li><li>2681</li></ol>\n"
            ],
            "text/markdown": "1. 80\n2. 2681\n\n\n",
            "text/latex": "\\begin{enumerate*}\n\\item 80\n\\item 2681\n\\end{enumerate*}\n",
            "text/plain": [
              "[1]   80 2681"
            ]
          },
          "metadata": {}
        }
      ]
    },
    {
      "cell_type": "code",
      "source": [
        "# number of features with zero variance that have been removed\n",
        "dim(ft)[2]-dim(ft_mad)[2]"
      ],
      "metadata": {
        "colab": {
          "base_uri": "https://localhost:8080/",
          "height": 34
        },
        "id": "wkqM4hIb08aW",
        "outputId": "88e1a4e0-7217-43c6-fa75-ed7ef5183560"
      },
      "execution_count": 26,
      "outputs": [
        {
          "output_type": "display_data",
          "data": {
            "text/html": [
              "3078"
            ],
            "text/markdown": "3078",
            "text/latex": "3078",
            "text/plain": [
              "[1] 3078"
            ]
          },
          "metadata": {}
        }
      ]
    },
    {
      "cell_type": "code",
      "source": [
        "# center and scale data\n",
        "ft_mad <- scale(ft_mad, center = T, scale = T)"
      ],
      "metadata": {
        "id": "CnkisVr41AgY"
      },
      "execution_count": 27,
      "outputs": []
    },
    {
      "cell_type": "markdown",
      "source": [
        "###<b>Predicting variables of interest using XGBoost: specie (E.coli vs B.subtilis) and samples type (with_treatment vs without_treatment)"
      ],
      "metadata": {
        "id": "5-afpNfF1Cpj"
      }
    },
    {
      "cell_type": "code",
      "source": [
        "df_ft <- cbind(ft_mad,md[,colnames(md) %in% c('specie','sample_class')])"
      ],
      "metadata": {
        "id": "PcQjMDpS1X_T"
      },
      "execution_count": 28,
      "outputs": []
    },
    {
      "cell_type": "code",
      "source": [
        "head(df_ft)"
      ],
      "metadata": {
        "colab": {
          "base_uri": "https://localhost:8080/",
          "height": 306
        },
        "id": "NgLe6Ty02WVl",
        "outputId": "3615020d-eb52-47f2-f040-ca716ca4c055"
      },
      "execution_count": 29,
      "outputs": [
        {
          "output_type": "display_data",
          "data": {
            "text/html": [
              "<table class=\"dataframe\">\n",
              "<caption>A data.frame: 6 × 2683</caption>\n",
              "<thead>\n",
              "\t<tr><th></th><th scope=col>48_284.049_0.296</th><th scope=col>97_245.095_0.521</th><th scope=col>105_181.097_0.521</th><th scope=col>108_157.097_0.52</th><th scope=col>114_160.076_0.522</th><th scope=col>120_169.097_0.525</th><th scope=col>128_318.184_0.528</th><th scope=col>132_166.086_0.53</th><th scope=col>135_167.082_0.549</th><th scope=col>137_176.093_0.531</th><th scope=col>⋯</th><th scope=col>12356_230.89_8.216</th><th scope=col>12357_248.9_8.216</th><th scope=col>12361_304.894_8.146</th><th scope=col>12386_245.128_8.986</th><th scope=col>12440_161.082_9.725</th><th scope=col>12447_179.093_9.788</th><th scope=col>12450_261.123_9.888</th><th scope=col>12453_261.123_9.91</th><th scope=col>specie</th><th scope=col>sample_class</th></tr>\n",
              "\t<tr><th></th><th scope=col>&lt;dbl&gt;</th><th scope=col>&lt;dbl&gt;</th><th scope=col>&lt;dbl&gt;</th><th scope=col>&lt;dbl&gt;</th><th scope=col>&lt;dbl&gt;</th><th scope=col>&lt;dbl&gt;</th><th scope=col>&lt;dbl&gt;</th><th scope=col>&lt;dbl&gt;</th><th scope=col>&lt;dbl&gt;</th><th scope=col>&lt;dbl&gt;</th><th scope=col>⋯</th><th scope=col>&lt;dbl&gt;</th><th scope=col>&lt;dbl&gt;</th><th scope=col>&lt;dbl&gt;</th><th scope=col>&lt;dbl&gt;</th><th scope=col>&lt;dbl&gt;</th><th scope=col>&lt;dbl&gt;</th><th scope=col>&lt;dbl&gt;</th><th scope=col>&lt;dbl&gt;</th><th scope=col>&lt;dbl&gt;</th><th scope=col>&lt;dbl&gt;</th></tr>\n",
              "</thead>\n",
              "<tbody>\n",
              "\t<tr><th scope=row>t0_BS_1.mzML</th><td>-0.6168322</td><td> 4.0956043</td><td> 3.8650103</td><td>-0.003362348</td><td> 0.006553771</td><td> 0.53553422</td><td> 4.372654</td><td>-0.1396324</td><td>-0.418012795</td><td> 0.1581816</td><td>⋯</td><td>-2.565059</td><td>-2.252947</td><td>-2.1589838</td><td>-1.8525635</td><td> 0.13065179</td><td>-2.566046</td><td>-1.19292385</td><td>-1.10238102</td><td>0</td><td>1</td></tr>\n",
              "\t<tr><th scope=row>t0_BS_2.mzML</th><td>-0.3747503</td><td> 0.7574282</td><td> 0.7752285</td><td>-0.900048251</td><td>-0.590212212</td><td>-0.29088181</td><td> 1.128212</td><td>-0.4776738</td><td> 0.000651775</td><td>-0.7993604</td><td>⋯</td><td>-2.420095</td><td>-2.469295</td><td>-2.1589838</td><td>-1.3388755</td><td> 0.31907776</td><td>-2.589249</td><td>-0.58186227</td><td>-1.05233257</td><td>0</td><td>1</td></tr>\n",
              "\t<tr><th scope=row>t0_BS_3.mzML</th><td>-0.7325215</td><td> 1.8904446</td><td> 1.9986529</td><td>-0.730500429</td><td>-0.648525149</td><td> 0.09243916</td><td> 2.455633</td><td>-0.3928906</td><td> 0.040081473</td><td>-0.2613945</td><td>⋯</td><td>-2.263430</td><td>-2.446386</td><td>-0.8708073</td><td>-1.1564185</td><td>-0.07058729</td><td>-2.505116</td><td>-0.60834943</td><td>-1.36187909</td><td>0</td><td>1</td></tr>\n",
              "\t<tr><th scope=row>t0_BS_C.mzML</th><td>-1.0288643</td><td>-1.5535295</td><td>-1.6682436</td><td>-0.900048251</td><td>-1.549008396</td><td>-2.62385333</td><td>-1.304320</td><td>-1.3950675</td><td>-2.800795535</td><td>-2.1139146</td><td>⋯</td><td>-2.086352</td><td>-2.613392</td><td>-0.8612362</td><td>-2.5612446</td><td> 1.15904264</td><td>-2.505059</td><td>-0.59936106</td><td>-1.61320556</td><td>0</td><td>0</td></tr>\n",
              "\t<tr><th scope=row>t0_Ec_1.mzML</th><td>-1.2583890</td><td> 1.8231409</td><td> 1.6999582</td><td> 0.229365477</td><td>-0.382085983</td><td> 0.29955390</td><td> 2.196443</td><td>-0.1489465</td><td>-0.907073219</td><td> 0.3809616</td><td>⋯</td><td>-2.314209</td><td>-2.705907</td><td>-1.4637296</td><td>-1.1494103</td><td> 0.77905327</td><td>-2.447650</td><td>-0.30012755</td><td>-1.95319669</td><td>1</td><td>1</td></tr>\n",
              "\t<tr><th scope=row>t0_Ec_2.mzML</th><td>-1.0415979</td><td> 3.0657557</td><td> 3.0280019</td><td> 1.055251187</td><td> 0.038978517</td><td> 0.88318882</td><td> 3.649432</td><td>-0.2735918</td><td>-0.676069975</td><td> 1.0314033</td><td>⋯</td><td>-2.081827</td><td>-1.694283</td><td>-1.1234631</td><td>-0.8641662</td><td> 0.74387266</td><td>-2.444769</td><td>-0.08682396</td><td>-0.05899818</td><td>1</td><td>1</td></tr>\n",
              "</tbody>\n",
              "</table>\n"
            ],
            "text/markdown": "\nA data.frame: 6 × 2683\n\n| <!--/--> | 48_284.049_0.296 &lt;dbl&gt; | 97_245.095_0.521 &lt;dbl&gt; | 105_181.097_0.521 &lt;dbl&gt; | 108_157.097_0.52 &lt;dbl&gt; | 114_160.076_0.522 &lt;dbl&gt; | 120_169.097_0.525 &lt;dbl&gt; | 128_318.184_0.528 &lt;dbl&gt; | 132_166.086_0.53 &lt;dbl&gt; | 135_167.082_0.549 &lt;dbl&gt; | 137_176.093_0.531 &lt;dbl&gt; | ⋯ ⋯ | 12356_230.89_8.216 &lt;dbl&gt; | 12357_248.9_8.216 &lt;dbl&gt; | 12361_304.894_8.146 &lt;dbl&gt; | 12386_245.128_8.986 &lt;dbl&gt; | 12440_161.082_9.725 &lt;dbl&gt; | 12447_179.093_9.788 &lt;dbl&gt; | 12450_261.123_9.888 &lt;dbl&gt; | 12453_261.123_9.91 &lt;dbl&gt; | specie &lt;dbl&gt; | sample_class &lt;dbl&gt; |\n|---|---|---|---|---|---|---|---|---|---|---|---|---|---|---|---|---|---|---|---|---|---|\n| t0_BS_1.mzML | -0.6168322 |  4.0956043 |  3.8650103 | -0.003362348 |  0.006553771 |  0.53553422 |  4.372654 | -0.1396324 | -0.418012795 |  0.1581816 | ⋯ | -2.565059 | -2.252947 | -2.1589838 | -1.8525635 |  0.13065179 | -2.566046 | -1.19292385 | -1.10238102 | 0 | 1 |\n| t0_BS_2.mzML | -0.3747503 |  0.7574282 |  0.7752285 | -0.900048251 | -0.590212212 | -0.29088181 |  1.128212 | -0.4776738 |  0.000651775 | -0.7993604 | ⋯ | -2.420095 | -2.469295 | -2.1589838 | -1.3388755 |  0.31907776 | -2.589249 | -0.58186227 | -1.05233257 | 0 | 1 |\n| t0_BS_3.mzML | -0.7325215 |  1.8904446 |  1.9986529 | -0.730500429 | -0.648525149 |  0.09243916 |  2.455633 | -0.3928906 |  0.040081473 | -0.2613945 | ⋯ | -2.263430 | -2.446386 | -0.8708073 | -1.1564185 | -0.07058729 | -2.505116 | -0.60834943 | -1.36187909 | 0 | 1 |\n| t0_BS_C.mzML | -1.0288643 | -1.5535295 | -1.6682436 | -0.900048251 | -1.549008396 | -2.62385333 | -1.304320 | -1.3950675 | -2.800795535 | -2.1139146 | ⋯ | -2.086352 | -2.613392 | -0.8612362 | -2.5612446 |  1.15904264 | -2.505059 | -0.59936106 | -1.61320556 | 0 | 0 |\n| t0_Ec_1.mzML | -1.2583890 |  1.8231409 |  1.6999582 |  0.229365477 | -0.382085983 |  0.29955390 |  2.196443 | -0.1489465 | -0.907073219 |  0.3809616 | ⋯ | -2.314209 | -2.705907 | -1.4637296 | -1.1494103 |  0.77905327 | -2.447650 | -0.30012755 | -1.95319669 | 1 | 1 |\n| t0_Ec_2.mzML | -1.0415979 |  3.0657557 |  3.0280019 |  1.055251187 |  0.038978517 |  0.88318882 |  3.649432 | -0.2735918 | -0.676069975 |  1.0314033 | ⋯ | -2.081827 | -1.694283 | -1.1234631 | -0.8641662 |  0.74387266 | -2.444769 | -0.08682396 | -0.05899818 | 1 | 1 |\n\n",
            "text/latex": "A data.frame: 6 × 2683\n\\begin{tabular}{r|lllllllllllllllllllll}\n  & 48\\_284.049\\_0.296 & 97\\_245.095\\_0.521 & 105\\_181.097\\_0.521 & 108\\_157.097\\_0.52 & 114\\_160.076\\_0.522 & 120\\_169.097\\_0.525 & 128\\_318.184\\_0.528 & 132\\_166.086\\_0.53 & 135\\_167.082\\_0.549 & 137\\_176.093\\_0.531 & ⋯ & 12356\\_230.89\\_8.216 & 12357\\_248.9\\_8.216 & 12361\\_304.894\\_8.146 & 12386\\_245.128\\_8.986 & 12440\\_161.082\\_9.725 & 12447\\_179.093\\_9.788 & 12450\\_261.123\\_9.888 & 12453\\_261.123\\_9.91 & specie & sample\\_class\\\\\n  & <dbl> & <dbl> & <dbl> & <dbl> & <dbl> & <dbl> & <dbl> & <dbl> & <dbl> & <dbl> & ⋯ & <dbl> & <dbl> & <dbl> & <dbl> & <dbl> & <dbl> & <dbl> & <dbl> & <dbl> & <dbl>\\\\\n\\hline\n\tt0\\_BS\\_1.mzML & -0.6168322 &  4.0956043 &  3.8650103 & -0.003362348 &  0.006553771 &  0.53553422 &  4.372654 & -0.1396324 & -0.418012795 &  0.1581816 & ⋯ & -2.565059 & -2.252947 & -2.1589838 & -1.8525635 &  0.13065179 & -2.566046 & -1.19292385 & -1.10238102 & 0 & 1\\\\\n\tt0\\_BS\\_2.mzML & -0.3747503 &  0.7574282 &  0.7752285 & -0.900048251 & -0.590212212 & -0.29088181 &  1.128212 & -0.4776738 &  0.000651775 & -0.7993604 & ⋯ & -2.420095 & -2.469295 & -2.1589838 & -1.3388755 &  0.31907776 & -2.589249 & -0.58186227 & -1.05233257 & 0 & 1\\\\\n\tt0\\_BS\\_3.mzML & -0.7325215 &  1.8904446 &  1.9986529 & -0.730500429 & -0.648525149 &  0.09243916 &  2.455633 & -0.3928906 &  0.040081473 & -0.2613945 & ⋯ & -2.263430 & -2.446386 & -0.8708073 & -1.1564185 & -0.07058729 & -2.505116 & -0.60834943 & -1.36187909 & 0 & 1\\\\\n\tt0\\_BS\\_C.mzML & -1.0288643 & -1.5535295 & -1.6682436 & -0.900048251 & -1.549008396 & -2.62385333 & -1.304320 & -1.3950675 & -2.800795535 & -2.1139146 & ⋯ & -2.086352 & -2.613392 & -0.8612362 & -2.5612446 &  1.15904264 & -2.505059 & -0.59936106 & -1.61320556 & 0 & 0\\\\\n\tt0\\_Ec\\_1.mzML & -1.2583890 &  1.8231409 &  1.6999582 &  0.229365477 & -0.382085983 &  0.29955390 &  2.196443 & -0.1489465 & -0.907073219 &  0.3809616 & ⋯ & -2.314209 & -2.705907 & -1.4637296 & -1.1494103 &  0.77905327 & -2.447650 & -0.30012755 & -1.95319669 & 1 & 1\\\\\n\tt0\\_Ec\\_2.mzML & -1.0415979 &  3.0657557 &  3.0280019 &  1.055251187 &  0.038978517 &  0.88318882 &  3.649432 & -0.2735918 & -0.676069975 &  1.0314033 & ⋯ & -2.081827 & -1.694283 & -1.1234631 & -0.8641662 &  0.74387266 & -2.444769 & -0.08682396 & -0.05899818 & 1 & 1\\\\\n\\end{tabular}\n",
            "text/plain": [
              "             48_284.049_0.296 97_245.095_0.521 105_181.097_0.521\n",
              "t0_BS_1.mzML -0.6168322        4.0956043        3.8650103       \n",
              "t0_BS_2.mzML -0.3747503        0.7574282        0.7752285       \n",
              "t0_BS_3.mzML -0.7325215        1.8904446        1.9986529       \n",
              "t0_BS_C.mzML -1.0288643       -1.5535295       -1.6682436       \n",
              "t0_Ec_1.mzML -1.2583890        1.8231409        1.6999582       \n",
              "t0_Ec_2.mzML -1.0415979        3.0657557        3.0280019       \n",
              "             108_157.097_0.52 114_160.076_0.522 120_169.097_0.525\n",
              "t0_BS_1.mzML -0.003362348      0.006553771       0.53553422      \n",
              "t0_BS_2.mzML -0.900048251     -0.590212212      -0.29088181      \n",
              "t0_BS_3.mzML -0.730500429     -0.648525149       0.09243916      \n",
              "t0_BS_C.mzML -0.900048251     -1.549008396      -2.62385333      \n",
              "t0_Ec_1.mzML  0.229365477     -0.382085983       0.29955390      \n",
              "t0_Ec_2.mzML  1.055251187      0.038978517       0.88318882      \n",
              "             128_318.184_0.528 132_166.086_0.53 135_167.082_0.549\n",
              "t0_BS_1.mzML  4.372654         -0.1396324       -0.418012795     \n",
              "t0_BS_2.mzML  1.128212         -0.4776738        0.000651775     \n",
              "t0_BS_3.mzML  2.455633         -0.3928906        0.040081473     \n",
              "t0_BS_C.mzML -1.304320         -1.3950675       -2.800795535     \n",
              "t0_Ec_1.mzML  2.196443         -0.1489465       -0.907073219     \n",
              "t0_Ec_2.mzML  3.649432         -0.2735918       -0.676069975     \n",
              "             137_176.093_0.531 ⋯ 12356_230.89_8.216 12357_248.9_8.216\n",
              "t0_BS_1.mzML  0.1581816        ⋯ -2.565059          -2.252947        \n",
              "t0_BS_2.mzML -0.7993604        ⋯ -2.420095          -2.469295        \n",
              "t0_BS_3.mzML -0.2613945        ⋯ -2.263430          -2.446386        \n",
              "t0_BS_C.mzML -2.1139146        ⋯ -2.086352          -2.613392        \n",
              "t0_Ec_1.mzML  0.3809616        ⋯ -2.314209          -2.705907        \n",
              "t0_Ec_2.mzML  1.0314033        ⋯ -2.081827          -1.694283        \n",
              "             12361_304.894_8.146 12386_245.128_8.986 12440_161.082_9.725\n",
              "t0_BS_1.mzML -2.1589838          -1.8525635           0.13065179        \n",
              "t0_BS_2.mzML -2.1589838          -1.3388755           0.31907776        \n",
              "t0_BS_3.mzML -0.8708073          -1.1564185          -0.07058729        \n",
              "t0_BS_C.mzML -0.8612362          -2.5612446           1.15904264        \n",
              "t0_Ec_1.mzML -1.4637296          -1.1494103           0.77905327        \n",
              "t0_Ec_2.mzML -1.1234631          -0.8641662           0.74387266        \n",
              "             12447_179.093_9.788 12450_261.123_9.888 12453_261.123_9.91 specie\n",
              "t0_BS_1.mzML -2.566046           -1.19292385         -1.10238102        0     \n",
              "t0_BS_2.mzML -2.589249           -0.58186227         -1.05233257        0     \n",
              "t0_BS_3.mzML -2.505116           -0.60834943         -1.36187909        0     \n",
              "t0_BS_C.mzML -2.505059           -0.59936106         -1.61320556        0     \n",
              "t0_Ec_1.mzML -2.447650           -0.30012755         -1.95319669        1     \n",
              "t0_Ec_2.mzML -2.444769           -0.08682396         -0.05899818        1     \n",
              "             sample_class\n",
              "t0_BS_1.mzML 1           \n",
              "t0_BS_2.mzML 1           \n",
              "t0_BS_3.mzML 1           \n",
              "t0_BS_C.mzML 0           \n",
              "t0_Ec_1.mzML 1           \n",
              "t0_Ec_2.mzML 1           "
            ]
          },
          "metadata": {}
        }
      ]
    },
    {
      "cell_type": "markdown",
      "source": [
        "We start by predicting the specie. The first step is to split our data in a train and test set. The train, as the name itself refers to, will be used to train the model and learn which features are the most important in the model for predicting the specie. The test set is kept away from the training phase and is going to be used for evaluating the model performance.<br>\n",
        "\n",
        "70% of the input data will be used for training the model and 30% for the test set (if we had more data, 80%-20% would be preferred)."
      ],
      "metadata": {
        "id": "voM3whgO3Di9"
      }
    },
    {
      "cell_type": "code",
      "source": [
        "# Split in train and test sets\n",
        "# Set random seed to make results reproducible\n",
        "set.seed(1234)\n",
        "trainIndex <- caret::createDataPartition(df_ft$specie, p = 0.7, \n",
        "                                  list = FALSE, \n",
        "                                  times = 1)\n",
        "\n",
        "ftTrain <- df_ft[trainIndex,]\n",
        "ftTest  <- df_ft[-trainIndex,]\n",
        "\n",
        "dim(ftTrain)\n",
        "dim(ftTest)"
      ],
      "metadata": {
        "colab": {
          "base_uri": "https://localhost:8080/",
          "height": 52
        },
        "id": "UrLZVBkd25v7",
        "outputId": "292f0e09-d973-47ac-f942-bc6a05f5e32c"
      },
      "execution_count": 30,
      "outputs": [
        {
          "output_type": "display_data",
          "data": {
            "text/html": [
              "<style>\n",
              ".list-inline {list-style: none; margin:0; padding: 0}\n",
              ".list-inline>li {display: inline-block}\n",
              ".list-inline>li:not(:last-child)::after {content: \"\\00b7\"; padding: 0 .5ex}\n",
              "</style>\n",
              "<ol class=list-inline><li>56</li><li>2683</li></ol>\n"
            ],
            "text/markdown": "1. 56\n2. 2683\n\n\n",
            "text/latex": "\\begin{enumerate*}\n\\item 56\n\\item 2683\n\\end{enumerate*}\n",
            "text/plain": [
              "[1]   56 2683"
            ]
          },
          "metadata": {}
        },
        {
          "output_type": "display_data",
          "data": {
            "text/html": [
              "<style>\n",
              ".list-inline {list-style: none; margin:0; padding: 0}\n",
              ".list-inline>li {display: inline-block}\n",
              ".list-inline>li:not(:last-child)::after {content: \"\\00b7\"; padding: 0 .5ex}\n",
              "</style>\n",
              "<ol class=list-inline><li>24</li><li>2683</li></ol>\n"
            ],
            "text/markdown": "1. 24\n2. 2683\n\n\n",
            "text/latex": "\\begin{enumerate*}\n\\item 24\n\\item 2683\n\\end{enumerate*}\n",
            "text/plain": [
              "[1]   24 2683"
            ]
          },
          "metadata": {}
        }
      ]
    },
    {
      "cell_type": "code",
      "source": [
        "table(ftTrain$specie)\n",
        "table(ftTest$specie)"
      ],
      "metadata": {
        "colab": {
          "base_uri": "https://localhost:8080/",
          "height": 126
        },
        "id": "ZtzzRael5PpS",
        "outputId": "8d9407a0-43a3-4a35-863e-731b9a8e8498"
      },
      "execution_count": 31,
      "outputs": [
        {
          "output_type": "display_data",
          "data": {
            "text/plain": [
              "\n",
              " 0  1 \n",
              "28 28 "
            ]
          },
          "metadata": {}
        },
        {
          "output_type": "display_data",
          "data": {
            "text/plain": [
              "\n",
              " 0  1 \n",
              "12 12 "
            ]
          },
          "metadata": {}
        }
      ]
    },
    {
      "cell_type": "code",
      "source": [
        "# format inputs for the next steps\n",
        "train_x <- ftTrain[,1:ncol(ft_mad)]\n",
        "train_y <- as.factor(ftTrain$specie)\n",
        "test_x <- ftTest[,1:ncol(ft_mad)]\n",
        "test_y <- as.factor(ftTest$specie)"
      ],
      "metadata": {
        "id": "tQrKOEdF5sDl"
      },
      "execution_count": 32,
      "outputs": []
    },
    {
      "cell_type": "code",
      "source": [
        "dim(train_x)\n",
        "table(train_y)\n",
        "dim(test_x)\n",
        "table(test_y)"
      ],
      "metadata": {
        "colab": {
          "base_uri": "https://localhost:8080/",
          "height": 161
        },
        "id": "-Ex1uIpS6rZE",
        "outputId": "ca332807-7c8c-4cbd-e460-4adeef9a92f2"
      },
      "execution_count": 33,
      "outputs": [
        {
          "output_type": "display_data",
          "data": {
            "text/html": [
              "<style>\n",
              ".list-inline {list-style: none; margin:0; padding: 0}\n",
              ".list-inline>li {display: inline-block}\n",
              ".list-inline>li:not(:last-child)::after {content: \"\\00b7\"; padding: 0 .5ex}\n",
              "</style>\n",
              "<ol class=list-inline><li>56</li><li>2681</li></ol>\n"
            ],
            "text/markdown": "1. 56\n2. 2681\n\n\n",
            "text/latex": "\\begin{enumerate*}\n\\item 56\n\\item 2681\n\\end{enumerate*}\n",
            "text/plain": [
              "[1]   56 2681"
            ]
          },
          "metadata": {}
        },
        {
          "output_type": "display_data",
          "data": {
            "text/plain": [
              "train_y\n",
              " 0  1 \n",
              "28 28 "
            ]
          },
          "metadata": {}
        },
        {
          "output_type": "display_data",
          "data": {
            "text/html": [
              "<style>\n",
              ".list-inline {list-style: none; margin:0; padding: 0}\n",
              ".list-inline>li {display: inline-block}\n",
              ".list-inline>li:not(:last-child)::after {content: \"\\00b7\"; padding: 0 .5ex}\n",
              "</style>\n",
              "<ol class=list-inline><li>24</li><li>2681</li></ol>\n"
            ],
            "text/markdown": "1. 24\n2. 2681\n\n\n",
            "text/latex": "\\begin{enumerate*}\n\\item 24\n\\item 2681\n\\end{enumerate*}\n",
            "text/plain": [
              "[1]   24 2681"
            ]
          },
          "metadata": {}
        },
        {
          "output_type": "display_data",
          "data": {
            "text/plain": [
              "test_y\n",
              " 0  1 \n",
              "12 12 "
            ]
          },
          "metadata": {}
        }
      ]
    },
    {
      "cell_type": "markdown",
      "source": [
        "First, we perform the analysis without tuning the parameters, by using default/recommended parameters."
      ],
      "metadata": {
        "id": "p9f_baUE66k6"
      }
    },
    {
      "cell_type": "code",
      "source": [
        "# set default/recommended parameters for XGBoost\n",
        "grid_default <- expand.grid(\n",
        "  nrounds = 500,\n",
        "  max_depth = 6,\n",
        "  eta = 0.3,\n",
        "  gamma = 0,\n",
        "  colsample_bytree = 1,\n",
        "  min_child_weight = 1,\n",
        "  subsample = 1\n",
        ")\n",
        "\n",
        "# this function tells how the trian will be performed (in this case we do not apply any tuning of the parameters)\n",
        "train_control <- caret::trainControl(\n",
        "  method = \"none\",\n",
        "  verboseIter = FALSE,\n",
        "  allowParallel = FALSE # FALSE for reproducible results \n",
        ")\n",
        "\n",
        "# perform the actual training\n",
        "set.seed(1234)\n",
        "xgb_base <- caret::train(\n",
        "  x = train_x, y = train_y,\n",
        "  trControl = train_control,\n",
        "  tuneGrid = grid_default,\n",
        "  method = \"xgbTree\",\n",
        "  verbose = TRUE\n",
        ")"
      ],
      "metadata": {
        "id": "drWl0GTX7WSb"
      },
      "execution_count": 34,
      "outputs": []
    },
    {
      "cell_type": "code",
      "source": [
        "xgb_base"
      ],
      "metadata": {
        "colab": {
          "base_uri": "https://localhost:8080/",
          "height": 162
        },
        "id": "T9q3Tmnb7w_2",
        "outputId": "c497576c-a9ff-458e-e86a-e29090e1abac"
      },
      "execution_count": 35,
      "outputs": [
        {
          "output_type": "display_data",
          "data": {
            "text/plain": [
              "eXtreme Gradient Boosting \n",
              "\n",
              "  56 samples\n",
              "2681 predictors\n",
              "   2 classes: '0', '1' \n",
              "\n",
              "No pre-processing\n",
              "Resampling: None "
            ]
          },
          "metadata": {}
        }
      ]
    },
    {
      "cell_type": "code",
      "source": [
        "# We now predict on test data\n",
        "predicted_base <- predict(xgb_base, test_x)\n",
        "# evaluate performance\n",
        "confusionMatrix(data = predicted_base, reference = test_y, positive = '1', mode = 'everything')"
      ],
      "metadata": {
        "colab": {
          "base_uri": "https://localhost:8080/",
          "height": 562
        },
        "id": "uD5t2CI_74Rs",
        "outputId": "f8275a13-385c-4ca5-a0f3-4f7d4738fb7c"
      },
      "execution_count": 36,
      "outputs": [
        {
          "output_type": "display_data",
          "data": {
            "text/plain": [
              "Confusion Matrix and Statistics\n",
              "\n",
              "          Reference\n",
              "Prediction  0  1\n",
              "         0 11  0\n",
              "         1  1 12\n",
              "                                          \n",
              "               Accuracy : 0.9583          \n",
              "                 95% CI : (0.7888, 0.9989)\n",
              "    No Information Rate : 0.5             \n",
              "    P-Value [Acc > NIR] : 1.49e-06        \n",
              "                                          \n",
              "                  Kappa : 0.9167          \n",
              "                                          \n",
              " Mcnemar's Test P-Value : 1               \n",
              "                                          \n",
              "            Sensitivity : 1.0000          \n",
              "            Specificity : 0.9167          \n",
              "         Pos Pred Value : 0.9231          \n",
              "         Neg Pred Value : 1.0000          \n",
              "              Precision : 0.9231          \n",
              "                 Recall : 1.0000          \n",
              "                     F1 : 0.9600          \n",
              "             Prevalence : 0.5000          \n",
              "         Detection Rate : 0.5000          \n",
              "   Detection Prevalence : 0.5417          \n",
              "      Balanced Accuracy : 0.9583          \n",
              "                                          \n",
              "       'Positive' Class : 1               \n",
              "                                          "
            ]
          },
          "metadata": {}
        }
      ]
    },
    {
      "cell_type": "code",
      "source": [
        "# predict on test data (this time we keep the probabilities)\n",
        "prediction_probs_base <- predict(xgb_base, test_x, type = \"prob\")\n",
        "# ROC curve\n",
        "ROC_base <- pROC::roc(test_y, prediction_probs_base[,2]) # for class 1 (i.e. E.coli)\n",
        "# Area Under Curve (AUC)\n",
        "AUC_base <- pROC::auc(ROC_base)"
      ],
      "metadata": {
        "colab": {
          "base_uri": "https://localhost:8080/"
        },
        "id": "lDFJog4B8Dcy",
        "outputId": "24cd71ce-38fb-4fe5-e5fa-45ca47f67d51"
      },
      "execution_count": 37,
      "outputs": [
        {
          "output_type": "stream",
          "name": "stderr",
          "text": [
            "Setting levels: control = 0, case = 1\n",
            "\n",
            "Setting direction: controls < cases\n",
            "\n"
          ]
        }
      ]
    },
    {
      "cell_type": "code",
      "source": [
        "# plot ROC curve\n",
        "plot(ROC_base, col = \"darkred\", main = NULL)\n",
        "# print performance\n",
        "paste(\"Accuracy: \", mean(test_y == round(prediction_probs_base[,2], digits = 0)))\n",
        "paste(\"Area Under the Curve: \", AUC_base)"
      ],
      "metadata": {
        "colab": {
          "base_uri": "https://localhost:8080/",
          "height": 472
        },
        "id": "n390pm728RIx",
        "outputId": "a996265f-15df-463a-e3ec-bf054126a855"
      },
      "execution_count": 38,
      "outputs": [
        {
          "output_type": "display_data",
          "data": {
            "text/html": [
              "<span style=white-space:pre-wrap>'Accuracy:  0.958333333333333'</span>"
            ],
            "text/markdown": "<span style=white-space:pre-wrap>'Accuracy:  0.958333333333333'</span>",
            "text/latex": "'Accuracy:  0.958333333333333'",
            "text/plain": [
              "[1] \"Accuracy:  0.958333333333333\""
            ]
          },
          "metadata": {}
        },
        {
          "output_type": "display_data",
          "data": {
            "text/html": [
              "<span style=white-space:pre-wrap>'Area Under the Curve:  0.989583333333333'</span>"
            ],
            "text/markdown": "<span style=white-space:pre-wrap>'Area Under the Curve:  0.989583333333333'</span>",
            "text/latex": "'Area Under the Curve:  0.989583333333333'",
            "text/plain": [
              "[1] \"Area Under the Curve:  0.989583333333333\""
            ]
          },
          "metadata": {}
        },
        {
          "output_type": "display_data",
          "data": {
            "text/plain": [
              "plot without title"
            ],
            "image/png": "[encoded data removed]"
          },
          "metadata": {
            "image/png": {
              "width": 420,
              "height": 420
            }
          }
        }
      ]
    },
    {
      "cell_type": "markdown",
      "source": [
        "From the result above we can conclude that it's quite easy to predict the specie. Which features are the most important in the prediction? <br>\n",
        "\n",
        "There are many ways to find out which features contribute the most to the predictive model. In the following, we will simply apply the inbuilt function in the caret package. Other useful packages for this purpose exist such as iml (https://cran.r-project.org/web/packages/iml/index.html) and SHAPforxgboost (https://cran.r-project.org/web/packages/SHAPforxgboost/readme/README.html). The SHAP analysis is also included in the xgboost package (see below for this analysis).\n",
        "\n"
      ],
      "metadata": {
        "id": "7JzNeM7w9AD8"
      }
    },
    {
      "cell_type": "code",
      "source": [
        "# function implemented in caret. The higher the value compared to another feature, the more important is the \n",
        "# feature that contributed to the prediction\n",
        "var_imp_base <- varImp(xgb_base, scale = T) # use scale = T to scale to 100\n",
        "var_imp_base"
      ],
      "metadata": {
        "colab": {
          "base_uri": "https://localhost:8080/",
          "height": 471
        },
        "id": "MSj9XlZg9krF",
        "outputId": "6c313953-86fe-4164-c3de-c37d45a6098d"
      },
      "execution_count": 39,
      "outputs": [
        {
          "output_type": "display_data",
          "data": {
            "text/plain": [
              "xgbTree variable importance\n",
              "\n",
              "  only 20 most important variables shown (out of 2681)\n",
              "\n",
              "                    Overall\n",
              "1002_213.102_1.957  100.000\n",
              "8724_906.826_6.332   70.120\n",
              "8803_413.323_6.287   59.136\n",
              "8117_1022.673_6.202  41.613\n",
              "8130_1044.656_6.206   5.546\n",
              "667_565.177_1.607     0.000\n",
              "579_565.177_1.605     0.000\n",
              "1149_273.157_2.141    0.000\n",
              "6995_574.373_5.861    0.000\n",
              "2963_168.066_3.171    0.000\n",
              "4154_264.159_4.29     0.000\n",
              "9260_490.87_6.545     0.000\n",
              "1489_271.144_2.33     0.000\n",
              "5962_453.167_5.429    0.000\n",
              "10807_556.86_7.476    0.000\n",
              "4726_294.117_4.908    0.000\n",
              "4970_332.296_5.005    0.000\n",
              "1069_223.106_2.14     0.000\n",
              "1254_352.095_2.192    0.000\n",
              "2508_269.15_2.884     0.000"
            ]
          },
          "metadata": {}
        }
      ]
    },
    {
      "cell_type": "markdown",
      "source": [
        "As we can see, very few features are enough to drive the prediction."
      ],
      "metadata": {
        "id": "VjlfbzoW96J7"
      }
    },
    {
      "cell_type": "code",
      "source": [
        "# you can also plot the importance\n",
        "plot(var_imp_base, top = 10)"
      ],
      "metadata": {
        "colab": {
          "base_uri": "https://localhost:8080/",
          "height": 437
        },
        "id": "a1CQmokC-HUk",
        "outputId": "11c998c1-e652-4e6f-ec44-9496667091e4"
      },
      "execution_count": 40,
      "outputs": [
        {
          "output_type": "display_data",
          "data": {
            "text/plain": [
              "plot without title"
            ],
            "image/png": "[encoded data removed]"
          },
          "metadata": {
            "image/png": {
              "width": 420,
              "height": 420
            }
          }
        }
      ]
    },
    {
      "cell_type": "markdown",
      "source": [
        "###<b>Let's predict the sample type now.</b>"
      ],
      "metadata": {
        "id": "4rKpIHRkFepx"
      }
    },
    {
      "cell_type": "code",
      "source": [
        "# Split in train and test sets\n",
        "# Set random seed to make results reproducible\n",
        "set.seed(1234)\n",
        "trainIndex_st <- caret::createDataPartition(df_ft$sample_class, p = 0.7, \n",
        "                                  list = FALSE, \n",
        "                                  times = 1)\n",
        "\n",
        "ftTrain_st <- df_ft[trainIndex_st,]\n",
        "ftTest_st  <- df_ft[-trainIndex_st,]\n",
        "\n",
        "dim(ftTrain_st)\n",
        "dim(ftTest_st)"
      ],
      "metadata": {
        "colab": {
          "base_uri": "https://localhost:8080/",
          "height": 52
        },
        "id": "n9qBSILmHOBS",
        "outputId": "15d5109d-9008-4bd0-c986-1cac83f5bc28"
      },
      "execution_count": 41,
      "outputs": [
        {
          "output_type": "display_data",
          "data": {
            "text/html": [
              "<style>\n",
              ".list-inline {list-style: none; margin:0; padding: 0}\n",
              ".list-inline>li {display: inline-block}\n",
              ".list-inline>li:not(:last-child)::after {content: \"\\00b7\"; padding: 0 .5ex}\n",
              "</style>\n",
              "<ol class=list-inline><li>56</li><li>2683</li></ol>\n"
            ],
            "text/markdown": "1. 56\n2. 2683\n\n\n",
            "text/latex": "\\begin{enumerate*}\n\\item 56\n\\item 2683\n\\end{enumerate*}\n",
            "text/plain": [
              "[1]   56 2683"
            ]
          },
          "metadata": {}
        },
        {
          "output_type": "display_data",
          "data": {
            "text/html": [
              "<style>\n",
              ".list-inline {list-style: none; margin:0; padding: 0}\n",
              ".list-inline>li {display: inline-block}\n",
              ".list-inline>li:not(:last-child)::after {content: \"\\00b7\"; padding: 0 .5ex}\n",
              "</style>\n",
              "<ol class=list-inline><li>24</li><li>2683</li></ol>\n"
            ],
            "text/markdown": "1. 24\n2. 2683\n\n\n",
            "text/latex": "\\begin{enumerate*}\n\\item 24\n\\item 2683\n\\end{enumerate*}\n",
            "text/plain": [
              "[1]   24 2683"
            ]
          },
          "metadata": {}
        }
      ]
    },
    {
      "cell_type": "code",
      "source": [
        "# format inputs for the next steps\n",
        "train_st_x <- ftTrain_st[,1:ncol(ft_mad)]\n",
        "train_st_y <- as.factor(ftTrain_st$sample_class)\n",
        "test_st_x <- ftTest_st[,1:ncol(ft_mad)]\n",
        "test_st_y <- as.factor(ftTest_st$sample_class)"
      ],
      "metadata": {
        "id": "03eAEn0NFc2-"
      },
      "execution_count": 42,
      "outputs": []
    },
    {
      "cell_type": "code",
      "source": [
        "dim(train_st_x)\n",
        "table(train_st_y)\n",
        "dim(test_st_x)\n",
        "table(test_st_y)"
      ],
      "metadata": {
        "colab": {
          "base_uri": "https://localhost:8080/",
          "height": 161
        },
        "id": "pjfzsFdzGT0k",
        "outputId": "485806aa-8c29-4702-8338-9a5f6b470ebf"
      },
      "execution_count": 43,
      "outputs": [
        {
          "output_type": "display_data",
          "data": {
            "text/html": [
              "<style>\n",
              ".list-inline {list-style: none; margin:0; padding: 0}\n",
              ".list-inline>li {display: inline-block}\n",
              ".list-inline>li:not(:last-child)::after {content: \"\\00b7\"; padding: 0 .5ex}\n",
              "</style>\n",
              "<ol class=list-inline><li>56</li><li>2681</li></ol>\n"
            ],
            "text/markdown": "1. 56\n2. 2681\n\n\n",
            "text/latex": "\\begin{enumerate*}\n\\item 56\n\\item 2681\n\\end{enumerate*}\n",
            "text/plain": [
              "[1]   56 2681"
            ]
          },
          "metadata": {}
        },
        {
          "output_type": "display_data",
          "data": {
            "text/plain": [
              "train_st_y\n",
              " 0  1 \n",
              "14 42 "
            ]
          },
          "metadata": {}
        },
        {
          "output_type": "display_data",
          "data": {
            "text/html": [
              "<style>\n",
              ".list-inline {list-style: none; margin:0; padding: 0}\n",
              ".list-inline>li {display: inline-block}\n",
              ".list-inline>li:not(:last-child)::after {content: \"\\00b7\"; padding: 0 .5ex}\n",
              "</style>\n",
              "<ol class=list-inline><li>24</li><li>2681</li></ol>\n"
            ],
            "text/markdown": "1. 24\n2. 2681\n\n\n",
            "text/latex": "\\begin{enumerate*}\n\\item 24\n\\item 2681\n\\end{enumerate*}\n",
            "text/plain": [
              "[1]   24 2681"
            ]
          },
          "metadata": {}
        },
        {
          "output_type": "display_data",
          "data": {
            "text/plain": [
              "test_st_y\n",
              " 0  1 \n",
              " 6 18 "
            ]
          },
          "metadata": {}
        }
      ]
    },
    {
      "cell_type": "code",
      "source": [
        "# with default/recommended parameters for XGBoost\n",
        "# perform the actual training\n",
        "set.seed(1234)\n",
        "xgb_base_st <- caret::train(\n",
        "  x = train_st_x, y = train_st_y,\n",
        "  trControl = train_control,\n",
        "  tuneGrid = grid_default,\n",
        "  method = \"xgbTree\",\n",
        "  verbose = TRUE\n",
        ")"
      ],
      "metadata": {
        "id": "XJ3cneJNGmVc"
      },
      "execution_count": 44,
      "outputs": []
    },
    {
      "cell_type": "code",
      "source": [
        "xgb_base_st"
      ],
      "metadata": {
        "colab": {
          "base_uri": "https://localhost:8080/",
          "height": 162
        },
        "id": "hv2xwDlzGwLK",
        "outputId": "5fd6a447-eb35-4ac4-c370-a7a737ed7d5d"
      },
      "execution_count": 45,
      "outputs": [
        {
          "output_type": "display_data",
          "data": {
            "text/plain": [
              "eXtreme Gradient Boosting \n",
              "\n",
              "  56 samples\n",
              "2681 predictors\n",
              "   2 classes: '0', '1' \n",
              "\n",
              "No pre-processing\n",
              "Resampling: None "
            ]
          },
          "metadata": {}
        }
      ]
    },
    {
      "cell_type": "code",
      "source": [
        "# We now predict on test data\n",
        "predicted_base_st <- predict(xgb_base_st, test_st_x)\n",
        "# evaluate performance\n",
        "confusionMatrix(data = predicted_base_st, reference = test_st_y, positive = '1', mode = 'everything')"
      ],
      "metadata": {
        "colab": {
          "base_uri": "https://localhost:8080/",
          "height": 562
        },
        "id": "vNy9r5F0Gy7s",
        "outputId": "f896cd2f-71be-4139-aa44-8da72c3d83a6"
      },
      "execution_count": 46,
      "outputs": [
        {
          "output_type": "display_data",
          "data": {
            "text/plain": [
              "Confusion Matrix and Statistics\n",
              "\n",
              "          Reference\n",
              "Prediction  0  1\n",
              "         0  5  1\n",
              "         1  1 17\n",
              "                                        \n",
              "               Accuracy : 0.9167        \n",
              "                 95% CI : (0.73, 0.9897)\n",
              "    No Information Rate : 0.75          \n",
              "    P-Value [Acc > NIR] : 0.0398        \n",
              "                                        \n",
              "                  Kappa : 0.7778        \n",
              "                                        \n",
              " Mcnemar's Test P-Value : 1.0000        \n",
              "                                        \n",
              "            Sensitivity : 0.9444        \n",
              "            Specificity : 0.8333        \n",
              "         Pos Pred Value : 0.9444        \n",
              "         Neg Pred Value : 0.8333        \n",
              "              Precision : 0.9444        \n",
              "                 Recall : 0.9444        \n",
              "                     F1 : 0.9444        \n",
              "             Prevalence : 0.7500        \n",
              "         Detection Rate : 0.7083        \n",
              "   Detection Prevalence : 0.7500        \n",
              "      Balanced Accuracy : 0.8889        \n",
              "                                        \n",
              "       'Positive' Class : 1             \n",
              "                                        "
            ]
          },
          "metadata": {}
        }
      ]
    },
    {
      "cell_type": "code",
      "source": [
        "# predict on test data (this time we keep the probabilities)\n",
        "prediction_probs_base_st <- predict(xgb_base_st, test_st_x, type = \"prob\")\n",
        "# ROC curve\n",
        "ROC_base_st <- pROC::roc(test_st_y, prediction_probs_base_st[,2]) # for class 1 (i.e. With_Treatment)\n",
        "# Area Under Curve (AUC)\n",
        "AUC_base_st <- pROC::auc(ROC_base_st)"
      ],
      "metadata": {
        "colab": {
          "base_uri": "https://localhost:8080/"
        },
        "id": "7brLwUFcIp56",
        "outputId": "d41d11dc-ee02-4e9b-8936-4c628622be3f"
      },
      "execution_count": 47,
      "outputs": [
        {
          "output_type": "stream",
          "name": "stderr",
          "text": [
            "Setting levels: control = 0, case = 1\n",
            "\n",
            "Setting direction: controls < cases\n",
            "\n"
          ]
        }
      ]
    },
    {
      "cell_type": "code",
      "source": [
        "# plot ROC curve\n",
        "plot(ROC_base_st, col = \"darkred\", main = NULL)\n",
        "# print performance\n",
        "paste(\"Accuracy: \", mean(test_st_y == round(prediction_probs_base_st[,2], digits = 0)))\n",
        "paste(\"Area Under the Curve: \", AUC_base_st)"
      ],
      "metadata": {
        "colab": {
          "base_uri": "https://localhost:8080/",
          "height": 472
        },
        "id": "raRx6iseI7od",
        "outputId": "b5439038-acab-4646-ed4d-e99ac4c3e17e"
      },
      "execution_count": 48,
      "outputs": [
        {
          "output_type": "display_data",
          "data": {
            "text/html": [
              "<span style=white-space:pre-wrap>'Accuracy:  0.916666666666667'</span>"
            ],
            "text/markdown": "<span style=white-space:pre-wrap>'Accuracy:  0.916666666666667'</span>",
            "text/latex": "'Accuracy:  0.916666666666667'",
            "text/plain": [
              "[1] \"Accuracy:  0.916666666666667\""
            ]
          },
          "metadata": {}
        },
        {
          "output_type": "display_data",
          "data": {
            "text/html": [
              "<span style=white-space:pre-wrap>'Area Under the Curve:  0.990740740740741'</span>"
            ],
            "text/markdown": "<span style=white-space:pre-wrap>'Area Under the Curve:  0.990740740740741'</span>",
            "text/latex": "'Area Under the Curve:  0.990740740740741'",
            "text/plain": [
              "[1] \"Area Under the Curve:  0.990740740740741\""
            ]
          },
          "metadata": {}
        },
        {
          "output_type": "display_data",
          "data": {
            "text/plain": [
              "plot without title"
            ],
            "image/png": "[encoded data removed]"
          },
          "metadata": {
            "image/png": {
              "width": 420,
              "height": 420
            }
          }
        }
      ]
    },
    {
      "cell_type": "markdown",
      "source": [
        "As we can see, in this \"toy example\" we can predict treatment vs control. Let's take a look at the most important features that are behind the prediction."
      ],
      "metadata": {
        "id": "pQY5uelQJSVG"
      }
    },
    {
      "cell_type": "code",
      "source": [
        "# function implemented in caret. The higher the value compared to another feature, the more important is the \n",
        "# feature that contributed to the prediction\n",
        "var_imp_base_st <- varImp(xgb_base_st, scale = T) # use scale = T to scale to 100\n",
        "var_imp_base_st"
      ],
      "metadata": {
        "colab": {
          "base_uri": "https://localhost:8080/",
          "height": 471
        },
        "id": "-jTMHwYaJJN7",
        "outputId": "0e334668-6a80-42ca-9c14-8a6ed3dd89eb"
      },
      "execution_count": 49,
      "outputs": [
        {
          "output_type": "display_data",
          "data": {
            "text/plain": [
              "xgbTree variable importance\n",
              "\n",
              "  only 20 most important variables shown (out of 2681)\n",
              "\n",
              "                     Overall\n",
              "3226_312.084_3.382  100.0000\n",
              "3271_333.063_3.382   33.4722\n",
              "2398_255.063_2.827    2.9891\n",
              "234_195.113_0.891     0.4697\n",
              "178_245.128_0.686     0.2825\n",
              "265_190.086_0.968     0.2076\n",
              "230_216.077_0.953     0.1821\n",
              "97_245.095_0.521      0.1404\n",
              "48_284.049_0.296      0.1382\n",
              "679_378.156_1.615     0.0000\n",
              "586_629.172_1.576     0.0000\n",
              "1167_200.09_2.162     0.0000\n",
              "7005_316.321_5.771    0.0000\n",
              "2992_182.154_3.19     0.0000\n",
              "4219_326.15_4.37      0.0000\n",
              "9275_430.914_6.573    0.0000\n",
              "1497_214.152_2.331    0.0000\n",
              "6033_454.293_5.528    0.0000\n",
              "10824_538.398_7.517   0.0000\n",
              "4792_289.293_4.956    0.0000"
            ]
          },
          "metadata": {}
        }
      ]
    },
    {
      "cell_type": "markdown",
      "source": [
        "###<b>Tuning parameters</b><br>\n",
        "\n",
        "In the previous analyses, we obtained a very high performance since the difference between the two metabolic profiles for the two species and treatment vs control seem quite different. Usually, according to the difficulty of the specific task, you will need to tune the model's parameters in order to get good results and also to avoid [overfitting](https://www.ibm.com/cloud/learn/overfitting). <br>\n",
        "\n",
        "There are many ways of tuning the parameters and it's a time consuming task. Therefore for the purpose of this notebook, we are not going to perform it but you are welcome to look at this notebook https://github.com/russof85/pred_alg/blob/main/xgboost_paramTuning_variableImp.ipynb or additional info to find some inspiration for your own analyses."
      ],
      "metadata": {
        "id": "wPRC8mpS-hsp"
      }
    },
    {
      "cell_type": "code",
      "source": [
        "sessionInfo()"
      ],
      "metadata": {
        "colab": {
          "base_uri": "https://localhost:8080/",
          "height": 906
        },
        "id": "i7lzVnoLFXlH",
        "outputId": "604ac2ae-5359-472f-d4d6-77c513e34c38"
      },
      "execution_count": 50,
      "outputs": [
        {
          "output_type": "display_data",
          "data": {
            "text/plain": [
              "R version 4.2.0 (2022-04-22)\n",
              "Platform: x86_64-pc-linux-gnu (64-bit)\n",
              "Running under: Ubuntu 18.04.5 LTS\n",
              "\n",
              "Matrix products: default\n",
              "BLAS:   /usr/lib/x86_64-linux-gnu/openblas/libblas.so.3\n",
              "LAPACK: /usr/lib/x86_64-linux-gnu/libopenblasp-r0.2.20.so\n",
              "\n",
              "locale:\n",
              " [1] LC_CTYPE=en_US.UTF-8       LC_NUMERIC=C              \n",
              " [3] LC_TIME=en_US.UTF-8        LC_COLLATE=en_US.UTF-8    \n",
              " [5] LC_MONETARY=en_US.UTF-8    LC_MESSAGES=en_US.UTF-8   \n",
              " [7] LC_PAPER=en_US.UTF-8       LC_NAME=C                 \n",
              " [9] LC_ADDRESS=C               LC_TELEPHONE=C            \n",
              "[11] LC_MEASUREMENT=en_US.UTF-8 LC_IDENTIFICATION=C       \n",
              "\n",
              "attached base packages:\n",
              "[1] stats     graphics  grDevices utils     datasets  methods   base     \n",
              "\n",
              "other attached packages:\n",
              "[1] pROC_1.18.0     dplyr_1.0.9     caret_6.0-92    lattice_0.20-45\n",
              "[5] ggplot2_3.3.6   xgboost_1.6.0.1\n",
              "\n",
              "loaded via a namespace (and not attached):\n",
              " [1] Rcpp_1.0.9           lubridate_1.8.0      listenv_0.8.0       \n",
              " [4] class_7.3-20         assertthat_0.2.1     digest_0.6.29       \n",
              " [7] ipred_0.9-13         foreach_1.5.2        utf8_1.2.2          \n",
              "[10] parallelly_1.32.1    IRdisplay_1.1        R6_2.5.1            \n",
              "[13] plyr_1.8.7           repr_1.1.4           stats4_4.2.0        \n",
              "[16] hardhat_1.2.0        e1071_1.7-11         evaluate_0.15       \n",
              "[19] pillar_1.7.0         rlang_1.0.3          uuid_1.1-0          \n",
              "[22] data.table_1.14.2    rpart_4.1.16         Matrix_1.4-1        \n",
              "[25] splines_4.2.0        stringr_1.4.0        gower_1.0.0         \n",
              "[28] munsell_0.5.0        proxy_0.4-27         compiler_4.2.0      \n",
              "[31] pkgconfig_2.0.3      base64enc_0.1-3      globals_0.15.1      \n",
              "[34] htmltools_0.5.2      nnet_7.3-17          tidyselect_1.1.2    \n",
              "[37] tibble_3.1.7         prodlim_2019.11.13   codetools_0.2-18    \n",
              "[40] fansi_1.0.3          future_1.27.0        crayon_1.5.1        \n",
              "[43] withr_2.5.0          ModelMetrics_1.2.2.2 MASS_7.3-57         \n",
              "[46] recipes_1.0.1        grid_4.2.0           nlme_3.1-157        \n",
              "[49] jsonlite_1.8.0       gtable_0.3.0         lifecycle_1.0.1     \n",
              "[52] DBI_1.1.3            magrittr_2.0.3       scales_1.2.0        \n",
              "[55] stringi_1.7.6        future.apply_1.9.0   cli_3.3.0           \n",
              "[58] reshape2_1.4.4       timeDate_4021.104    ellipsis_0.3.2      \n",
              "[61] generics_0.1.3       vctrs_0.4.1          IRkernel_1.3        \n",
              "[64] lava_1.6.10          iterators_1.0.14     tools_4.2.0         \n",
              "[67] glue_1.6.2           purrr_0.3.4          parallel_4.2.0      \n",
              "[70] fastmap_1.1.0        survival_3.3-1       colorspace_2.0-3    \n",
              "[73] pbdZMQ_0.3-7        "
            ]
          },
          "metadata": {}
        }
      ]
    }
  ]
}